{
 "cells": [
  {
   "cell_type": "markdown",
   "metadata": {},
   "source": [
    "# Section: Securing Federated Learning\n",
    "\n",
    "- Lesson 1: Trusted Aggregator\n",
    "- Lesson 2: Intro to Additive Secret Sharing\n",
    "- Lesson 3: Intro to Fixed Precision Encoding\n",
    "- Lesson 4: Secret Sharing + Fixed Precision in PySyft\n",
    "- Final Project: Federated Learning wtih Encrypted Gradient Aggregation"
   ]
  },
  {
   "cell_type": "markdown",
   "metadata": {},
   "source": [
    "# Lesson: Federated Learning with a Trusted Aggregator\n",
    "\n",
    "In the last section, we learned how to train a model on a distributed dataset using Federated Learning. In particular, the last project aggregated gradients directly from one data owner to another. \n",
    "\n",
    "However, while in some cases it could be ideal to do this, what would be even better is to be able to choose a neutral third party to perform the aggregation.\n",
    "\n",
    "As it turns out, we can use the same tools we used previously to accomplish this."
   ]
  },
  {
   "cell_type": "markdown",
   "metadata": {},
   "source": [
    "# Project: Federated Learning with a Trusted Aggregator"
   ]
  },
  {
   "cell_type": "code",
   "execution_count": 1,
   "metadata": {},
   "outputs": [],
   "source": [
    "# try this project here!"
   ]
  },
  {
   "cell_type": "code",
   "execution_count": 2,
   "metadata": {},
   "outputs": [
    {
     "name": "stderr",
     "output_type": "stream",
     "text": [
      "WARNING:tf_encrypted:Falling back to insecure randomness since the required custom op could not be found for the installed version of TensorFlow (1.13.1). Fix this by compiling custom ops.\n"
     ]
    }
   ],
   "source": [
    "import torch as th\n",
    "from torch import nn, optim\n",
    "import syft as sy\n",
    "\n",
    "hook = sy.TorchHook(th)"
   ]
  },
  {
   "cell_type": "code",
   "execution_count": 3,
   "metadata": {},
   "outputs": [
    {
     "name": "stderr",
     "output_type": "stream",
     "text": [
      "WARNING:root:Worker user2 already exists. Replacing old worker which could cause                     unexpected behavior\n",
      "WARNING:root:Worker concentrator already exists. Replacing old worker which could cause                     unexpected behavior\n",
      "WARNING:root:Worker user1 already exists. Replacing old worker which could cause                     unexpected behavior\n",
      "WARNING:root:Worker concentrator already exists. Replacing old worker which could cause                     unexpected behavior\n",
      "WARNING:root:Worker user1 already exists. Replacing old worker which could cause                     unexpected behavior\n",
      "WARNING:root:Worker user2 already exists. Replacing old worker which could cause                     unexpected behavior\n"
     ]
    },
    {
     "name": "stdout",
     "output_type": "stream",
     "text": [
      "{}\n",
      "{}\n",
      "{}\n"
     ]
    }
   ],
   "source": [
    "user1 = sy.VirtualWorker(hook, id='user1')\n",
    "user2 = sy.VirtualWorker(hook, id='user2')\n",
    "concentrator = sy.VirtualWorker(hook, id='concentrator')\n",
    "\n",
    "user1.add_workers([user2, concentrator])\n",
    "user2.add_workers([user1, concentrator])\n",
    "concentrator.add_workers([user1, user2])\n",
    "\n",
    "print(user1._objects)\n",
    "print(user2._objects)\n",
    "print(concentrator._objects)"
   ]
  },
  {
   "cell_type": "code",
   "execution_count": 4,
   "metadata": {},
   "outputs": [],
   "source": [
    "# A Toy Dataset\n",
    "data = th.tensor([[1.,1],[0,1],[1,0],[0,0]], requires_grad=True)\n",
    "target = th.tensor([[1.],[1], [0], [0]], requires_grad=True)\n",
    "\n",
    "# Distribute the datsets\n",
    "data1 = data[:2].send(user1)\n",
    "target1 = target[:2].send(user1)\n",
    "\n",
    "data2 = data[2:].send(user2)\n",
    "target2 = target[2:].send(user2)\n",
    "\n",
    "datasets = [(data1, target1, user1), (data2, target2, user2)]"
   ]
  },
  {
   "cell_type": "code",
   "execution_count": 5,
   "metadata": {},
   "outputs": [],
   "source": [
    "def train(iterations=20, steps_per_round=10):\n",
    "\n",
    "    model = nn.Linear(2,1)\n",
    "    \n",
    "    for round_iter in range(iterations):\n",
    "        # Distribute the models\n",
    "        user1_model = model.copy().send(user1)\n",
    "        user1_opt = optim.SGD(params=user1_model.parameters(), lr=0.1)\n",
    "        user2_model = model.copy().send(user2)\n",
    "        user2_opt = optim.SGD(params=user2_model.parameters(), lr=0.1)\n",
    "\n",
    "        for i in range(steps_per_round):\n",
    "            # user1 training\n",
    "            user1_opt.zero_grad()\n",
    "            user1_pred = user1_model(data1)\n",
    "            user1_loss = ((user1_pred - target1)**2).sum()\n",
    "            user1_loss.backward()\n",
    "            user1_opt.step()\n",
    "\n",
    "            # user2 training\n",
    "            user2_opt.zero_grad()\n",
    "            user2_pred = user2_model(data2)\n",
    "            user2_loss = ((user2_pred - target2)**2).sum()\n",
    "            user2_loss.backward()\n",
    "            user2_opt.step()\n",
    "\n",
    "        # Aggregate the models\n",
    "        user1_model.move(concentrator)\n",
    "        user2_model.move(concentrator)\n",
    "        with th.no_grad():\n",
    "            model.weight.set_(((user1_model.weight.data + user2_model.weight.data) / 2).get())\n",
    "            model.bias.set_(((user1_model.bias.data + user2_model.bias.data) / 2).get())\n",
    "        \n",
    "        # Print the loss\n",
    "        user1_loss = user1_loss.get()\n",
    "        user2_loss = user2_loss.get()\n",
    "        print('user1 loss: {},   user2 loss: {}'.format(user1_loss, user2_loss))\n",
    "    \n",
    "    concentrator.clear_objects()\n",
    "\n",
    "    return model"
   ]
  },
  {
   "cell_type": "code",
   "execution_count": 6,
   "metadata": {},
   "outputs": [
    {
     "name": "stdout",
     "output_type": "stream",
     "text": [
      "user1 loss: 0.014233489520847797,   user2 loss: 0.005528910551220179\n",
      "user1 loss: 0.006420702673494816,   user2 loss: 0.00020944108837284148\n",
      "user1 loss: 0.002157557522878051,   user2 loss: 0.00021038809791207314\n",
      "user1 loss: 0.0008175794500857592,   user2 loss: 0.0006332125049084425\n",
      "user1 loss: 0.00037761038402095437,   user2 loss: 0.0007557716453447938\n",
      "user1 loss: 0.00020870684238616377,   user2 loss: 0.0006956604192964733\n",
      "user1 loss: 0.00013125743134878576,   user2 loss: 0.0005762622458860278\n",
      "user1 loss: 8.947880996856838e-05,   user2 loss: 0.00045474895159713924\n",
      "user1 loss: 6.38752753729932e-05,   user2 loss: 0.00035048704012297094\n",
      "user1 loss: 4.675448144553229e-05,   user2 loss: 0.00026696251006796956\n",
      "user1 loss: 3.468142676865682e-05,   user2 loss: 0.000202131865080446\n",
      "user1 loss: 2.5904009817168117e-05,   user2 loss: 0.0001525801490060985\n",
      "user1 loss: 1.9417399016674608e-05,   user2 loss: 0.00011499658285174519\n",
      "user1 loss: 1.4582522453565616e-05,   user2 loss: 8.660159073770046e-05\n",
      "user1 loss: 1.0961575753754005e-05,   user2 loss: 6.519121961900964e-05\n",
      "user1 loss: 8.243488991865888e-06,   user2 loss: 4.906379399471916e-05\n",
      "user1 loss: 6.2009989960643e-06,   user2 loss: 3.692213067552075e-05\n",
      "user1 loss: 4.665509550250135e-06,   user2 loss: 2.7783547920989804e-05\n",
      "user1 loss: 3.5102250421914505e-06,   user2 loss: 2.0906270947307348e-05\n",
      "user1 loss: 2.641198989294935e-06,   user2 loss: 1.5731120583950542e-05\n",
      "user1 loss: 1.987185896723531e-06,   user2 loss: 1.1836936209874693e-05\n",
      "user1 loss: 1.495398009865312e-06,   user2 loss: 8.90670889930334e-06\n",
      "user1 loss: 1.1251552223257022e-06,   user2 loss: 6.701840447931318e-06\n",
      "user1 loss: 8.465615337627241e-07,   user2 loss: 5.0427861424395815e-06\n",
      "user1 loss: 6.370215714923688e-07,   user2 loss: 3.794429630943341e-06\n",
      "user1 loss: 4.793542984771193e-07,   user2 loss: 2.855101911336533e-06\n",
      "user1 loss: 3.606550080803572e-07,   user2 loss: 2.148318571926211e-06\n",
      "user1 loss: 2.714369884415646e-07,   user2 loss: 1.6164938188012457e-06\n",
      "user1 loss: 2.042246620703736e-07,   user2 loss: 1.2163289966338198e-06\n",
      "user1 loss: 1.5369096217909828e-07,   user2 loss: 9.152242910204222e-07\n",
      "user1 loss: 1.1558439894088224e-07,   user2 loss: 6.886610890433076e-07\n",
      "user1 loss: 8.702697584794805e-08,   user2 loss: 5.181774440643494e-07\n",
      "user1 loss: 6.545822373027477e-08,   user2 loss: 3.899046419064689e-07\n",
      "user1 loss: 4.926721786091548e-08,   user2 loss: 2.9338167450987385e-07\n",
      "user1 loss: 3.7069938230160915e-08,   user2 loss: 2.20754756696806e-07\n",
      "user1 loss: 2.7879707431566203e-08,   user2 loss: 1.6610587749710248e-07\n",
      "user1 loss: 2.097963047731355e-08,   user2 loss: 1.2498601620336558e-07\n",
      "user1 loss: 1.5787282592327756e-08,   user2 loss: 9.404472223195626e-08\n",
      "user1 loss: 1.1875798122673586e-08,   user2 loss: 7.076349817225491e-08\n",
      "user1 loss: 8.935344908422849e-09,   user2 loss: 5.324570651055183e-08\n",
      "user1 loss: 6.725077383862299e-09,   user2 loss: 4.0064229267500195e-08\n",
      "user1 loss: 5.059906271753789e-09,   user2 loss: 3.0145709928319775e-08\n",
      "user1 loss: 3.802654191531474e-09,   user2 loss: 2.268362742086083e-08\n",
      "user1 loss: 2.863373538275482e-09,   user2 loss: 1.7067735669229478e-08\n",
      "user1 loss: 2.157904077648709e-09,   user2 loss: 1.284199591111701e-08\n",
      "user1 loss: 1.6203216546273325e-09,   user2 loss: 9.663112976454613e-09\n",
      "user1 loss: 1.218737111230439e-09,   user2 loss: 7.271346635917553e-09\n",
      "user1 loss: 9.187175464830943e-10,   user2 loss: 5.471016528701966e-09\n",
      "user1 loss: 6.906226701630658e-10,   user2 loss: 4.1165852948665815e-09\n",
      "user1 loss: 5.197513530674769e-10,   user2 loss: 3.0973874576289973e-09\n"
     ]
    }
   ],
   "source": [
    "model = train(50, 10)"
   ]
  },
  {
   "cell_type": "code",
   "execution_count": 7,
   "metadata": {},
   "outputs": [
    {
     "data": {
      "text/plain": [
       "tensor([[9.9964e-01],\n",
       "        [9.9966e-01],\n",
       "        [2.4950e-04],\n",
       "        [2.7023e-04]], grad_fn=<AddmmBackward>)"
      ]
     },
     "execution_count": 7,
     "metadata": {},
     "output_type": "execute_result"
    }
   ],
   "source": [
    "model(data)"
   ]
  },
  {
   "cell_type": "code",
   "execution_count": 8,
   "metadata": {},
   "outputs": [
    {
     "data": {
      "text/plain": [
       "tensor([[1.],\n",
       "        [1.],\n",
       "        [0.],\n",
       "        [0.]], requires_grad=True)"
      ]
     },
     "execution_count": 8,
     "metadata": {},
     "output_type": "execute_result"
    }
   ],
   "source": [
    "target"
   ]
  },
  {
   "cell_type": "markdown",
   "metadata": {},
   "source": [
    "# Lesson: Intro to Additive Secret Sharing\n",
    "\n",
    "While being able to have a trusted third party to perform the aggregation is certainly nice, in an ideal setting we wouldn't have to trust anyone at all. This is where Cryptography can provide an interesting alterantive. \n",
    "\n",
    "Specifically, we're going to be looking at a simple protocol for Secure Multi-Party Computation called Additive Secret Sharing. This protocol will allow multiple parties (of size 3 or more) to aggregate their gradients without the use of a trusted 3rd party to perform the aggregation. In other words, we can add 3 numbers together from 3 different people without anyone ever learning the inputs of any other actors.\n",
    "\n",
    "Let's start by considering the number 5, which we'll put into a varible x"
   ]
  },
  {
   "cell_type": "code",
   "execution_count": 9,
   "metadata": {},
   "outputs": [],
   "source": [
    "x = 5"
   ]
  },
  {
   "cell_type": "markdown",
   "metadata": {},
   "source": [
    "Let's say we wanted to SHARE the ownership of this number between two people, Alice and Bob. We could split this number into two shares, 2, and 3, and give one to Alice and one to Bob"
   ]
  },
  {
   "cell_type": "code",
   "execution_count": 10,
   "metadata": {},
   "outputs": [
    {
     "data": {
      "text/plain": [
       "5"
      ]
     },
     "execution_count": 10,
     "metadata": {},
     "output_type": "execute_result"
    }
   ],
   "source": [
    "bob_x_share = 2\n",
    "alice_x_share = 3\n",
    "\n",
    "decrypted_x = bob_x_share + alice_x_share\n",
    "decrypted_x"
   ]
  },
  {
   "cell_type": "markdown",
   "metadata": {},
   "source": [
    "Note that neither Bob nor Alice know the value of x. They only know the value of their own SHARE of x. Thus, the true value of X is hidden (i.e., encrypted). \n",
    "\n",
    "The truly amazing thing, however, is that Alice and Bob can still compute using this value! They can perform arithmetic over the hidden value! Let's say Bob and Alice wanted to multiply this value by 2! If each of them multiplied their respective share by 2, then the hidden number between them is also multiplied! Check it out!"
   ]
  },
  {
   "cell_type": "code",
   "execution_count": 11,
   "metadata": {},
   "outputs": [
    {
     "data": {
      "text/plain": [
       "10"
      ]
     },
     "execution_count": 11,
     "metadata": {},
     "output_type": "execute_result"
    }
   ],
   "source": [
    "bob_x_share = 2 * 2\n",
    "alice_x_share = 3 * 2\n",
    "\n",
    "decrypted_x = bob_x_share + alice_x_share\n",
    "decrypted_x"
   ]
  },
  {
   "cell_type": "markdown",
   "metadata": {},
   "source": [
    "This even works for addition between two shared values!!"
   ]
  },
  {
   "cell_type": "code",
   "execution_count": 12,
   "metadata": {},
   "outputs": [
    {
     "data": {
      "text/plain": [
       "12"
      ]
     },
     "execution_count": 12,
     "metadata": {},
     "output_type": "execute_result"
    }
   ],
   "source": [
    "# encrypted \"5\"\n",
    "bob_x_share = 2\n",
    "alice_x_share = 3\n",
    "\n",
    "# encrypted \"7\"\n",
    "bob_y_share = 5\n",
    "alice_y_share = 2\n",
    "\n",
    "# encrypted 5 + 7\n",
    "bob_z_share = bob_x_share + bob_y_share\n",
    "alice_z_share = alice_x_share + alice_y_share\n",
    "\n",
    "decrypted_z = bob_z_share + alice_z_share\n",
    "decrypted_z"
   ]
  },
  {
   "cell_type": "markdown",
   "metadata": {},
   "source": [
    "As you can see, we just added two numbers together while they were still encrypted!!!\n",
    "\n",
    "One small tweak - notice that since all our numbers are positive, it's possible for each share to reveal a little bit of information about the hidden value, namely, it's always greater than the share. Thus, if Bob has a share \"3\" then he knows that the encrypted value is at least 3.\n",
    "\n",
    "This would be quite bad, but can be solved through a simple fix. Decryption happens by summing all the shares together MODULUS some constant. I.e."
   ]
  },
  {
   "cell_type": "code",
   "execution_count": 13,
   "metadata": {},
   "outputs": [
    {
     "data": {
      "text/plain": [
       "23740629843736686616461"
      ]
     },
     "execution_count": 13,
     "metadata": {},
     "output_type": "execute_result"
    }
   ],
   "source": [
    "x = 5\n",
    "\n",
    "Q = 23740629843760239486723\n",
    "\n",
    "bob_x_share = 23552870267 # <- a random number\n",
    "alice_x_share = Q - bob_x_share + x\n",
    "alice_x_share"
   ]
  },
  {
   "cell_type": "code",
   "execution_count": 14,
   "metadata": {},
   "outputs": [
    {
     "data": {
      "text/plain": [
       "5"
      ]
     },
     "execution_count": 14,
     "metadata": {},
     "output_type": "execute_result"
    }
   ],
   "source": [
    "(bob_x_share + alice_x_share) % Q"
   ]
  },
  {
   "cell_type": "markdown",
   "metadata": {},
   "source": [
    "So now, as you can see, both shares are wildly larger than the number being shared, meaning that individual shares no longer leak this inforation. However, all the properties we discussed earlier still hold! (addition, encryption, decryption, etc.)"
   ]
  },
  {
   "cell_type": "markdown",
   "metadata": {},
   "source": [
    "# Project: Build Methods for Encrypt, Decrypt, and Add \n",
    "\n",
    "In this project, you must take the lessons we learned in the last section and write general methods for encrypt, decrypt, and add. Store shares for a variable in a tuple like so."
   ]
  },
  {
   "cell_type": "code",
   "execution_count": 15,
   "metadata": {},
   "outputs": [],
   "source": [
    "x_share = (2,5,7)"
   ]
  },
  {
   "cell_type": "markdown",
   "metadata": {},
   "source": [
    "Even though normally those shares would be distributed amongst several workers, you can store them in ordered tuples like this for now :)"
   ]
  },
  {
   "cell_type": "code",
   "execution_count": 16,
   "metadata": {},
   "outputs": [],
   "source": [
    "# try this project here!\n",
    "import numpy as np"
   ]
  },
  {
   "cell_type": "code",
   "execution_count": 17,
   "metadata": {},
   "outputs": [],
   "source": [
    "def encrypt(x, n_splits, Q):\n",
    "    \"\"\"\n",
    "    Args:\n",
    "        x(int): The number to 'encrypt'\n",
    "        n_splits(int): The number of workers to split the shares.\n",
    "        Q(int): The large number to use for the modulus operation\n",
    "    Returns:\n",
    "        tuple: The tuple of shares\n",
    "    \"\"\"\n",
    "    shares = np.random.randint(0, Q, size=n_splits)\n",
    "    shares[-1] = Q - (shares[:-1].sum() % Q) + x\n",
    "    return tuple(shares)"
   ]
  },
  {
   "cell_type": "code",
   "execution_count": 18,
   "metadata": {},
   "outputs": [],
   "source": [
    "def decrypt(shares, Q):\n",
    "    \"\"\"\n",
    "    Args:\n",
    "        shares(tuple): The 'encrypted' shares\n",
    "    Returns:\n",
    "        int: The decrypted value\n",
    "    \"\"\"\n",
    "    return sum(shares) % Q"
   ]
  },
  {
   "cell_type": "code",
   "execution_count": 19,
   "metadata": {},
   "outputs": [],
   "source": [
    "def add(share1, share2):\n",
    "    return (s1 + s2 for s1, s2 in zip(share1, share2))"
   ]
  },
  {
   "cell_type": "code",
   "execution_count": 20,
   "metadata": {},
   "outputs": [
    {
     "data": {
      "text/plain": [
       "(12155319478627, 11585310365808)"
      ]
     },
     "execution_count": 20,
     "metadata": {},
     "output_type": "execute_result"
    }
   ],
   "source": [
    "Q = 23740629843760\n",
    "shares = encrypt(675, 2, Q)\n",
    "shares"
   ]
  },
  {
   "cell_type": "code",
   "execution_count": 21,
   "metadata": {},
   "outputs": [
    {
     "data": {
      "text/plain": [
       "675"
      ]
     },
     "execution_count": 21,
     "metadata": {},
     "output_type": "execute_result"
    }
   ],
   "source": [
    "decrypt(shares, Q)"
   ]
  },
  {
   "cell_type": "code",
   "execution_count": 22,
   "metadata": {},
   "outputs": [
    {
     "data": {
      "text/plain": [
       "1107"
      ]
     },
     "execution_count": 22,
     "metadata": {},
     "output_type": "execute_result"
    }
   ],
   "source": [
    "a = 342\n",
    "b = 765\n",
    "a + b"
   ]
  },
  {
   "cell_type": "code",
   "execution_count": 23,
   "metadata": {},
   "outputs": [
    {
     "data": {
      "text/plain": [
       "1107"
      ]
     },
     "execution_count": 23,
     "metadata": {},
     "output_type": "execute_result"
    }
   ],
   "source": [
    "Q = 23740629843760\n",
    "n_splits = 50\n",
    "a_e = encrypt(a, n_splits, Q)\n",
    "b_e = encrypt(b, n_splits, Q)\n",
    "s_e = add(a_e, b_e)\n",
    "decrypt(s_e, Q)"
   ]
  },
  {
   "cell_type": "markdown",
   "metadata": {},
   "source": [
    "### Course solution"
   ]
  },
  {
   "cell_type": "code",
   "execution_count": 24,
   "metadata": {},
   "outputs": [],
   "source": [
    "import random"
   ]
  },
  {
   "cell_type": "code",
   "execution_count": 25,
   "metadata": {},
   "outputs": [],
   "source": [
    "Q = 23740629843760239486723\n",
    "x = 5"
   ]
  },
  {
   "cell_type": "code",
   "execution_count": 26,
   "metadata": {},
   "outputs": [],
   "source": [
    "def encrypt(x, n_shares=3):\n",
    "    n_shares = 3\n",
    "    shares = list()\n",
    "    for i in range(n_shares - 1):\n",
    "        shares.append(random.randint(0, Q))\n",
    "\n",
    "    shares.append(Q - (sum(shares) % Q) + x)\n",
    "    return tuple(shares)"
   ]
  },
  {
   "cell_type": "code",
   "execution_count": 27,
   "metadata": {},
   "outputs": [],
   "source": [
    "def decrypt(shares):\n",
    "    return sum(shares) % Q"
   ]
  },
  {
   "cell_type": "code",
   "execution_count": 28,
   "metadata": {},
   "outputs": [],
   "source": [
    "def add(a, b):\n",
    "    return (s1 + s2 for s1, s2 in zip(a, b))"
   ]
  },
  {
   "cell_type": "code",
   "execution_count": 29,
   "metadata": {},
   "outputs": [
    {
     "data": {
      "text/plain": [
       "1107"
      ]
     },
     "execution_count": 29,
     "metadata": {},
     "output_type": "execute_result"
    }
   ],
   "source": [
    "a = 342\n",
    "b = 765\n",
    "a + b"
   ]
  },
  {
   "cell_type": "code",
   "execution_count": 30,
   "metadata": {},
   "outputs": [
    {
     "data": {
      "text/plain": [
       "1107"
      ]
     },
     "execution_count": 30,
     "metadata": {},
     "output_type": "execute_result"
    }
   ],
   "source": [
    "decrypt(add(encrypt(a), encrypt(b)))"
   ]
  },
  {
   "cell_type": "markdown",
   "metadata": {},
   "source": [
    "# Lesson: Intro to Fixed Precision Encoding\n",
    "\n",
    "As you may remember, our goal is to aggregate gradients using this new Secret Sharing technique. However, the protocol we've just explored in the last section uses positive integers. However, our neural network weights are NOT integers. Instead, our weights are decimals (floating point numbers).\n",
    "\n",
    "Not a huge deal! We just need to use a fixed precision encoding, which lets us do computation over decimal numbers using integers!"
   ]
  },
  {
   "cell_type": "code",
   "execution_count": 31,
   "metadata": {},
   "outputs": [],
   "source": [
    "BASE=10\n",
    "PRECISION=4"
   ]
  },
  {
   "cell_type": "code",
   "execution_count": 32,
   "metadata": {},
   "outputs": [],
   "source": [
    "def encode(x):\n",
    "    return int((x * (BASE ** PRECISION)) % Q)\n",
    "\n",
    "def decode(x):\n",
    "    return (x if x <= Q/2 else x - Q) / BASE**PRECISION"
   ]
  },
  {
   "cell_type": "code",
   "execution_count": 33,
   "metadata": {},
   "outputs": [
    {
     "data": {
      "text/plain": [
       "35000"
      ]
     },
     "execution_count": 33,
     "metadata": {},
     "output_type": "execute_result"
    }
   ],
   "source": [
    "encode(3.5)"
   ]
  },
  {
   "cell_type": "code",
   "execution_count": 34,
   "metadata": {},
   "outputs": [
    {
     "data": {
      "text/plain": [
       "3.5"
      ]
     },
     "execution_count": 34,
     "metadata": {},
     "output_type": "execute_result"
    }
   ],
   "source": [
    "decode(35000)"
   ]
  },
  {
   "cell_type": "code",
   "execution_count": 35,
   "metadata": {},
   "outputs": [
    {
     "data": {
      "text/plain": [
       "7.8"
      ]
     },
     "execution_count": 35,
     "metadata": {},
     "output_type": "execute_result"
    }
   ],
   "source": [
    "x = encrypt(encode(5.5))\n",
    "y = encrypt(encode(2.3))\n",
    "z = add(x,y)\n",
    "decode(decrypt(z))"
   ]
  },
  {
   "cell_type": "markdown",
   "metadata": {},
   "source": [
    "# Lesson: Secret Sharing + Fixed Precision in PySyft\n",
    "\n",
    "While writing things from scratch is certainly educational, PySyft makes a great deal of this much easier for us through its abstractions."
   ]
  },
  {
   "cell_type": "code",
   "execution_count": 37,
   "metadata": {},
   "outputs": [],
   "source": [
    "bob = sy.VirtualWorker(hook, id='bob')\n",
    "alice = sy.VirtualWorker(hook, id='alice')\n",
    "secure_worker = sy.VirtualWorker(hook, id='secure_worker')"
   ]
  },
  {
   "cell_type": "code",
   "execution_count": 84,
   "metadata": {},
   "outputs": [],
   "source": [
    "x = th.tensor([1,2,3,4,5])"
   ]
  },
  {
   "cell_type": "markdown",
   "metadata": {},
   "source": [
    "### Secret Sharing Using PySyft\n",
    "\n",
    "We can share using the simple .share() method!"
   ]
  },
  {
   "cell_type": "code",
   "execution_count": 81,
   "metadata": {},
   "outputs": [
    {
     "data": {
      "text/plain": [
       "<VirtualWorker id:secure_worker #tensors:0>"
      ]
     },
     "execution_count": 81,
     "metadata": {},
     "output_type": "execute_result"
    }
   ],
   "source": [
    "bob.clear_objects()\n",
    "alice.clear_objects()\n",
    "secure_worker.clear_objects()"
   ]
  },
  {
   "cell_type": "code",
   "execution_count": 85,
   "metadata": {},
   "outputs": [],
   "source": [
    "x = x.share(bob, alice, secure_worker)"
   ]
  },
  {
   "cell_type": "code",
   "execution_count": 86,
   "metadata": {},
   "outputs": [
    {
     "data": {
      "text/plain": [
       "{70359730503: tensor([3374866408227520394, 3485889385843155371, 3352805840149520209,\n",
       "         1054496370300055269, 1715230210032799941])}"
      ]
     },
     "execution_count": 86,
     "metadata": {},
     "output_type": "execute_result"
    }
   ],
   "source": [
    "bob._objects"
   ]
  },
  {
   "cell_type": "code",
   "execution_count": 88,
   "metadata": {},
   "outputs": [
    {
     "data": {
      "text/plain": [
       "{38443201291: tensor([ -330039577961216550,   842410172400154683, -2810460732890040224,\n",
       "          3512318971339790530, -1064772342309215860])}"
      ]
     },
     "execution_count": 88,
     "metadata": {},
     "output_type": "execute_result"
    }
   ],
   "source": [
    "alice._objects"
   ]
  },
  {
   "cell_type": "code",
   "execution_count": 90,
   "metadata": {},
   "outputs": [
    {
     "data": {
      "text/plain": [
       "{23200242275: tensor([-3044826830266303843, -4328299558243310052,  -542345107259479982,\n",
       "         -4566815341639845795,  -650457867723584076])}"
      ]
     },
     "execution_count": 90,
     "metadata": {},
     "output_type": "execute_result"
    }
   ],
   "source": [
    "secure_worker._objects"
   ]
  },
  {
   "cell_type": "code",
   "execution_count": null,
   "metadata": {},
   "outputs": [],
   "source": []
  },
  {
   "cell_type": "markdown",
   "metadata": {},
   "source": [
    "and as you can see, Bob now has one of the shares of x! Furthermore, we can still call addition in this state, and PySyft will automatically perform the remote execution for us!"
   ]
  },
  {
   "cell_type": "code",
   "execution_count": 41,
   "metadata": {},
   "outputs": [],
   "source": [
    "y = x + x"
   ]
  },
  {
   "cell_type": "code",
   "execution_count": 42,
   "metadata": {},
   "outputs": [
    {
     "data": {
      "text/plain": [
       "(Wrapper)>[AdditiveSharingTensor]\n",
       "\t-> (Wrapper)>[PointerTensor | me:98727775431 -> bob:59554037850]\n",
       "\t-> (Wrapper)>[PointerTensor | me:8149739957 -> alice:96012424387]\n",
       "\t-> (Wrapper)>[PointerTensor | me:69173357206 -> secure_worker:91577878194]\n",
       "\t*crypto provider: me*"
      ]
     },
     "execution_count": 42,
     "metadata": {},
     "output_type": "execute_result"
    }
   ],
   "source": [
    "y"
   ]
  },
  {
   "cell_type": "code",
   "execution_count": 43,
   "metadata": {},
   "outputs": [
    {
     "data": {
      "text/plain": [
       "tensor([ 2,  4,  6,  8, 10])"
      ]
     },
     "execution_count": 43,
     "metadata": {},
     "output_type": "execute_result"
    }
   ],
   "source": [
    "y.get()"
   ]
  },
  {
   "cell_type": "markdown",
   "metadata": {},
   "source": [
    "### Fixed Precision using PySyft\n",
    "\n",
    "We can also convert a tensor to fixed precision using .fix_precision()"
   ]
  },
  {
   "cell_type": "code",
   "execution_count": 44,
   "metadata": {},
   "outputs": [],
   "source": [
    "x = th.tensor([0.1,0.2,0.3])"
   ]
  },
  {
   "cell_type": "code",
   "execution_count": 45,
   "metadata": {},
   "outputs": [
    {
     "data": {
      "text/plain": [
       "tensor([0.1000, 0.2000, 0.3000])"
      ]
     },
     "execution_count": 45,
     "metadata": {},
     "output_type": "execute_result"
    }
   ],
   "source": [
    "x"
   ]
  },
  {
   "cell_type": "code",
   "execution_count": 46,
   "metadata": {},
   "outputs": [],
   "source": [
    "x = x.fix_prec()"
   ]
  },
  {
   "cell_type": "code",
   "execution_count": 47,
   "metadata": {},
   "outputs": [
    {
     "data": {
      "text/plain": [
       "tensor([100, 200, 300])"
      ]
     },
     "execution_count": 47,
     "metadata": {},
     "output_type": "execute_result"
    }
   ],
   "source": [
    "x.child.child"
   ]
  },
  {
   "cell_type": "code",
   "execution_count": 48,
   "metadata": {},
   "outputs": [],
   "source": [
    "y = x + x"
   ]
  },
  {
   "cell_type": "code",
   "execution_count": 49,
   "metadata": {},
   "outputs": [
    {
     "data": {
      "text/plain": [
       "tensor([0.2000, 0.4000, 0.6000])"
      ]
     },
     "execution_count": 49,
     "metadata": {},
     "output_type": "execute_result"
    }
   ],
   "source": [
    "y = y.float_prec()\n",
    "y"
   ]
  },
  {
   "cell_type": "markdown",
   "metadata": {},
   "source": [
    "### Shared Fixed Precision\n",
    "\n",
    "And of course, we can combine the two!"
   ]
  },
  {
   "cell_type": "code",
   "execution_count": 50,
   "metadata": {},
   "outputs": [],
   "source": [
    "x = th.tensor([0.1, 0.2, 0.3])"
   ]
  },
  {
   "cell_type": "code",
   "execution_count": 51,
   "metadata": {},
   "outputs": [],
   "source": [
    "x = x.fix_prec().share(bob, alice, secure_worker)"
   ]
  },
  {
   "cell_type": "code",
   "execution_count": 52,
   "metadata": {},
   "outputs": [],
   "source": [
    "y = x + x"
   ]
  },
  {
   "cell_type": "code",
   "execution_count": 53,
   "metadata": {},
   "outputs": [
    {
     "data": {
      "text/plain": [
       "tensor([0.2000, 0.4000, 0.6000])"
      ]
     },
     "execution_count": 53,
     "metadata": {},
     "output_type": "execute_result"
    }
   ],
   "source": [
    "y.get().float_prec()"
   ]
  },
  {
   "cell_type": "markdown",
   "metadata": {},
   "source": [
    "Make sure to make the point that people can see the model averages in the clear."
   ]
  },
  {
   "cell_type": "code",
   "execution_count": null,
   "metadata": {},
   "outputs": [],
   "source": []
  },
  {
   "cell_type": "markdown",
   "metadata": {},
   "source": [
    "# Final Project: Federated Learning with Encrypted Gradient Aggregation"
   ]
  },
  {
   "cell_type": "code",
   "execution_count": 60,
   "metadata": {},
   "outputs": [],
   "source": [
    "user1 = user1.clear_objects()\n",
    "user2 = user2.clear_objects()\n",
    "user3 = sy.VirtualWorker(hook, id='user3')"
   ]
  },
  {
   "cell_type": "code",
   "execution_count": 66,
   "metadata": {},
   "outputs": [],
   "source": [
    "# A Toy Dataset\n",
    "data = th.tensor([[1.,1],[0,1],[1,0],[0,0],[1,1],[0,0]], requires_grad=True)\n",
    "target = th.tensor([[1.],[1],[0],[0],[1],[0]], requires_grad=True)\n",
    "\n",
    "# Distribute the datsets\n",
    "data1 = data[:2].send(user1)\n",
    "target1 = target[:2].send(user1)\n",
    "\n",
    "data2 = data[2:4].send(user2)\n",
    "target2 = target[2:4].send(user2)\n",
    "\n",
    "data3 = data[4:].send(user3)\n",
    "target3 = target[4:].send(user3)\n",
    "\n",
    "users = [user1, user2, user3]\n",
    "data_train = [data1, data2, data3]\n",
    "data_target =[target1, target2, target3]"
   ]
  },
  {
   "cell_type": "code",
   "execution_count": 120,
   "metadata": {},
   "outputs": [],
   "source": [
    "def train(iterations=20, steps_per_round=10):\n",
    "\n",
    "    model = nn.Linear(2,1)\n",
    "    \n",
    "    for round_iter in range(iterations):\n",
    "        # Distribute the models\n",
    "        models = list()\n",
    "        optimizers = list()\n",
    "        for user in users:\n",
    "            user_model = model.copy().send(user)\n",
    "            user_opt = optim.SGD(params=user_model.parameters(), lr=0.1)\n",
    "            models.append(user_model)\n",
    "            optimizers.append(user_opt)\n",
    "            \n",
    "        for user_id, data, target, m, opt in zip(range(len(users)), data_train, data_target, models, optimizers):\n",
    "            for i in range(steps_per_round):\n",
    "                # user training\n",
    "                opt.zero_grad()\n",
    "                user_pred = m(data)\n",
    "                user_loss = ((user_pred - target)**2).sum()\n",
    "                user_loss.backward()\n",
    "                opt.step()\n",
    "            \n",
    "            user_loss = user_loss.get()\n",
    "            print('User {} loss = {}'.format(user_id, user_loss))\n",
    "\n",
    "        # Aggregate the models\n",
    "        \n",
    "        # Share the models between all the users\n",
    "        weights = list()\n",
    "        bias = list()\n",
    "        for m in models:\n",
    "            weights.append(m.weight.data.fix_prec().share(*users).get())\n",
    "            bias.append(m.bias.data.fix_prec().share(*users).get())\n",
    "        \n",
    "        # Average the tensors\n",
    "        weights_sum = sum(weights)\n",
    "        bias_sum = sum(bias)\n",
    "            \n",
    "        # Set the global model\n",
    "        with th.no_grad():\n",
    "            weights_sum = weights_sum.get()\n",
    "            bias_sum = bias_sum.get()\n",
    "            model.weight.set_(weights_sum.float_prec() / len(users))\n",
    "            model.bias.set_(bias_sum.float_prec() / len(users))\n",
    "\n",
    "    return model"
   ]
  },
  {
   "cell_type": "code",
   "execution_count": 121,
   "metadata": {},
   "outputs": [
    {
     "name": "stdout",
     "output_type": "stream",
     "text": [
      "User 0 loss = 0.032475389540195465\n",
      "User 1 loss = 0.005831535439938307\n",
      "User 2 loss = 0.012939343228936195\n",
      "User 0 loss = 0.018524419516324997\n",
      "User 1 loss = 0.002802141709253192\n",
      "User 2 loss = 0.009432634338736534\n",
      "User 0 loss = 0.011404258199036121\n",
      "User 1 loss = 0.0015035668620839715\n",
      "User 2 loss = 0.006692942231893539\n",
      "User 0 loss = 0.007210960146039724\n",
      "User 1 loss = 0.0008627597126178443\n",
      "User 2 loss = 0.004617930389940739\n",
      "User 0 loss = 0.004640923347324133\n",
      "User 1 loss = 0.0005205414490774274\n",
      "User 2 loss = 0.003135288367047906\n",
      "User 0 loss = 0.003021321492269635\n",
      "User 1 loss = 0.00032552957418374717\n",
      "User 2 loss = 0.0021075396798551083\n",
      "User 0 loss = 0.0019711581990122795\n",
      "User 1 loss = 0.0002064485161099583\n",
      "User 2 loss = 0.0014055421343073249\n",
      "User 0 loss = 0.001289341482333839\n",
      "User 1 loss = 0.0001323226315435022\n",
      "User 2 loss = 0.0009337920346297324\n",
      "User 0 loss = 0.0008468147716484964\n",
      "User 1 loss = 8.542939758626744e-05\n",
      "User 2 loss = 0.0006213450687937438\n",
      "User 0 loss = 0.0005548321641981602\n",
      "User 1 loss = 5.5294854973908514e-05\n",
      "User 2 loss = 0.0004109388974029571\n",
      "User 0 loss = 0.00036602059844881296\n",
      "User 1 loss = 3.596641181502491e-05\n",
      "User 2 loss = 0.00027393572963774204\n",
      "User 0 loss = 0.00024179997853934765\n",
      "User 1 loss = 2.3626893380424008e-05\n",
      "User 2 loss = 0.0001817370648495853\n",
      "User 0 loss = 0.0001582437544129789\n",
      "User 1 loss = 1.5274412362487055e-05\n",
      "User 2 loss = 0.00012015122774755582\n",
      "User 0 loss = 0.00010394590208306909\n",
      "User 1 loss = 9.857706572802272e-06\n",
      "User 2 loss = 8.011195313883945e-05\n",
      "User 0 loss = 6.841512367827818e-05\n",
      "User 1 loss = 6.26074188403436e-06\n",
      "User 2 loss = 5.38905878784135e-05\n",
      "User 0 loss = 4.5274435251485556e-05\n",
      "User 1 loss = 4.145291313761845e-06\n",
      "User 2 loss = 3.577098686946556e-05\n",
      "User 0 loss = 2.9881975933676586e-05\n",
      "User 1 loss = 2.6743659873318393e-06\n",
      "User 2 loss = 2.40545177803142e-05\n",
      "User 0 loss = 1.9662813429022208e-05\n",
      "User 1 loss = 1.690515659902303e-06\n",
      "User 2 loss = 1.6231369954766706e-05\n",
      "User 0 loss = 1.2908121789223514e-05\n",
      "User 1 loss = 1.1040734761991189e-06\n",
      "User 2 loss = 1.0743734492280055e-05\n",
      "User 0 loss = 8.361401341971941e-06\n",
      "User 1 loss = 6.101163307903334e-07\n",
      "User 2 loss = 7.667256795684807e-06\n",
      "User 0 loss = 5.314832378644496e-06\n",
      "User 1 loss = 2.9616160190926166e-07\n",
      "User 2 loss = 5.572081590798916e-06\n",
      "User 0 loss = 3.221548240617267e-06\n",
      "User 1 loss = 1.2979097618881497e-07\n",
      "User 2 loss = 3.9062729229044635e-06\n",
      "User 0 loss = 2.2175904632604215e-06\n",
      "User 1 loss = 8.688485308994132e-08\n",
      "User 2 loss = 2.7260384740657173e-06\n",
      "User 0 loss = 1.460722273805004e-06\n",
      "User 1 loss = 5.2559961716269754e-08\n",
      "User 2 loss = 1.869511265795154e-06\n",
      "User 0 loss = 9.85547217169369e-07\n",
      "User 1 loss = 3.861548591999053e-08\n",
      "User 2 loss = 1.2115372101106914e-06\n",
      "User 0 loss = 7.268080253197695e-07\n",
      "User 1 loss = 4.695876043570024e-08\n",
      "User 2 loss = 7.369730496975535e-07\n",
      "User 0 loss = 5.073235342933913e-07\n",
      "User 1 loss = 3.383767221976086e-08\n",
      "User 2 loss = 5.134952516527846e-07\n",
      "User 0 loss = 2.990129814861575e-07\n",
      "User 1 loss = 9.653871479997633e-09\n",
      "User 2 loss = 4.012630370198167e-07\n",
      "User 0 loss = 2.088621187112949e-07\n",
      "User 1 loss = 4.290609645352106e-09\n",
      "User 2 loss = 3.302729112419911e-07\n",
      "User 0 loss = 1.652885117664482e-07\n",
      "User 1 loss = 4.290609645352106e-09\n",
      "User 2 loss = 2.4164239675883437e-07\n",
      "User 0 loss = 8.501230297497386e-08\n",
      "User 1 loss = 4.116849916524501e-10\n",
      "User 2 loss = 2.416646793790278e-07\n",
      "User 0 loss = 1.00330836971807e-07\n",
      "User 1 loss = 1.0726524113380265e-09\n",
      "User 2 loss = 1.8735021001248242e-07\n",
      "User 0 loss = 8.502769333063043e-08\n",
      "User 1 loss = 1.0726524113380265e-09\n",
      "User 2 loss = 1.5305617750982492e-07\n",
      "User 0 loss = 5.8157286986215695e-08\n",
      "User 1 loss = 1.0726524113380265e-09\n",
      "User 2 loss = 9.494573305346421e-08\n",
      "User 0 loss = 5.8157286986215695e-08\n",
      "User 1 loss = 1.0726524113380265e-09\n",
      "User 2 loss = 9.494573305346421e-08\n",
      "User 0 loss = 5.8157286986215695e-08\n",
      "User 1 loss = 1.0726524113380265e-09\n",
      "User 2 loss = 9.494573305346421e-08\n",
      "User 0 loss = 5.8157286986215695e-08\n",
      "User 1 loss = 1.0726524113380265e-09\n",
      "User 2 loss = 9.494573305346421e-08\n",
      "User 0 loss = 5.8157286986215695e-08\n",
      "User 1 loss = 1.0726524113380265e-09\n",
      "User 2 loss = 9.494573305346421e-08\n",
      "User 0 loss = 5.8157286986215695e-08\n",
      "User 1 loss = 1.0726524113380265e-09\n",
      "User 2 loss = 9.494573305346421e-08\n",
      "User 0 loss = 5.8157286986215695e-08\n",
      "User 1 loss = 1.0726524113380265e-09\n",
      "User 2 loss = 9.494573305346421e-08\n",
      "User 0 loss = 5.8157286986215695e-08\n",
      "User 1 loss = 1.0726524113380265e-09\n",
      "User 2 loss = 9.494573305346421e-08\n",
      "User 0 loss = 5.8157286986215695e-08\n",
      "User 1 loss = 1.0726524113380265e-09\n",
      "User 2 loss = 9.494573305346421e-08\n",
      "User 0 loss = 5.8157286986215695e-08\n",
      "User 1 loss = 1.0726524113380265e-09\n",
      "User 2 loss = 9.494573305346421e-08\n",
      "User 0 loss = 5.8157286986215695e-08\n",
      "User 1 loss = 1.0726524113380265e-09\n",
      "User 2 loss = 9.494573305346421e-08\n",
      "User 0 loss = 5.8157286986215695e-08\n",
      "User 1 loss = 1.0726524113380265e-09\n",
      "User 2 loss = 9.494573305346421e-08\n",
      "User 0 loss = 5.8157286986215695e-08\n",
      "User 1 loss = 1.0726524113380265e-09\n",
      "User 2 loss = 9.494573305346421e-08\n",
      "User 0 loss = 5.8157286986215695e-08\n",
      "User 1 loss = 1.0726524113380265e-09\n",
      "User 2 loss = 9.494573305346421e-08\n",
      "User 0 loss = 5.8157286986215695e-08\n",
      "User 1 loss = 1.0726524113380265e-09\n",
      "User 2 loss = 9.494573305346421e-08\n",
      "User 0 loss = 5.8157286986215695e-08\n",
      "User 1 loss = 1.0726524113380265e-09\n",
      "User 2 loss = 9.494573305346421e-08\n",
      "User 0 loss = 5.8157286986215695e-08\n",
      "User 1 loss = 1.0726524113380265e-09\n",
      "User 2 loss = 9.494573305346421e-08\n"
     ]
    }
   ],
   "source": [
    "model = train(50, 10)"
   ]
  },
  {
   "cell_type": "code",
   "execution_count": null,
   "metadata": {},
   "outputs": [],
   "source": []
  }
 ],
 "metadata": {
  "kernelspec": {
   "display_name": "deep",
   "language": "python",
   "name": "deep"
  },
  "language_info": {
   "codemirror_mode": {
    "name": "ipython",
    "version": 3
   },
   "file_extension": ".py",
   "mimetype": "text/x-python",
   "name": "python",
   "nbconvert_exporter": "python",
   "pygments_lexer": "ipython3",
   "version": "3.7.3"
  }
 },
 "nbformat": 4,
 "nbformat_minor": 2
}
