{
 "cells": [
  {
   "cell_type": "markdown",
   "metadata": {},
   "source": [
    "# Section: Securing Federated Learning\n",
    "\n",
    "- Lesson 1: Trusted Aggregator\n",
    "- Lesson 2: Intro to Additive Secret Sharing\n",
    "- Lesson 3: Intro to Fixed Precision Encoding\n",
    "- Lesson 4: Secret Sharing + Fixed Precision in PySyft\n",
    "- Final Project: Federated Learning wtih Encrypted Gradient Aggregation"
   ]
  },
  {
   "cell_type": "markdown",
   "metadata": {},
   "source": [
    "# Lesson: Federated Learning with a Trusted Aggregator\n",
    "\n",
    "In the last section, we learned how to train a model on a distributed dataset using Federated Learning. In particular, the last project aggregated gradients directly from one data owner to another. \n",
    "\n",
    "However, while in some cases it could be ideal to do this, what would be even better is to be able to choose a neutral third party to perform the aggregation.\n",
    "\n",
    "As it turns out, we can use the same tools we used previously to accomplish this."
   ]
  },
  {
   "cell_type": "markdown",
   "metadata": {},
   "source": [
    "# Project: Federated Learning with a Trusted Aggregator"
   ]
  },
  {
   "cell_type": "code",
   "execution_count": 1,
   "metadata": {},
   "outputs": [],
   "source": [
    "# try this project here!"
   ]
  },
  {
   "cell_type": "code",
   "execution_count": 1,
   "metadata": {},
   "outputs": [
    {
     "name": "stderr",
     "output_type": "stream",
     "text": [
      "WARNING:tf_encrypted:Falling back to insecure randomness since the required custom op could not be found for the installed version of TensorFlow (1.13.1). Fix this by compiling custom ops.\n"
     ]
    }
   ],
   "source": [
    "import torch as th\n",
    "from torch import nn, optim\n",
    "import syft as sy\n",
    "\n",
    "hook = sy.TorchHook(th)"
   ]
  },
  {
   "cell_type": "code",
   "execution_count": 2,
   "metadata": {},
   "outputs": [
    {
     "name": "stderr",
     "output_type": "stream",
     "text": [
      "WARNING:root:Worker user2 already exists. Replacing old worker which could cause                     unexpected behavior\n",
      "WARNING:root:Worker concentrator already exists. Replacing old worker which could cause                     unexpected behavior\n",
      "WARNING:root:Worker user1 already exists. Replacing old worker which could cause                     unexpected behavior\n",
      "WARNING:root:Worker concentrator already exists. Replacing old worker which could cause                     unexpected behavior\n",
      "WARNING:root:Worker user1 already exists. Replacing old worker which could cause                     unexpected behavior\n",
      "WARNING:root:Worker user2 already exists. Replacing old worker which could cause                     unexpected behavior\n"
     ]
    },
    {
     "name": "stdout",
     "output_type": "stream",
     "text": [
      "{}\n",
      "{}\n",
      "{}\n"
     ]
    }
   ],
   "source": [
    "user1 = sy.VirtualWorker(hook, id='user1')\n",
    "user2 = sy.VirtualWorker(hook, id='user2')\n",
    "concentrator = sy.VirtualWorker(hook, id='concentrator')\n",
    "\n",
    "user1.add_workers([user2, concentrator])\n",
    "user2.add_workers([user1, concentrator])\n",
    "concentrator.add_workers([user1, user2])\n",
    "\n",
    "print(user1._objects)\n",
    "print(user2._objects)\n",
    "print(concentrator._objects)"
   ]
  },
  {
   "cell_type": "code",
   "execution_count": 3,
   "metadata": {},
   "outputs": [],
   "source": [
    "# A Toy Dataset\n",
    "data = th.tensor([[1.,1],[0,1],[1,0],[0,0]], requires_grad=True)\n",
    "target = th.tensor([[1.],[1], [0], [0]], requires_grad=True)\n",
    "\n",
    "# Distribute the datsets\n",
    "data1 = data[:2].send(user1)\n",
    "target1 = target[:2].send(user1)\n",
    "\n",
    "data2 = data[2:].send(user2)\n",
    "target2 = target[2:].send(user2)\n",
    "\n",
    "datasets = [(data1, target1, user1), (data2, target2, user2)]"
   ]
  },
  {
   "cell_type": "code",
   "execution_count": 16,
   "metadata": {},
   "outputs": [],
   "source": [
    "def train(iterations=20, steps_per_round=10):\n",
    "\n",
    "    model = nn.Linear(2,1)\n",
    "    \n",
    "    for round_iter in range(iterations):\n",
    "        # Distribute the models\n",
    "        user1_model = model.copy().send(user1)\n",
    "        user1_opt = optim.SGD(params=user1_model.parameters(), lr=0.1)\n",
    "        user2_model = model.copy().send(user2)\n",
    "        user2_opt = optim.SGD(params=user2_model.parameters(), lr=0.1)\n",
    "\n",
    "        for i in range(steps_per_round):\n",
    "            # user1 training\n",
    "            user1_opt.zero_grad()\n",
    "            user1_pred = user1_model(data1)\n",
    "            user1_loss = ((user1_pred - target1)**2).sum()\n",
    "            user1_loss.backward()\n",
    "            user1_opt.step()\n",
    "\n",
    "            # user2 training\n",
    "            user2_opt.zero_grad()\n",
    "            user2_pred = user2_model(data2)\n",
    "            user2_loss = ((user2_pred - target2)**2).sum()\n",
    "            user2_loss.backward()\n",
    "            user2_opt.step()\n",
    "\n",
    "        # Aggregate the models\n",
    "        user1_model.move(concentrator)\n",
    "        user2_model.move(concentrator)\n",
    "        with th.no_grad():\n",
    "            model.weight.set_(((user1_model.weight.data + user2_model.weight.data) / 2).get())\n",
    "            model.bias.set_(((user1_model.bias.data + user2_model.bias.data) / 2).get())\n",
    "        \n",
    "        # Print the loss\n",
    "        user1_loss = user1_loss.get()\n",
    "        user2_loss = user2_loss.get()\n",
    "        print('user1 loss: {},   user2 loss: {}'.format(user1_loss, user2_loss))\n",
    "    \n",
    "    concentrator.clear_objects()\n",
    "\n",
    "    return model"
   ]
  },
  {
   "cell_type": "code",
   "execution_count": 17,
   "metadata": {},
   "outputs": [
    {
     "name": "stdout",
     "output_type": "stream",
     "text": [
      "user1 loss: 0.013930113986134529,   user2 loss: 0.010047199204564095\n",
      "user1 loss: 0.0009704395197331905,   user2 loss: 0.001761196763254702\n",
      "user1 loss: 9.99339681584388e-05,   user2 loss: 0.0004806247306987643\n",
      "user1 loss: 7.5853258749702945e-06,   user2 loss: 0.00017417926574125886\n",
      "user1 loss: 3.2725786525134026e-09,   user2 loss: 7.971627928782254e-05\n",
      "user1 loss: 1.2485622846725164e-06,   user2 loss: 4.39705399912782e-05\n",
      "user1 loss: 2.0801594473596197e-06,   user2 loss: 2.7636400773189962e-05\n",
      "user1 loss: 2.135548129444942e-06,   user2 loss: 1.883457116491627e-05\n",
      "user1 loss: 1.8529929093347164e-06,   user2 loss: 1.3443372154142708e-05\n",
      "user1 loss: 1.4944647546144552e-06,   user2 loss: 9.839644917519763e-06\n",
      "user1 loss: 1.164136961051554e-06,   user2 loss: 7.298437594727147e-06\n",
      "user1 loss: 8.915098987927195e-07,   user2 loss: 5.451198376249522e-06\n",
      "user1 loss: 6.767943432350876e-07,   user2 loss: 4.086145054316148e-06\n",
      "user1 loss: 5.116820034345437e-07,   user2 loss: 3.068585328946938e-06\n",
      "user1 loss: 3.858245918308967e-07,   user2 loss: 2.3066218091116752e-06\n",
      "user1 loss: 2.9075238217046717e-07,   user2 loss: 1.7347121001876076e-06\n",
      "user1 loss: 2.1887511536533566e-07,   user2 loss: 1.304930947298999e-06\n",
      "user1 loss: 1.6470660568757012e-07,   user2 loss: 9.817563295655418e-07\n",
      "user1 loss: 1.2398555782056064e-07,   user2 loss: 7.386674383269565e-07\n",
      "user1 loss: 9.329865235940815e-08,   user2 loss: 5.557876647799276e-07\n",
      "user1 loss: 7.02148099662736e-08,   user2 loss: 4.1819222929007083e-07\n",
      "user1 loss: 5.285541249122616e-08,   user2 loss: 3.1466876748709183e-07\n",
      "user1 loss: 3.973305240378977e-08,   user2 loss: 2.3677355898144015e-07\n",
      "user1 loss: 2.991443537325722e-08,   user2 loss: 1.7815992237046885e-07\n",
      "user1 loss: 2.2519785147778748e-08,   user2 loss: 1.340560373819244e-07\n",
      "user1 loss: 1.6927742763073184e-08,   user2 loss: 1.0087042312534322e-07\n",
      "user1 loss: 1.2738681220980652e-08,   user2 loss: 7.589706285671127e-08\n",
      "user1 loss: 9.582112880934801e-09,   user2 loss: 5.710825234928052e-08\n",
      "user1 loss: 7.20669746101521e-09,   user2 loss: 4.297086420024243e-08\n",
      "user1 loss: 5.422421622824913e-09,   user2 loss: 3.2332728494566254e-08\n",
      "user1 loss: 4.084288462991026e-09,   user2 loss: 2.4328970837927955e-08\n",
      "user1 loss: 3.0764368830205058e-09,   user2 loss: 1.830645146583265e-08\n",
      "user1 loss: 2.3110828806238715e-09,   user2 loss: 1.3775282248218446e-08\n",
      "user1 loss: 1.7355041848077235e-09,   user2 loss: 1.0365118541244556e-08\n",
      "user1 loss: 1.3120775577135646e-09,   user2 loss: 7.799143553199883e-09\n",
      "user1 loss: 9.848157844771777e-10,   user2 loss: 5.868580288392877e-09\n",
      "user1 loss: 7.389644451905042e-10,   user2 loss: 4.415521281941892e-09\n",
      "user1 loss: 5.573497219302226e-10,   user2 loss: 3.3227078866104875e-09\n",
      "user1 loss: 4.205880088647973e-10,   user2 loss: 2.5001800629809168e-09\n",
      "user1 loss: 3.164792872212274e-10,   user2 loss: 1.8812231772358246e-09\n",
      "user1 loss: 2.3879920263425447e-10,   user2 loss: 1.4156320560232416e-09\n",
      "user1 loss: 1.7896084614221763e-10,   user2 loss: 1.0650782478194287e-09\n",
      "user1 loss: 1.3432455148176814e-10,   user2 loss: 8.015386132598223e-10\n",
      "user1 loss: 1.0127010341420828e-10,   user2 loss: 6.03135319465764e-10\n",
      "user1 loss: 7.705480697950406e-11,   user2 loss: 4.537851205910215e-10\n",
      "user1 loss: 5.714184680982726e-11,   user2 loss: 3.413924420936354e-10\n",
      "user1 loss: 4.270361841918202e-11,   user2 loss: 2.5689023130937017e-10\n",
      "user1 loss: 3.19353432587377e-11,   user2 loss: 1.932998344722492e-10\n",
      "user1 loss: 2.5082158572331537e-11,   user2 loss: 1.4548225124588754e-10\n",
      "user1 loss: 1.801936377887614e-11,   user2 loss: 1.0948442846769879e-10\n"
     ]
    }
   ],
   "source": [
    "model = train(50, 10)"
   ]
  },
  {
   "cell_type": "code",
   "execution_count": 18,
   "metadata": {},
   "outputs": [
    {
     "data": {
      "text/plain": [
       "tensor([[9.9993e-01],\n",
       "        [9.9994e-01],\n",
       "        [4.6894e-05],\n",
       "        [5.0795e-05]], grad_fn=<AddmmBackward>)"
      ]
     },
     "execution_count": 18,
     "metadata": {},
     "output_type": "execute_result"
    }
   ],
   "source": [
    "model(data)"
   ]
  },
  {
   "cell_type": "code",
   "execution_count": 19,
   "metadata": {},
   "outputs": [
    {
     "data": {
      "text/plain": [
       "tensor([[1.],\n",
       "        [1.],\n",
       "        [0.],\n",
       "        [0.]], requires_grad=True)"
      ]
     },
     "execution_count": 19,
     "metadata": {},
     "output_type": "execute_result"
    }
   ],
   "source": [
    "target"
   ]
  },
  {
   "cell_type": "markdown",
   "metadata": {},
   "source": [
    "# Lesson: Intro to Additive Secret Sharing\n",
    "\n",
    "While being able to have a trusted third party to perform the aggregation is certainly nice, in an ideal setting we wouldn't have to trust anyone at all. This is where Cryptography can provide an interesting alterantive. \n",
    "\n",
    "Specifically, we're going to be looking at a simple protocol for Secure Multi-Party Computation called Additive Secret Sharing. This protocol will allow multiple parties (of size 3 or more) to aggregate their gradients without the use of a trusted 3rd party to perform the aggregation. In other words, we can add 3 numbers together from 3 different people without anyone ever learning the inputs of any other actors.\n",
    "\n",
    "Let's start by considering the number 5, which we'll put into a varible x"
   ]
  },
  {
   "cell_type": "code",
   "execution_count": 20,
   "metadata": {},
   "outputs": [],
   "source": [
    "x = 5"
   ]
  },
  {
   "cell_type": "markdown",
   "metadata": {},
   "source": [
    "Let's say we wanted to SHARE the ownership of this number between two people, Alice and Bob. We could split this number into two shares, 2, and 3, and give one to Alice and one to Bob"
   ]
  },
  {
   "cell_type": "code",
   "execution_count": 21,
   "metadata": {},
   "outputs": [
    {
     "data": {
      "text/plain": [
       "5"
      ]
     },
     "execution_count": 21,
     "metadata": {},
     "output_type": "execute_result"
    }
   ],
   "source": [
    "bob_x_share = 2\n",
    "alice_x_share = 3\n",
    "\n",
    "decrypted_x = bob_x_share + alice_x_share\n",
    "decrypted_x"
   ]
  },
  {
   "cell_type": "markdown",
   "metadata": {},
   "source": [
    "Note that neither Bob nor Alice know the value of x. They only know the value of their own SHARE of x. Thus, the true value of X is hidden (i.e., encrypted). \n",
    "\n",
    "The truly amazing thing, however, is that Alice and Bob can still compute using this value! They can perform arithmetic over the hidden value! Let's say Bob and Alice wanted to multiply this value by 2! If each of them multiplied their respective share by 2, then the hidden number between them is also multiplied! Check it out!"
   ]
  },
  {
   "cell_type": "code",
   "execution_count": 15,
   "metadata": {},
   "outputs": [
    {
     "data": {
      "text/plain": [
       "10"
      ]
     },
     "execution_count": 15,
     "metadata": {},
     "output_type": "execute_result"
    }
   ],
   "source": [
    "bob_x_share = 2 * 2\n",
    "alice_x_share = 3 * 2\n",
    "\n",
    "decrypted_x = bob_x_share + alice_x_share\n",
    "decrypted_x"
   ]
  },
  {
   "cell_type": "markdown",
   "metadata": {},
   "source": [
    "This even works for addition between two shared values!!"
   ]
  },
  {
   "cell_type": "code",
   "execution_count": 22,
   "metadata": {},
   "outputs": [
    {
     "data": {
      "text/plain": [
       "12"
      ]
     },
     "execution_count": 22,
     "metadata": {},
     "output_type": "execute_result"
    }
   ],
   "source": [
    "# encrypted \"5\"\n",
    "bob_x_share = 2\n",
    "alice_x_share = 3\n",
    "\n",
    "# encrypted \"7\"\n",
    "bob_y_share = 5\n",
    "alice_y_share = 2\n",
    "\n",
    "# encrypted 5 + 7\n",
    "bob_z_share = bob_x_share + bob_y_share\n",
    "alice_z_share = alice_x_share + alice_y_share\n",
    "\n",
    "decrypted_z = bob_z_share + alice_z_share\n",
    "decrypted_z"
   ]
  },
  {
   "cell_type": "markdown",
   "metadata": {},
   "source": [
    "As you can see, we just added two numbers together while they were still encrypted!!!\n",
    "\n",
    "One small tweak - notice that since all our numbers are positive, it's possible for each share to reveal a little bit of information about the hidden value, namely, it's always greater than the share. Thus, if Bob has a share \"3\" then he knows that the encrypted value is at least 3.\n",
    "\n",
    "This would be quite bad, but can be solved through a simple fix. Decryption happens by summing all the shares together MODULUS some constant. I.e."
   ]
  },
  {
   "cell_type": "code",
   "execution_count": 23,
   "metadata": {},
   "outputs": [
    {
     "data": {
      "text/plain": [
       "23740629843736686616461"
      ]
     },
     "execution_count": 23,
     "metadata": {},
     "output_type": "execute_result"
    }
   ],
   "source": [
    "x = 5\n",
    "\n",
    "Q = 23740629843760239486723\n",
    "\n",
    "bob_x_share = 23552870267 # <- a random number\n",
    "alice_x_share = Q - bob_x_share + x\n",
    "alice_x_share"
   ]
  },
  {
   "cell_type": "code",
   "execution_count": 24,
   "metadata": {},
   "outputs": [
    {
     "data": {
      "text/plain": [
       "5"
      ]
     },
     "execution_count": 24,
     "metadata": {},
     "output_type": "execute_result"
    }
   ],
   "source": [
    "(bob_x_share + alice_x_share) % Q"
   ]
  },
  {
   "cell_type": "markdown",
   "metadata": {},
   "source": [
    "So now, as you can see, both shares are wildly larger than the number being shared, meaning that individual shares no longer leak this inforation. However, all the properties we discussed earlier still hold! (addition, encryption, decryption, etc.)"
   ]
  },
  {
   "cell_type": "markdown",
   "metadata": {},
   "source": [
    "# Project: Build Methods for Encrypt, Decrypt, and Add \n",
    "\n",
    "In this project, you must take the lessons we learned in the last section and write general methods for encrypt, decrypt, and add. Store shares for a variable in a tuple like so."
   ]
  },
  {
   "cell_type": "code",
   "execution_count": 25,
   "metadata": {},
   "outputs": [],
   "source": [
    "x_share = (2,5,7)"
   ]
  },
  {
   "cell_type": "markdown",
   "metadata": {},
   "source": [
    "Even though normally those shares would be distributed amongst several workers, you can store them in ordered tuples like this for now :)"
   ]
  },
  {
   "cell_type": "code",
   "execution_count": 32,
   "metadata": {},
   "outputs": [],
   "source": [
    "# try this project here!\n",
    "import numpy as np"
   ]
  },
  {
   "cell_type": "code",
   "execution_count": 67,
   "metadata": {},
   "outputs": [],
   "source": [
    "def encrypt(x, n_splits, Q):\n",
    "    \"\"\"\n",
    "    Args:\n",
    "        x(int): The number to 'encrypt'\n",
    "        n_splits(int): The number of workers to split the shares.\n",
    "        Q(int): The large number to use for the modulus operation\n",
    "    Returns:\n",
    "        tuple: The tuple of shares\n",
    "    \"\"\"\n",
    "    shares = np.random.randint(0, Q, size=n_splits)\n",
    "    shares[-1] = Q - (shares[:-1].sum() % Q) + x\n",
    "    return tuple(shares)"
   ]
  },
  {
   "cell_type": "code",
   "execution_count": 70,
   "metadata": {},
   "outputs": [],
   "source": [
    "def decrypt(shares, Q):\n",
    "    \"\"\"\n",
    "    Args:\n",
    "        shares(tuple): The 'encrypted' shares\n",
    "    Returns:\n",
    "        int: The decrypted value\n",
    "    \"\"\"\n",
    "    return sum(shares) % Q"
   ]
  },
  {
   "cell_type": "code",
   "execution_count": 71,
   "metadata": {},
   "outputs": [],
   "source": [
    "def add(share1, share2):\n",
    "    return (s1 + s2 for s1, s2 in zip(share1, share2))"
   ]
  },
  {
   "cell_type": "code",
   "execution_count": 72,
   "metadata": {},
   "outputs": [
    {
     "data": {
      "text/plain": [
       "(18102742910283, 5637886934152)"
      ]
     },
     "execution_count": 72,
     "metadata": {},
     "output_type": "execute_result"
    }
   ],
   "source": [
    "Q = 23740629843760\n",
    "shares = encrypt(675, 2, Q)\n",
    "shares"
   ]
  },
  {
   "cell_type": "code",
   "execution_count": 73,
   "metadata": {},
   "outputs": [
    {
     "data": {
      "text/plain": [
       "675"
      ]
     },
     "execution_count": 73,
     "metadata": {},
     "output_type": "execute_result"
    }
   ],
   "source": [
    "decrypt(shares, Q)"
   ]
  },
  {
   "cell_type": "code",
   "execution_count": 74,
   "metadata": {},
   "outputs": [
    {
     "data": {
      "text/plain": [
       "1107"
      ]
     },
     "execution_count": 74,
     "metadata": {},
     "output_type": "execute_result"
    }
   ],
   "source": [
    "a = 342\n",
    "b = 765\n",
    "a + b"
   ]
  },
  {
   "cell_type": "code",
   "execution_count": 75,
   "metadata": {},
   "outputs": [
    {
     "data": {
      "text/plain": [
       "1107"
      ]
     },
     "execution_count": 75,
     "metadata": {},
     "output_type": "execute_result"
    }
   ],
   "source": [
    "Q = 23740629843760\n",
    "n_splits = 50\n",
    "a_e = encrypt(a, n_splits, Q)\n",
    "b_e = encrypt(b, n_splits, Q)\n",
    "s_e = add(a_e, b_e)\n",
    "decrypt(s_e, Q)"
   ]
  },
  {
   "cell_type": "markdown",
   "metadata": {},
   "source": [
    "### Course solution"
   ]
  },
  {
   "cell_type": "code",
   "execution_count": 78,
   "metadata": {},
   "outputs": [],
   "source": [
    "import random"
   ]
  },
  {
   "cell_type": "code",
   "execution_count": 80,
   "metadata": {},
   "outputs": [],
   "source": [
    "Q = 23740629843760239486723\n",
    "x = 5"
   ]
  },
  {
   "cell_type": "code",
   "execution_count": 81,
   "metadata": {},
   "outputs": [],
   "source": [
    "def encrypt(x, n_shares=3):\n",
    "    n_shares = 3\n",
    "    shares = list()\n",
    "    for i in range(n_shares - 1):\n",
    "        shares.append(random.randint(0, Q))\n",
    "\n",
    "    shares.append(Q - (sum(shares) % Q) + x)\n",
    "    return tuple(shares)"
   ]
  },
  {
   "cell_type": "code",
   "execution_count": 82,
   "metadata": {},
   "outputs": [],
   "source": [
    "def decrypt(shares):\n",
    "    return sum(shares) % Q"
   ]
  },
  {
   "cell_type": "code",
   "execution_count": 84,
   "metadata": {},
   "outputs": [],
   "source": [
    "def add(a, b):\n",
    "    return (s1 + s2 for s1, s2 in zip(a, b))"
   ]
  },
  {
   "cell_type": "code",
   "execution_count": 85,
   "metadata": {},
   "outputs": [
    {
     "data": {
      "text/plain": [
       "1107"
      ]
     },
     "execution_count": 85,
     "metadata": {},
     "output_type": "execute_result"
    }
   ],
   "source": [
    "a = 342\n",
    "b = 765\n",
    "a + b"
   ]
  },
  {
   "cell_type": "code",
   "execution_count": 86,
   "metadata": {},
   "outputs": [
    {
     "data": {
      "text/plain": [
       "1107"
      ]
     },
     "execution_count": 86,
     "metadata": {},
     "output_type": "execute_result"
    }
   ],
   "source": [
    "decrypt(add(encrypt(a), encrypt(b)))"
   ]
  },
  {
   "cell_type": "markdown",
   "metadata": {},
   "source": [
    "# Lesson: Intro to Fixed Precision Encoding\n",
    "\n",
    "As you may remember, our goal is to aggregate gradients using this new Secret Sharing technique. However, the protocol we've just explored in the last section uses positive integers. However, our neural network weights are NOT integers. Instead, our weights are decimals (floating point numbers).\n",
    "\n",
    "Not a huge deal! We just need to use a fixed precision encoding, which lets us do computation over decimal numbers using integers!"
   ]
  },
  {
   "cell_type": "code",
   "execution_count": 25,
   "metadata": {},
   "outputs": [],
   "source": [
    "BASE=10\n",
    "PRECISION=4"
   ]
  },
  {
   "cell_type": "code",
   "execution_count": 26,
   "metadata": {},
   "outputs": [],
   "source": [
    "def encode(x):\n",
    "    return int((x * (BASE ** PRECISION)) % Q)\n",
    "\n",
    "def decode(x):\n",
    "    return (x if x <= Q/2 else x - Q) / BASE**PRECISION"
   ]
  },
  {
   "cell_type": "code",
   "execution_count": 27,
   "metadata": {},
   "outputs": [
    {
     "data": {
      "text/plain": [
       "35000"
      ]
     },
     "execution_count": 27,
     "metadata": {},
     "output_type": "execute_result"
    }
   ],
   "source": [
    "encode(3.5)"
   ]
  },
  {
   "cell_type": "code",
   "execution_count": 28,
   "metadata": {},
   "outputs": [
    {
     "data": {
      "text/plain": [
       "3.5"
      ]
     },
     "execution_count": 28,
     "metadata": {},
     "output_type": "execute_result"
    }
   ],
   "source": [
    "decode(35000)"
   ]
  },
  {
   "cell_type": "code",
   "execution_count": 29,
   "metadata": {},
   "outputs": [
    {
     "data": {
      "text/plain": [
       "7.8"
      ]
     },
     "execution_count": 29,
     "metadata": {},
     "output_type": "execute_result"
    }
   ],
   "source": [
    "x = encrypt(encode(5.5))\n",
    "y = encrypt(encode(2.3))\n",
    "z = add(x,y)\n",
    "decode(decrypt(z))"
   ]
  },
  {
   "cell_type": "markdown",
   "metadata": {},
   "source": [
    "# Lesson: Secret Sharing + Fixed Precision in PySyft\n",
    "\n",
    "While writing things from scratch is certainly educational, PySyft makes a great deal of this much easier for us through its abstractions."
   ]
  },
  {
   "cell_type": "code",
   "execution_count": 30,
   "metadata": {},
   "outputs": [],
   "source": [
    "bob = bob.clear_objects()\n",
    "alice = alice.clear_objects()\n",
    "secure_worker = secure_worker.clear_objects()"
   ]
  },
  {
   "cell_type": "code",
   "execution_count": 31,
   "metadata": {},
   "outputs": [],
   "source": [
    "x = th.tensor([1,2,3,4,5])"
   ]
  },
  {
   "cell_type": "markdown",
   "metadata": {},
   "source": [
    "### Secret Sharing Using PySyft\n",
    "\n",
    "We can share using the simple .share() method!"
   ]
  },
  {
   "cell_type": "code",
   "execution_count": 32,
   "metadata": {},
   "outputs": [],
   "source": [
    "x = x.share(bob, alice, secure_worker)"
   ]
  },
  {
   "cell_type": "code",
   "execution_count": 33,
   "metadata": {},
   "outputs": [
    {
     "data": {
      "text/plain": [
       "{35498656553: tensor([  10235770278698899, 1401398179551373756, 2277280072169145491,\n",
       "          636965538565031298,  913795591610271305])}"
      ]
     },
     "execution_count": 33,
     "metadata": {},
     "output_type": "execute_result"
    }
   ],
   "source": [
    "bob._objects"
   ]
  },
  {
   "cell_type": "markdown",
   "metadata": {},
   "source": [
    "and as you can see, Bob now has one of the shares of x! Furthermore, we can still call addition in this state, and PySyft will automatically perform the remote execution for us!"
   ]
  },
  {
   "cell_type": "code",
   "execution_count": 34,
   "metadata": {},
   "outputs": [],
   "source": [
    "y = x + x"
   ]
  },
  {
   "cell_type": "code",
   "execution_count": 35,
   "metadata": {},
   "outputs": [
    {
     "data": {
      "text/plain": [
       "(Wrapper)>[AdditiveSharingTensor]\n",
       "\t-> (Wrapper)>[PointerTensor | me:23637986557 -> bob:30254176063]\n",
       "\t-> (Wrapper)>[PointerTensor | me:18229131498 -> alice:75856222543]\n",
       "\t-> (Wrapper)>[PointerTensor | me:34301722959 -> secure_worker:75419815101]\n",
       "\t*crypto provider: me*"
      ]
     },
     "execution_count": 35,
     "metadata": {},
     "output_type": "execute_result"
    }
   ],
   "source": [
    "y"
   ]
  },
  {
   "cell_type": "code",
   "execution_count": 36,
   "metadata": {},
   "outputs": [
    {
     "data": {
      "text/plain": [
       "tensor([ 2,  4,  6,  8, 10])"
      ]
     },
     "execution_count": 36,
     "metadata": {},
     "output_type": "execute_result"
    }
   ],
   "source": [
    "y.get()"
   ]
  },
  {
   "cell_type": "markdown",
   "metadata": {},
   "source": [
    "### Fixed Precision using PySyft\n",
    "\n",
    "We can also convert a tensor to fixed precision using .fix_precision()"
   ]
  },
  {
   "cell_type": "code",
   "execution_count": 37,
   "metadata": {},
   "outputs": [],
   "source": [
    "x = th.tensor([0.1,0.2,0.3])"
   ]
  },
  {
   "cell_type": "code",
   "execution_count": 38,
   "metadata": {},
   "outputs": [
    {
     "data": {
      "text/plain": [
       "tensor([0.1000, 0.2000, 0.3000])"
      ]
     },
     "execution_count": 38,
     "metadata": {},
     "output_type": "execute_result"
    }
   ],
   "source": [
    "x"
   ]
  },
  {
   "cell_type": "code",
   "execution_count": 39,
   "metadata": {},
   "outputs": [],
   "source": [
    "x = x.fix_prec()"
   ]
  },
  {
   "cell_type": "code",
   "execution_count": 40,
   "metadata": {},
   "outputs": [
    {
     "data": {
      "text/plain": [
       "tensor([100, 200, 300])"
      ]
     },
     "execution_count": 40,
     "metadata": {},
     "output_type": "execute_result"
    }
   ],
   "source": [
    "x.child.child"
   ]
  },
  {
   "cell_type": "code",
   "execution_count": 41,
   "metadata": {},
   "outputs": [],
   "source": [
    "y = x + x"
   ]
  },
  {
   "cell_type": "code",
   "execution_count": 42,
   "metadata": {},
   "outputs": [
    {
     "data": {
      "text/plain": [
       "tensor([0.2000, 0.4000, 0.6000])"
      ]
     },
     "execution_count": 42,
     "metadata": {},
     "output_type": "execute_result"
    }
   ],
   "source": [
    "y = y.float_prec()\n",
    "y"
   ]
  },
  {
   "cell_type": "markdown",
   "metadata": {},
   "source": [
    "### Shared Fixed Precision\n",
    "\n",
    "And of course, we can combine the two!"
   ]
  },
  {
   "cell_type": "code",
   "execution_count": 43,
   "metadata": {},
   "outputs": [],
   "source": [
    "x = th.tensor([0.1, 0.2, 0.3])"
   ]
  },
  {
   "cell_type": "code",
   "execution_count": 44,
   "metadata": {},
   "outputs": [],
   "source": [
    "x = x.fix_prec().share(bob, alice, secure_worker)"
   ]
  },
  {
   "cell_type": "code",
   "execution_count": 45,
   "metadata": {},
   "outputs": [],
   "source": [
    "y = x + x"
   ]
  },
  {
   "cell_type": "code",
   "execution_count": 46,
   "metadata": {},
   "outputs": [
    {
     "data": {
      "text/plain": [
       "tensor([0.2000, 0.4000, 0.6000])"
      ]
     },
     "execution_count": 46,
     "metadata": {},
     "output_type": "execute_result"
    }
   ],
   "source": [
    "y.get().float_prec()"
   ]
  },
  {
   "cell_type": "markdown",
   "metadata": {},
   "source": [
    "Make sure to make the point that people can see the model averages in the clear."
   ]
  },
  {
   "cell_type": "code",
   "execution_count": null,
   "metadata": {},
   "outputs": [],
   "source": []
  },
  {
   "cell_type": "markdown",
   "metadata": {},
   "source": [
    "# Final Project: Federated Learning with Encrypted Gradient Aggregation"
   ]
  },
  {
   "cell_type": "code",
   "execution_count": null,
   "metadata": {},
   "outputs": [],
   "source": []
  },
  {
   "cell_type": "code",
   "execution_count": null,
   "metadata": {},
   "outputs": [],
   "source": []
  }
 ],
 "metadata": {
  "kernelspec": {
   "display_name": "deep",
   "language": "python",
   "name": "deep"
  },
  "language_info": {
   "codemirror_mode": {
    "name": "ipython",
    "version": 3
   },
   "file_extension": ".py",
   "mimetype": "text/x-python",
   "name": "python",
   "nbconvert_exporter": "python",
   "pygments_lexer": "ipython3",
   "version": "3.7.3"
  }
 },
 "nbformat": 4,
 "nbformat_minor": 2
}
