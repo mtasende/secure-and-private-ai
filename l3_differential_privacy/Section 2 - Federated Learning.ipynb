{
 "cells": [
  {
   "cell_type": "markdown",
   "metadata": {},
   "source": [
    "# Section: Federated Learning"
   ]
  },
  {
   "cell_type": "markdown",
   "metadata": {},
   "source": [
    "# Lesson: Introducing Federated Learning\n",
    "\n",
    "Federated Learning is a technique for training Deep Learning models on data to which you do not have access. Basically:\n",
    "\n",
    "Federated Learning: Instead of bringing all the data to one machine and training a model, we bring the model to the data, train it locally, and merely upload \"model updates\" to a central server.\n",
    "\n",
    "Use Cases:\n",
    "\n",
    "    - app company (Texting prediction app)\n",
    "    - predictive maintenance (automobiles / industrial engines)\n",
    "    - wearable medical devices\n",
    "    - ad blockers / autotomplete in browsers (Firefox/Brave)\n",
    "    \n",
    "Challenge Description: data is distributed amongst sources but we cannot aggregated it because of:\n",
    "\n",
    "    - privacy concerns: legal, user discomfort, competitive dynamics\n",
    "    - engineering: the bandwidth/storage requirements of aggregating the larger dataset"
   ]
  },
  {
   "cell_type": "markdown",
   "metadata": {},
   "source": [
    "# Lesson: Introducing / Installing PySyft\n",
    "\n",
    "In order to perform Federated Learning, we need to be able to use Deep Learning techniques on remote machines. This will require a new set of tools. Specifically, we will use an extensin of PyTorch called PySyft.\n",
    "\n",
    "### Install PySyft\n",
    "\n",
    "The easiest way to install the required libraries is with [Conda](https://docs.conda.io/projects/conda/en/latest/user-guide/overview.html). Create a new environment, then install the dependencies in that environment. In your terminal:\n",
    "\n",
    "```bash\n",
    "conda create -n pysyft python=3\n",
    "conda activate pysyft # some older version of conda require \"source activate pysyft\" instead.\n",
    "conda install jupyter notebook\n",
    "pip install syft\n",
    "pip install numpy\n",
    "```\n",
    "\n",
    "If you have any errors relating to zstd - run the following (if everything above installed fine then skip this step):\n",
    "\n",
    "```\n",
    "pip install --upgrade --force-reinstall zstd\n",
    "```\n",
    "\n",
    "and then retry installing syft (pip install syft).\n",
    "\n",
    "If you are using Windows, I suggest installing [Anaconda and using the Anaconda Prompt](https://docs.anaconda.com/anaconda/user-guide/getting-started/) to work from the command line. \n",
    "\n",
    "With this environment activated and in the repo directory, launch Jupyter Notebook:\n",
    "\n",
    "```bash\n",
    "jupyter notebook\n",
    "```\n",
    "\n",
    "and re-open this notebook on the new Jupyter server.\n",
    "\n",
    "If any part of this doesn't work for you (or any of the tests fail) - first check the [README](https://github.com/OpenMined/PySyft.git) for installation help and then open a Github Issue or ping the #beginner channel in our slack! [slack.openmined.org](http://slack.openmined.org/)"
   ]
  },
  {
   "cell_type": "code",
   "execution_count": 1,
   "metadata": {},
   "outputs": [],
   "source": [
    "import torch as th"
   ]
  },
  {
   "cell_type": "code",
   "execution_count": 2,
   "metadata": {},
   "outputs": [
    {
     "data": {
      "text/plain": [
       "tensor([1, 2, 3, 4, 5])"
      ]
     },
     "execution_count": 2,
     "metadata": {},
     "output_type": "execute_result"
    }
   ],
   "source": [
    "x = th.tensor([1,2,3,4,5])\n",
    "x"
   ]
  },
  {
   "cell_type": "code",
   "execution_count": 3,
   "metadata": {},
   "outputs": [],
   "source": [
    "y = x + x"
   ]
  },
  {
   "cell_type": "code",
   "execution_count": 4,
   "metadata": {},
   "outputs": [
    {
     "name": "stdout",
     "output_type": "stream",
     "text": [
      "tensor([ 2,  4,  6,  8, 10])\n"
     ]
    }
   ],
   "source": [
    "print(y)"
   ]
  },
  {
   "cell_type": "code",
   "execution_count": null,
   "metadata": {},
   "outputs": [],
   "source": []
  },
  {
   "cell_type": "code",
   "execution_count": 5,
   "metadata": {},
   "outputs": [
    {
     "name": "stderr",
     "output_type": "stream",
     "text": [
      "WARNING:tf_encrypted:Falling back to insecure randomness since the required custom op could not be found for the installed version of TensorFlow (1.13.1). Fix this by compiling custom ops.\n"
     ]
    }
   ],
   "source": [
    "import syft as sy"
   ]
  },
  {
   "cell_type": "code",
   "execution_count": 6,
   "metadata": {},
   "outputs": [],
   "source": [
    "hook = sy.TorchHook(th)"
   ]
  },
  {
   "cell_type": "code",
   "execution_count": 7,
   "metadata": {},
   "outputs": [
    {
     "data": {
      "text/plain": [
       "tensor([1, 2, 3, 4, 5])"
      ]
     },
     "execution_count": 7,
     "metadata": {},
     "output_type": "execute_result"
    }
   ],
   "source": [
    "th.tensor([1,2,3,4,5])"
   ]
  },
  {
   "cell_type": "markdown",
   "metadata": {},
   "source": [
    "# Lesson: Basic Remote Execution in PySyft"
   ]
  },
  {
   "cell_type": "markdown",
   "metadata": {},
   "source": [
    "## PySyft => Remote PyTorch\n",
    "\n",
    "The essence of Federated Learning is the ability to train models in parallel on a wide number of machines. Thus, we need the ability to tell remote machines to execute the operations required for Deep Learning.\n",
    "\n",
    "Thus, instead of using Torch tensors - we're now going to work with **pointers** to tensors. Let me show you what I mean. First, let's create a \"pretend\" machine owned by a \"pretend\" person - we'll call him Bob."
   ]
  },
  {
   "cell_type": "code",
   "execution_count": 8,
   "metadata": {},
   "outputs": [],
   "source": [
    "bob = sy.VirtualWorker(hook, id=\"bob\")"
   ]
  },
  {
   "cell_type": "code",
   "execution_count": 9,
   "metadata": {},
   "outputs": [
    {
     "data": {
      "text/plain": [
       "{}"
      ]
     },
     "execution_count": 9,
     "metadata": {},
     "output_type": "execute_result"
    }
   ],
   "source": [
    "bob._objects"
   ]
  },
  {
   "cell_type": "code",
   "execution_count": 10,
   "metadata": {},
   "outputs": [],
   "source": [
    "x = th.tensor([1,2,3,4,5])"
   ]
  },
  {
   "cell_type": "code",
   "execution_count": 11,
   "metadata": {},
   "outputs": [],
   "source": [
    "x = x.send(bob)"
   ]
  },
  {
   "cell_type": "code",
   "execution_count": 12,
   "metadata": {},
   "outputs": [
    {
     "data": {
      "text/plain": [
       "{31305363757: tensor([1, 2, 3, 4, 5])}"
      ]
     },
     "execution_count": 12,
     "metadata": {},
     "output_type": "execute_result"
    }
   ],
   "source": [
    "bob._objects"
   ]
  },
  {
   "cell_type": "code",
   "execution_count": 13,
   "metadata": {},
   "outputs": [
    {
     "data": {
      "text/plain": [
       "<VirtualWorker id:bob #tensors:1>"
      ]
     },
     "execution_count": 13,
     "metadata": {},
     "output_type": "execute_result"
    }
   ],
   "source": [
    "x.location"
   ]
  },
  {
   "cell_type": "code",
   "execution_count": 14,
   "metadata": {},
   "outputs": [
    {
     "data": {
      "text/plain": [
       "31305363757"
      ]
     },
     "execution_count": 14,
     "metadata": {},
     "output_type": "execute_result"
    }
   ],
   "source": [
    "x.id_at_location"
   ]
  },
  {
   "cell_type": "code",
   "execution_count": 15,
   "metadata": {},
   "outputs": [
    {
     "data": {
      "text/plain": [
       "25007010136"
      ]
     },
     "execution_count": 15,
     "metadata": {},
     "output_type": "execute_result"
    }
   ],
   "source": [
    "x.id"
   ]
  },
  {
   "cell_type": "code",
   "execution_count": 16,
   "metadata": {},
   "outputs": [
    {
     "data": {
      "text/plain": [
       "<VirtualWorker id:me #tensors:0>"
      ]
     },
     "execution_count": 16,
     "metadata": {},
     "output_type": "execute_result"
    }
   ],
   "source": [
    "x.owner"
   ]
  },
  {
   "cell_type": "code",
   "execution_count": 17,
   "metadata": {},
   "outputs": [
    {
     "data": {
      "text/plain": [
       "<VirtualWorker id:me #tensors:0>"
      ]
     },
     "execution_count": 17,
     "metadata": {},
     "output_type": "execute_result"
    }
   ],
   "source": [
    "hook.local_worker"
   ]
  },
  {
   "cell_type": "code",
   "execution_count": 18,
   "metadata": {},
   "outputs": [
    {
     "data": {
      "text/plain": [
       "(Wrapper)>[PointerTensor | me:25007010136 -> bob:31305363757]"
      ]
     },
     "execution_count": 18,
     "metadata": {},
     "output_type": "execute_result"
    }
   ],
   "source": [
    "x"
   ]
  },
  {
   "cell_type": "code",
   "execution_count": 19,
   "metadata": {},
   "outputs": [
    {
     "data": {
      "text/plain": [
       "tensor([1, 2, 3, 4, 5])"
      ]
     },
     "execution_count": 19,
     "metadata": {},
     "output_type": "execute_result"
    }
   ],
   "source": [
    "x = x.get()\n",
    "x"
   ]
  },
  {
   "cell_type": "code",
   "execution_count": 20,
   "metadata": {},
   "outputs": [
    {
     "data": {
      "text/plain": [
       "{}"
      ]
     },
     "execution_count": 20,
     "metadata": {},
     "output_type": "execute_result"
    }
   ],
   "source": [
    "bob._objects"
   ]
  },
  {
   "cell_type": "markdown",
   "metadata": {},
   "source": [
    "# Project: Playing with Remote Tensors\n",
    "\n",
    "In this project, I want you to .send() and .get() a tensor to TWO workers by calling .send(bob,alice). This will first require the creation of another VirtualWorker called alice."
   ]
  },
  {
   "cell_type": "code",
   "execution_count": 21,
   "metadata": {},
   "outputs": [],
   "source": [
    "# try this project here!"
   ]
  },
  {
   "cell_type": "code",
   "execution_count": 22,
   "metadata": {},
   "outputs": [],
   "source": [
    "alice = sy.VirtualWorker(hook, id='alice')\n",
    "bob = sy.VirtualWorker(hook, id='bob')\n",
    "x = th.tensor([1,2,3,4,5])"
   ]
  },
  {
   "cell_type": "code",
   "execution_count": 23,
   "metadata": {},
   "outputs": [],
   "source": [
    "x = x.send(alice, bob)"
   ]
  },
  {
   "cell_type": "code",
   "execution_count": 24,
   "metadata": {},
   "outputs": [
    {
     "data": {
      "text/plain": [
       "48279269661"
      ]
     },
     "execution_count": 24,
     "metadata": {},
     "output_type": "execute_result"
    }
   ],
   "source": [
    "x.id"
   ]
  },
  {
   "cell_type": "code",
   "execution_count": 25,
   "metadata": {},
   "outputs": [],
   "source": [
    "x.location"
   ]
  },
  {
   "cell_type": "code",
   "execution_count": 26,
   "metadata": {},
   "outputs": [
    {
     "data": {
      "text/plain": [
       "{35229948617: tensor([1, 2, 3, 4, 5])}"
      ]
     },
     "execution_count": 26,
     "metadata": {},
     "output_type": "execute_result"
    }
   ],
   "source": [
    "alice._objects"
   ]
  },
  {
   "cell_type": "code",
   "execution_count": 27,
   "metadata": {},
   "outputs": [
    {
     "data": {
      "text/plain": [
       "{40261066972: tensor([1, 2, 3, 4, 5])}"
      ]
     },
     "execution_count": 27,
     "metadata": {},
     "output_type": "execute_result"
    }
   ],
   "source": [
    "bob._objects"
   ]
  },
  {
   "cell_type": "code",
   "execution_count": 28,
   "metadata": {},
   "outputs": [
    {
     "data": {
      "text/plain": [
       "(Wrapper)>[MultiPointerTensor]\n",
       "\t-> (Wrapper)>[PointerTensor | me:74162098053 -> alice:35229948617]\n",
       "\t-> (Wrapper)>[PointerTensor | me:51171904327 -> bob:40261066972]"
      ]
     },
     "execution_count": 28,
     "metadata": {},
     "output_type": "execute_result"
    }
   ],
   "source": [
    "x"
   ]
  },
  {
   "cell_type": "code",
   "execution_count": 29,
   "metadata": {},
   "outputs": [],
   "source": [
    "x = x.get()"
   ]
  },
  {
   "cell_type": "code",
   "execution_count": 30,
   "metadata": {},
   "outputs": [
    {
     "data": {
      "text/plain": [
       "[tensor([1, 2, 3, 4, 5]), tensor([1, 2, 3, 4, 5])]"
      ]
     },
     "execution_count": 30,
     "metadata": {},
     "output_type": "execute_result"
    }
   ],
   "source": [
    "x"
   ]
  },
  {
   "cell_type": "code",
   "execution_count": 32,
   "metadata": {},
   "outputs": [
    {
     "data": {
      "text/plain": [
       "(Wrapper)>[MultiPointerTensor]\n",
       "\t-> (Wrapper)>[PointerTensor | me:13745025796 -> alice:28608362191]\n",
       "\t-> (Wrapper)>[PointerTensor | me:34579059350 -> bob:45107623585]"
      ]
     },
     "execution_count": 32,
     "metadata": {},
     "output_type": "execute_result"
    }
   ],
   "source": [
    "x = th.tensor([1,2,3,4,5])\n",
    "x = x.send(alice, bob)\n",
    "x"
   ]
  },
  {
   "cell_type": "code",
   "execution_count": 33,
   "metadata": {},
   "outputs": [
    {
     "data": {
      "text/plain": [
       "tensor([ 2,  4,  6,  8, 10])"
      ]
     },
     "execution_count": 33,
     "metadata": {},
     "output_type": "execute_result"
    }
   ],
   "source": [
    "x.get(sum_results=True)"
   ]
  },
  {
   "cell_type": "markdown",
   "metadata": {},
   "source": [
    "# Lesson: Introducing Remote Arithmetic"
   ]
  },
  {
   "cell_type": "code",
   "execution_count": 34,
   "metadata": {},
   "outputs": [],
   "source": [
    "x = th.tensor([1,2,3,4,5]).send(bob)\n",
    "y = th.tensor([1,1,1,1,1]).send(bob)"
   ]
  },
  {
   "cell_type": "code",
   "execution_count": 35,
   "metadata": {},
   "outputs": [
    {
     "data": {
      "text/plain": [
       "(Wrapper)>[PointerTensor | me:41139469901 -> bob:50914230187]"
      ]
     },
     "execution_count": 35,
     "metadata": {},
     "output_type": "execute_result"
    }
   ],
   "source": [
    "x"
   ]
  },
  {
   "cell_type": "code",
   "execution_count": 36,
   "metadata": {},
   "outputs": [
    {
     "data": {
      "text/plain": [
       "(Wrapper)>[PointerTensor | me:5261968099 -> bob:62400964991]"
      ]
     },
     "execution_count": 36,
     "metadata": {},
     "output_type": "execute_result"
    }
   ],
   "source": [
    "y"
   ]
  },
  {
   "cell_type": "code",
   "execution_count": 37,
   "metadata": {},
   "outputs": [],
   "source": [
    "z = x + y"
   ]
  },
  {
   "cell_type": "code",
   "execution_count": 38,
   "metadata": {},
   "outputs": [
    {
     "data": {
      "text/plain": [
       "(Wrapper)>[PointerTensor | me:8890845018 -> bob:11843018997]"
      ]
     },
     "execution_count": 38,
     "metadata": {},
     "output_type": "execute_result"
    }
   ],
   "source": [
    "z"
   ]
  },
  {
   "cell_type": "code",
   "execution_count": 39,
   "metadata": {},
   "outputs": [
    {
     "data": {
      "text/plain": [
       "tensor([2, 3, 4, 5, 6])"
      ]
     },
     "execution_count": 39,
     "metadata": {},
     "output_type": "execute_result"
    }
   ],
   "source": [
    "z = z.get()\n",
    "z"
   ]
  },
  {
   "cell_type": "code",
   "execution_count": 40,
   "metadata": {},
   "outputs": [
    {
     "data": {
      "text/plain": [
       "(Wrapper)>[PointerTensor | me:60643991885 -> bob:22655793740]"
      ]
     },
     "execution_count": 40,
     "metadata": {},
     "output_type": "execute_result"
    }
   ],
   "source": [
    "z = th.add(x,y)\n",
    "z"
   ]
  },
  {
   "cell_type": "code",
   "execution_count": 41,
   "metadata": {},
   "outputs": [
    {
     "data": {
      "text/plain": [
       "tensor([2, 3, 4, 5, 6])"
      ]
     },
     "execution_count": 41,
     "metadata": {},
     "output_type": "execute_result"
    }
   ],
   "source": [
    "z = z.get()\n",
    "z"
   ]
  },
  {
   "cell_type": "code",
   "execution_count": 42,
   "metadata": {},
   "outputs": [],
   "source": [
    "x = th.tensor([1.,2,3,4,5], requires_grad=True).send(bob)\n",
    "y = th.tensor([1.,1,1,1,1], requires_grad=True).send(bob)"
   ]
  },
  {
   "cell_type": "code",
   "execution_count": 43,
   "metadata": {},
   "outputs": [],
   "source": [
    "z = (x + y).sum()"
   ]
  },
  {
   "cell_type": "code",
   "execution_count": 44,
   "metadata": {},
   "outputs": [
    {
     "data": {
      "text/plain": [
       "(Wrapper)>[PointerTensor | me:12736118456 -> bob:61006598709]"
      ]
     },
     "execution_count": 44,
     "metadata": {},
     "output_type": "execute_result"
    }
   ],
   "source": [
    "z.backward()"
   ]
  },
  {
   "cell_type": "code",
   "execution_count": 45,
   "metadata": {},
   "outputs": [],
   "source": [
    "x = x.get()"
   ]
  },
  {
   "cell_type": "code",
   "execution_count": 46,
   "metadata": {},
   "outputs": [
    {
     "data": {
      "text/plain": [
       "tensor([1., 2., 3., 4., 5.], requires_grad=True)"
      ]
     },
     "execution_count": 46,
     "metadata": {},
     "output_type": "execute_result"
    }
   ],
   "source": [
    "x"
   ]
  },
  {
   "cell_type": "code",
   "execution_count": 47,
   "metadata": {},
   "outputs": [
    {
     "data": {
      "text/plain": [
       "tensor([1., 1., 1., 1., 1.])"
      ]
     },
     "execution_count": 47,
     "metadata": {},
     "output_type": "execute_result"
    }
   ],
   "source": [
    "x.grad"
   ]
  },
  {
   "cell_type": "code",
   "execution_count": null,
   "metadata": {},
   "outputs": [],
   "source": []
  },
  {
   "cell_type": "markdown",
   "metadata": {},
   "source": [
    "# Project: Learn a Simple Linear Model\n",
    "\n",
    "In this project, I'd like for you to create a simple linear model which will solve for the following dataset below. You should use only Variables and .backward() to do so (no optimizers or nn.Modules). Furthermore, you must do so with both the data and the model being located on Bob's machine."
   ]
  },
  {
   "cell_type": "code",
   "execution_count": 48,
   "metadata": {},
   "outputs": [],
   "source": [
    "# try this project here!"
   ]
  },
  {
   "cell_type": "code",
   "execution_count": 49,
   "metadata": {},
   "outputs": [],
   "source": [
    "import numpy as np\n",
    "import matplotlib.pyplot as plt\n",
    "%matplotlib inline"
   ]
  },
  {
   "cell_type": "code",
   "execution_count": 50,
   "metadata": {},
   "outputs": [],
   "source": [
    "bob = sy.VirtualWorker(hook, id='bob')"
   ]
  },
  {
   "cell_type": "code",
   "execution_count": 51,
   "metadata": {},
   "outputs": [
    {
     "data": {
      "text/plain": [
       "<matplotlib.collections.PathCollection at 0x7f70a0309358>"
      ]
     },
     "execution_count": 51,
     "metadata": {},
     "output_type": "execute_result"
    },
    {
     "data": {
      "image/png": "[encoded data removed]",
      "text/plain": [
       "<Figure size 432x288 with 1 Axes>"
      ]
     },
     "metadata": {
      "needs_background": "light"
     },
     "output_type": "display_data"
    }
   ],
   "source": [
    "x = np.linspace(0, 1, 1000)\n",
    "y = 70.0 * x + 5.0 * np.random.randn(x.shape[0]) - 12.0\n",
    "plt.scatter(x, y)"
   ]
  },
  {
   "cell_type": "code",
   "execution_count": 52,
   "metadata": {},
   "outputs": [],
   "source": [
    "# Create the tensors\n",
    "x_t = th.tensor(x)\n",
    "y_t = th.tensor(y)\n",
    "coefs = th.tensor(np.random.randn(2), requires_grad=True)\n",
    "eta = th.tensor(0.05)\n",
    "\n",
    "# Send the tensors\n",
    "x_remote = x_t.send(bob)\n",
    "y_remote = y_t.send(bob)\n",
    "coefs = coefs.send(bob)\n",
    "eta = eta.send(bob)"
   ]
  },
  {
   "cell_type": "code",
   "execution_count": 53,
   "metadata": {},
   "outputs": [
    {
     "name": "stdout",
     "output_type": "stream",
     "text": [
      "Iteration 0. Loss: 1080.815733223369\n",
      "Iteration 1. Loss: 900.3584444086578\n",
      "Iteration 2. Loss: 761.8279748666777\n",
      "Iteration 3. Loss: 655.2806420933148\n",
      "Iteration 4. Loss: 573.1338010382055\n",
      "Iteration 5. Loss: 509.6052013839254\n",
      "Iteration 6. Loss: 460.2854733225252\n",
      "Iteration 7. Loss: 421.81212953944475\n",
      "Iteration 8. Loss: 391.6209776735916\n",
      "Iteration 9. Loss: 367.756561596395\n",
      "Iteration 10. Loss: 348.7276147053581\n",
      "Iteration 11. Loss: 333.3968368156304\n",
      "Iteration 12. Loss: 320.89684427216116\n",
      "Iteration 13. Loss: 310.5660782689693\n",
      "Iteration 14. Loss: 301.89993216036254\n",
      "Iteration 15. Loss: 294.5134839086283\n",
      "Iteration 16. Loss: 288.113077947912\n",
      "Iteration 17. Loss: 282.47465510899707\n",
      "Iteration 18. Loss: 277.4272282311636\n",
      "Iteration 19. Loss: 272.8402815821449\n",
      "Iteration 20. Loss: 268.6141623508805\n",
      "Iteration 21. Loss: 264.6727537248119\n",
      "Iteration 22. Loss: 260.95788777384894\n",
      "Iteration 23. Loss: 257.42508501206885\n",
      "Iteration 24. Loss: 254.04030560855702\n",
      "Iteration 25. Loss: 250.77747202452522\n",
      "Iteration 26. Loss: 247.61657989643905\n",
      "Iteration 27. Loss: 244.542257482313\n",
      "Iteration 28. Loss: 241.54266715699237\n",
      "Iteration 29. Loss: 238.60866773477522\n",
      "Iteration 30. Loss: 235.73317568436855\n",
      "Iteration 31. Loss: 232.91067800806846\n",
      "Iteration 32. Loss: 230.13686077169731\n",
      "Iteration 33. Loss: 227.40832582347352\n",
      "Iteration 34. Loss: 224.72237476098817\n",
      "Iteration 35. Loss: 222.0768441780089\n",
      "Iteration 36. Loss: 219.4699800146006\n",
      "Iteration 37. Loss: 216.90034172545157\n",
      "Iteration 38. Loss: 214.3667291861052\n",
      "Iteration 39. Loss: 211.86812693805624\n",
      "Iteration 40. Loss: 209.40366165571288\n",
      "Iteration 41. Loss: 206.9725696958297\n",
      "Iteration 42. Loss: 204.5741723354855\n",
      "Iteration 43. Loss: 202.20785687313108\n",
      "Iteration 44. Loss: 199.87306220070246\n",
      "Iteration 45. Loss: 197.5692677853313\n",
      "Iteration 46. Loss: 195.29598525123507\n",
      "Iteration 47. Loss: 193.0527519445697\n",
      "Iteration 48. Loss: 190.839126010585\n",
      "Iteration 49. Loss: 188.65468262418457\n",
      "Iteration 50. Loss: 186.49901110020883\n",
      "Iteration 51. Loss: 184.3717126747476\n",
      "Iteration 52. Loss: 182.27239879834062\n",
      "Iteration 53. Loss: 180.20068981971005\n",
      "Iteration 54. Loss: 178.15621396748531\n",
      "Iteration 55. Loss: 176.13860655935048\n",
      "Iteration 56. Loss: 174.1475093847998\n",
      "Iteration 57. Loss: 172.18257022046402\n",
      "Iteration 58. Loss: 170.24344244671028\n",
      "Iteration 59. Loss: 168.32978474164983\n",
      "Iteration 60. Loss: 166.4412608343512\n",
      "Iteration 61. Loss: 164.5775393033762\n",
      "Iteration 62. Loss: 162.73829341005214\n",
      "Iteration 63. Loss: 160.92320095840262\n",
      "Iteration 64. Loss: 159.13194417557773\n",
      "Iteration 65. Loss: 157.364209608082\n",
      "Iteration 66. Loss: 155.61968803021568\n",
      "Iteration 67. Loss: 153.8980743619914\n",
      "Iteration 68. Loss: 152.19906759443768\n",
      "Iteration 69. Loss: 150.52237072069406\n",
      "Iteration 70. Loss: 148.86769067167964\n",
      "Iteration 71. Loss: 147.2347382554036\n",
      "Iteration 72. Loss: 145.62322809920568\n",
      "Iteration 73. Loss: 144.03287859438154\n",
      "Iteration 74. Loss: 142.4634118427761\n",
      "Iteration 75. Loss: 140.91455360502343\n",
      "Iteration 76. Loss: 139.38603325018778\n",
      "Iteration 77. Loss: 137.87758370661555\n",
      "Iteration 78. Loss: 136.38894141385285\n",
      "Iteration 79. Loss: 134.91984627551275\n",
      "Iteration 80. Loss: 133.47004161300652\n",
      "Iteration 81. Loss: 132.03927412006806\n",
      "Iteration 82. Loss: 130.62729381801697\n",
      "Iteration 83. Loss: 129.23385401171723\n",
      "Iteration 84. Loss: 127.85871124619692\n",
      "Iteration 85. Loss: 126.5016252639002\n",
      "Iteration 86. Loss: 125.1623589625487\n",
      "Iteration 87. Loss: 123.84067835359248\n",
      "Iteration 88. Loss: 122.53635252123485\n",
      "Iteration 89. Loss: 121.24915358201602\n",
      "Iteration 90. Loss: 119.97885664494433\n",
      "Iteration 91. Loss: 118.72523977216264\n",
      "Iteration 92. Loss: 117.48808394014084\n",
      "Iteration 93. Loss: 116.26717300138554\n",
      "Iteration 94. Loss: 115.0622936466575\n",
      "Iteration 95. Loss: 113.87323536768952\n",
      "Iteration 96. Loss: 112.69979042039738\n",
      "Iteration 97. Loss: 111.5417537885755\n",
      "Iteration 98. Loss: 110.39892314807206\n",
      "Iteration 99. Loss: 109.27109883143547\n",
      "Iteration 100. Loss: 108.15808379302615\n",
      "Iteration 101. Loss: 107.05968357458725\n",
      "Iteration 102. Loss: 105.97570627126821\n",
      "Iteration 103. Loss: 104.90596249809494\n",
      "Iteration 104. Loss: 103.85026535688036\n",
      "Iteration 105. Loss: 102.80843040357018\n",
      "Iteration 106. Loss: 101.78027561601704\n",
      "Iteration 107. Loss: 100.76562136217869\n",
      "Iteration 108. Loss: 99.76429036873328\n",
      "Iteration 109. Loss: 98.77610769010722\n",
      "Iteration 110. Loss: 97.8009006779095\n",
      "Iteration 111. Loss: 96.83849895076776\n",
      "Iteration 112. Loss: 95.88873436456016\n",
      "Iteration 113. Loss: 94.9514409830385\n",
      "Iteration 114. Loss: 94.02645504883665\n",
      "Iteration 115. Loss: 93.11361495486005\n",
      "Iteration 116. Loss: 92.21276121605105\n",
      "Iteration 117. Loss: 91.32373644152429\n",
      "Iteration 118. Loss: 90.44638530706872\n",
      "Iteration 119. Loss: 89.58055452801041\n",
      "Iteration 120. Loss: 88.72609283243172\n",
      "Iteration 121. Loss: 87.88285093474191\n",
      "Iteration 122. Loss: 87.05068150959528\n",
      "Iteration 123. Loss: 86.22943916615127\n",
      "Iteration 124. Loss: 85.41898042267296\n",
      "Iteration 125. Loss: 84.61916368145864\n",
      "Iteration 126. Loss: 83.82984920410341\n",
      "Iteration 127. Loss: 83.05089908708435\n",
      "Iteration 128. Loss: 82.28217723766757\n",
      "Iteration 129. Loss: 81.52354935013064\n",
      "Iteration 130. Loss: 80.77488288229787\n",
      "Iteration 131. Loss: 80.0360470323834\n",
      "Iteration 132. Loss: 79.30691271613831\n",
      "Iteration 133. Loss: 78.58735254429806\n",
      "Iteration 134. Loss: 77.87724080032584\n",
      "Iteration 135. Loss: 77.17645341844836\n",
      "Iteration 136. Loss: 76.48486796197982\n",
      "Iteration 137. Loss: 75.8023636019307\n",
      "Iteration 138. Loss: 75.12882109589721\n",
      "Iteration 139. Loss: 74.46412276722846\n",
      "Iteration 140. Loss: 73.8081524844664\n",
      "Iteration 141. Loss: 73.16079564105635\n",
      "Iteration 142. Loss: 72.52193913532369\n",
      "Iteration 143. Loss: 71.89147135071357\n",
      "Iteration 144. Loss: 71.26928213628993\n",
      "Iteration 145. Loss: 70.65526278749097\n",
      "Iteration 146. Loss: 70.04930602713658\n",
      "Iteration 147. Loss: 69.45130598668621\n",
      "Iteration 148. Loss: 68.86115818774164\n",
      "Iteration 149. Loss: 68.27875952379377\n",
      "Iteration 150. Loss: 67.7040082422082\n",
      "Iteration 151. Loss: 67.13680392644798\n",
      "Iteration 152. Loss: 66.57704747852924\n",
      "Iteration 153. Loss: 66.02464110170787\n",
      "Iteration 154. Loss: 65.47948828339281\n",
      "Iteration 155. Loss: 64.94149377828417\n",
      "Iteration 156. Loss: 64.41056359173268\n",
      "Iteration 157. Loss: 63.88660496331754\n",
      "Iteration 158. Loss: 63.369526350640015\n",
      "Iteration 159. Loss: 62.859237413329765\n",
      "Iteration 160. Loss: 62.355648997261156\n",
      "Iteration 161. Loss: 61.85867311897687\n",
      "Iteration 162. Loss: 61.36822295031616\n",
      "Iteration 163. Loss: 60.88421280324477\n",
      "Iteration 164. Loss: 60.4065581148841\n",
      "Iteration 165. Loss: 59.935175432736955\n",
      "Iteration 166. Loss: 59.469982400107455\n",
      "Iteration 167. Loss: 59.010897741711986\n",
      "Iteration 168. Loss: 58.55784124947957\n",
      "Iteration 169. Loss: 58.11073376853842\n",
      "Iteration 170. Loss: 57.6694971833865\n",
      "Iteration 171. Loss: 57.2340544042437\n",
      "Iteration 172. Loss: 56.80432935358334\n",
      "Iteration 173. Loss: 56.380246952840515\n",
      "Iteration 174. Loss: 55.961733109294606\n",
      "Iteration 175. Loss: 55.54871470312458\n",
      "Iteration 176. Loss: 55.14111957463388\n",
      "Iteration 177. Loss: 54.73887651164322\n",
      "Iteration 178. Loss: 54.341915237048894\n",
      "Iteration 179. Loss: 53.95016639654442\n",
      "Iteration 180. Loss: 53.5635615465035\n",
      "Iteration 181. Loss: 53.18203314202199\n",
      "Iteration 182. Loss: 52.805514525116855\n",
      "Iteration 183. Loss: 52.433939913080295\n",
      "Iteration 184. Loss: 52.0672443869865\n",
      "Iteration 185. Loss: 51.70536388034967\n",
      "Iteration 186. Loss: 51.34823516793045\n",
      "Iteration 187. Loss: 50.99579585469003\n",
      "Iteration 188. Loss: 50.647984364888636\n",
      "Iteration 189. Loss: 50.304739931327504\n",
      "Iteration 190. Loss: 49.96600258473218\n",
      "Iteration 191. Loss: 49.631713143275\n",
      "Iteration 192. Loss: 49.30181320223523\n",
      "Iteration 193. Loss: 48.976245123795096\n",
      "Iteration 194. Loss: 48.654952026969646\n",
      "Iteration 195. Loss: 48.337877777668915\n",
      "Iteration 196. Loss: 48.024966978890575\n",
      "Iteration 197. Loss: 47.716164961041336\n",
      "Iteration 198. Loss: 47.411417772385434\n",
      "Iteration 199. Loss: 47.11067216961865\n",
      "Iteration 200. Loss: 46.81387560856596\n",
      "Iteration 201. Loss: 46.520976235001264\n",
      "Iteration 202. Loss: 46.23192287558807\n",
      "Iteration 203. Loss: 45.94666502893849\n",
      "Iteration 204. Loss: 45.6651528567903\n",
      "Iteration 205. Loss: 45.38733717529932\n",
      "Iteration 206. Loss: 45.11316944644653\n",
      "Iteration 207. Loss: 44.84260176955765\n",
      "Iteration 208. Loss: 44.57558687293452\n",
      "Iteration 209. Loss: 44.31207810559584\n",
      "Iteration 210. Loss: 44.05202942912689\n",
      "Iteration 211. Loss: 43.79539540963585\n",
      "Iteration 212. Loss: 43.54213120981596\n",
      "Iteration 213. Loss: 43.2921925811119\n",
      "Iteration 214. Loss: 43.04553585598886\n",
      "Iteration 215. Loss: 42.80211794030343\n",
      "Iteration 216. Loss: 42.56189630577443\n",
      "Iteration 217. Loss: 42.32482898255257\n",
      "Iteration 218. Loss: 42.090874551887815\n",
      "Iteration 219. Loss: 41.85999213889309\n",
      "Iteration 220. Loss: 41.63214140540284\n",
      "Iteration 221. Loss: 41.40728254292532\n",
      "Iteration 222. Loss: 41.18537626568774\n",
      "Iteration 223. Loss: 40.966383803772324\n",
      "Iteration 224. Loss: 40.750266896342886\n",
      "Iteration 225. Loss: 40.53698778496001\n",
      "Iteration 226. Loss: 40.32650920698422\n",
      "Iteration 227. Loss: 40.11879438906578\n",
      "Iteration 228. Loss: 39.913807040719774\n",
      "Iteration 229. Loss: 39.71151134798574\n",
      "Iteration 230. Loss: 39.511871967170634\n",
      "Iteration 231. Loss: 39.314854018673564\n",
      "Iteration 232. Loss: 39.12042308089212\n",
      "Iteration 233. Loss: 38.928545184208325\n",
      "Iteration 234. Loss: 38.73918680505377\n",
      "Iteration 235. Loss: 38.552314860052576\n",
      "Iteration 236. Loss: 38.36789670024126\n",
      "Iteration 237. Loss: 38.18590010536466\n",
      "Iteration 238. Loss: 38.00629327824651\n",
      "Iteration 239. Loss: 37.82904483923407\n",
      "Iteration 240. Loss: 37.654123820715824\n",
      "Iteration 241. Loss: 37.48149966171086\n",
      "Iteration 242. Loss: 37.311142202529595\n",
      "Iteration 243. Loss: 37.14302167950437\n",
      "Iteration 244. Loss: 36.97710871978952\n",
      "Iteration 245. Loss: 36.81337433622936\n",
      "Iteration 246. Loss: 36.65178992229389\n",
      "Iteration 247. Loss: 36.49232724708078\n",
      "Iteration 248. Loss: 36.33495845038312\n",
      "Iteration 249. Loss: 36.179656037821886\n",
      "Iteration 250. Loss: 36.02639287604222\n",
      "Iteration 251. Loss: 35.87514218797298\n",
      "Iteration 252. Loss: 35.725877548148425\n",
      "Iteration 253. Loss: 35.57857287809124\n",
      "Iteration 254. Loss: 35.433202441756464\n",
      "Iteration 255. Loss: 35.2897408410349\n",
      "Iteration 256. Loss: 35.14816301131581\n",
      "Iteration 257. Loss: 35.008444217107794\n",
      "Iteration 258. Loss: 34.87056004771723\n",
      "Iteration 259. Loss: 34.73448641298326\n",
      "Iteration 260. Loss: 34.60019953906908\n",
      "Iteration 261. Loss: 34.46767596430827\n",
      "Iteration 262. Loss: 34.33689253510573\n",
      "Iteration 263. Loss: 34.20782640189248\n",
      "Iteration 264. Loss: 34.080455015133516\n",
      "Iteration 265. Loss: 33.954756121388144\n",
      "Iteration 266. Loss: 33.83070775942191\n",
      "Iteration 267. Loss: 33.70828825636989\n",
      "Iteration 268. Loss: 33.587476223949906\n",
      "Iteration 269. Loss: 33.46825055472591\n",
      "Iteration 270. Loss: 33.3505904184202\n",
      "Iteration 271. Loss: 33.23447525827398\n",
      "Iteration 272. Loss: 33.11988478745598\n",
      "Iteration 273. Loss: 33.00679898551805\n",
      "Iteration 274. Loss: 32.895198094897246\n",
      "Iteration 275. Loss: 32.78506261746395\n",
      "Iteration 276. Loss: 32.6763733111154\n",
      "Iteration 277. Loss: 32.56911118641371\n",
      "Iteration 278. Loss: 32.46325750326825\n",
      "Iteration 279. Loss: 32.35879376766143\n",
      "Iteration 280. Loss: 32.25570172841766\n",
      "Iteration 281. Loss: 32.15396337401455\n",
      "Iteration 282. Loss: 32.05356092943611\n",
      "Iteration 283. Loss: 31.954476853067156\n",
      "Iteration 284. Loss: 31.85669383362864\n",
      "Iteration 285. Loss: 31.76019478715312\n",
      "Iteration 286. Loss: 31.66496285399992\n",
      "Iteration 287. Loss: 31.570981395909623\n",
      "Iteration 288. Loss: 31.47823399309704\n",
      "Iteration 289. Loss: 31.38670444138257\n"
     ]
    },
    {
     "name": "stdout",
     "output_type": "stream",
     "text": [
      "Iteration 290. Loss: 31.29637674936101\n",
      "Iteration 291. Loss: 31.20723513560775\n",
      "Iteration 292. Loss: 31.1192640259215\n",
      "Iteration 293. Loss: 31.032448050603254\n",
      "Iteration 294. Loss: 30.946772041771045\n",
      "Iteration 295. Loss: 30.862221030709897\n",
      "Iteration 296. Loss: 30.778780245256655\n",
      "Iteration 297. Loss: 30.69643510721893\n",
      "Iteration 298. Loss: 30.615171229828324\n",
      "Iteration 299. Loss: 30.53497441522669\n",
      "Iteration 300. Loss: 30.455830651985693\n",
      "Iteration 301. Loss: 30.377726112658756\n",
      "Iteration 302. Loss: 30.30064715136529\n",
      "Iteration 303. Loss: 30.224580301406533\n",
      "Iteration 304. Loss: 30.149512272912762\n",
      "Iteration 305. Loss: 30.075429950521382\n",
      "Iteration 306. Loss: 30.002320391085494\n",
      "Iteration 307. Loss: 29.93017082141256\n",
      "Iteration 308. Loss: 29.858968636032753\n",
      "Iteration 309. Loss: 29.78870139499665\n",
      "Iteration 310. Loss: 29.719356821701744\n",
      "Iteration 311. Loss: 29.65092280074765\n",
      "Iteration 312. Loss: 29.5833873758193\n",
      "Iteration 313. Loss: 29.516738747598094\n",
      "Iteration 314. Loss: 29.450965271700337\n",
      "Iteration 315. Loss: 29.38605545664287\n",
      "Iteration 316. Loss: 29.321997961835333\n",
      "Iteration 317. Loss: 29.258781595598798\n",
      "Iteration 318. Loss: 29.196395313210488\n",
      "Iteration 319. Loss: 29.134828214974064\n",
      "Iteration 320. Loss: 29.07406954431534\n",
      "Iteration 321. Loss: 29.014108685902965\n",
      "Iteration 322. Loss: 28.95493516379377\n",
      "Iteration 323. Loss: 28.896538639602525\n",
      "Iteration 324. Loss: 28.838908910695604\n",
      "Iteration 325. Loss: 28.782035908408552\n",
      "Iteration 326. Loss: 28.725909696286923\n",
      "Iteration 327. Loss: 28.670520468350187\n",
      "Iteration 328. Loss: 28.61585854737861\n",
      "Iteration 329. Loss: 28.561914383222447\n",
      "Iteration 330. Loss: 28.50867855113339\n",
      "Iteration 331. Loss: 28.456141750117983\n",
      "Iteration 332. Loss: 28.40429480131266\n",
      "Iteration 333. Loss: 28.35312864637992\n",
      "Iteration 334. Loss: 28.302634345925927\n",
      "Iteration 335. Loss: 28.252803077938502\n",
      "Iteration 336. Loss: 28.203626136245926\n",
      "Iteration 337. Loss: 28.155094928995766\n",
      "Iteration 338. Loss: 28.107200977153852\n",
      "Iteration 339. Loss: 28.059935913022784\n",
      "Iteration 340. Loss: 28.013291478780083\n",
      "Iteration 341. Loss: 27.967259525035377\n",
      "Iteration 342. Loss: 27.921832009406625\n",
      "Iteration 343. Loss: 27.87700099511499\n",
      "Iteration 344. Loss: 27.832758649598215\n",
      "Iteration 345. Loss: 27.7890972431421\n",
      "Iteration 346. Loss: 27.746009147530128\n",
      "Iteration 347. Loss: 27.703486834710603\n",
      "Iteration 348. Loss: 27.661522875481467\n",
      "Iteration 349. Loss: 27.620109938192343\n",
      "Iteration 350. Loss: 27.57924078746353\n",
      "Iteration 351. Loss: 27.538908282921934\n",
      "Iteration 352. Loss: 27.499105377953526\n",
      "Iteration 353. Loss: 27.45982511847226\n",
      "Iteration 354. Loss: 27.42106064170504\n",
      "Iteration 355. Loss: 27.382805174992715\n",
      "Iteration 356. Loss: 27.345052034606873\n",
      "Iteration 357. Loss: 27.30779462458198\n",
      "Iteration 358. Loss: 27.27102643556314\n",
      "Iteration 359. Loss: 27.234741043668663\n",
      "Iteration 360. Loss: 27.198932109367874\n",
      "Iteration 361. Loss: 27.16359337637339\n",
      "Iteration 362. Loss: 27.128718670548185\n",
      "Iteration 363. Loss: 27.094301898826732\n",
      "Iteration 364. Loss: 27.06033704815067\n",
      "Iteration 365. Loss: 27.02681818441804\n",
      "Iteration 366. Loss: 26.993739451446636\n",
      "Iteration 367. Loss: 26.961095069950897\n",
      "Iteration 368. Loss: 26.928879336532024\n",
      "Iteration 369. Loss: 26.897086622681687\n",
      "Iteration 370. Loss: 26.86571137379857\n",
      "Iteration 371. Loss: 26.834748108217898\n",
      "Iteration 372. Loss: 26.80419141625379\n",
      "Iteration 373. Loss: 26.77403595925405\n",
      "Iteration 374. Loss: 26.74427646866747\n",
      "Iteration 375. Loss: 26.71490774512331\n",
      "Iteration 376. Loss: 26.685924657522936\n",
      "Iteration 377. Loss: 26.657322142143354\n",
      "Iteration 378. Loss: 26.629095201752477\n",
      "Iteration 379. Loss: 26.60123890473606\n",
      "Iteration 380. Loss: 26.573748384236083\n",
      "Iteration 381. Loss: 26.546618837300468\n",
      "Iteration 382. Loss: 26.519845524043916\n",
      "Iteration 383. Loss: 26.493423766819756\n",
      "Iteration 384. Loss: 26.4673489494028\n",
      "Iteration 385. Loss: 26.441616516182716\n",
      "Iteration 386. Loss: 26.41622197136816\n",
      "Iteration 387. Loss: 26.3911608782013\n",
      "Iteration 388. Loss: 26.366428858182676\n",
      "Iteration 389. Loss: 26.34202159030615\n",
      "Iteration 390. Loss: 26.317934810304035\n",
      "Iteration 391. Loss: 26.294164309902058\n",
      "Iteration 392. Loss: 26.270705936084102\n",
      "Iteration 393. Loss: 26.247555590366638\n",
      "Iteration 394. Loss: 26.22470922808266\n",
      "Iteration 395. Loss: 26.202162857675013\n",
      "Iteration 396. Loss: 26.179912539999055\n",
      "Iteration 397. Loss: 26.157954387634383\n",
      "Iteration 398. Loss: 26.136284564205717\n",
      "Iteration 399. Loss: 26.11489928371256\n",
      "Iteration 400. Loss: 26.09379480986782\n",
      "Iteration 401. Loss: 26.072967455444928\n",
      "Iteration 402. Loss: 26.05241358163374\n",
      "Iteration 403. Loss: 26.032129597404705\n",
      "Iteration 404. Loss: 26.01211195888151\n",
      "Iteration 405. Loss: 25.992357168721906\n",
      "Iteration 406. Loss: 25.972861775506694\n",
      "Iteration 407. Loss: 25.953622373136657\n",
      "Iteration 408. Loss: 25.934635600237556\n",
      "Iteration 409. Loss: 25.915898139572796\n",
      "Iteration 410. Loss: 25.897406717463884\n",
      "Iteration 411. Loss: 25.879158103218455\n",
      "Iteration 412. Loss: 25.861149108565858\n",
      "Iteration 413. Loss: 25.843376587100078\n",
      "Iteration 414. Loss: 25.82583743373008\n",
      "Iteration 415. Loss: 25.808528584137267\n",
      "Iteration 416. Loss: 25.79144701424011\n",
      "Iteration 417. Loss: 25.774589739665785\n",
      "Iteration 418. Loss: 25.757953815228813\n",
      "Iteration 419. Loss: 25.741536334416455\n",
      "Iteration 420. Loss: 25.7253344288809\n",
      "Iteration 421. Loss: 25.709345267938176\n",
      "Iteration 422. Loss: 25.693566058073568\n",
      "Iteration 423. Loss: 25.677994042453506\n",
      "Iteration 424. Loss: 25.662626500444016\n",
      "Iteration 425. Loss: 25.64746074713527\n",
      "Iteration 426. Loss: 25.632494132872583\n",
      "Iteration 427. Loss: 25.617724042793434\n",
      "Iteration 428. Loss: 25.60314789637069\n",
      "Iteration 429. Loss: 25.588763146961647\n",
      "Iteration 430. Loss: 25.574567281363166\n",
      "Iteration 431. Loss: 25.560557819372598\n",
      "Iteration 432. Loss: 25.546732313354383\n",
      "Iteration 433. Loss: 25.533088347812505\n",
      "Iteration 434. Loss: 25.519623538968457\n",
      "Iteration 435. Loss: 25.506335534344657\n",
      "Iteration 436. Loss: 25.493222012353606\n",
      "Iteration 437. Loss: 25.480280681892147\n",
      "Iteration 438. Loss: 25.46750928194126\n",
      "Iteration 439. Loss: 25.45490558117096\n",
      "Iteration 440. Loss: 25.442467377550535\n",
      "Iteration 441. Loss: 25.430192497963755\n",
      "Iteration 442. Loss: 25.418078797829242\n",
      "Iteration 443. Loss: 25.406124160725742\n",
      "Iteration 444. Loss: 25.394326498022426\n",
      "Iteration 445. Loss: 25.38268374851389\n",
      "Iteration 446. Loss: 25.37119387806012\n",
      "Iteration 447. Loss: 25.35985487923105\n",
      "Iteration 448. Loss: 25.348664770955857\n",
      "Iteration 449. Loss: 25.337621598176828\n",
      "Iteration 450. Loss: 25.326723431507823\n",
      "Iteration 451. Loss: 25.315968366897113\n",
      "Iteration 452. Loss: 25.30535452529481\n",
      "Iteration 453. Loss: 25.294880052324483\n",
      "Iteration 454. Loss: 25.28454311795926\n",
      "Iteration 455. Loss: 25.27434191620202\n",
      "Iteration 456. Loss: 25.26427466476991\n",
      "Iteration 457. Loss: 25.254339604782956\n",
      "Iteration 458. Loss: 25.24453500045671\n",
      "Iteration 459. Loss: 25.234859138799095\n",
      "Iteration 460. Loss: 25.225310329311004\n",
      "Iteration 461. Loss: 25.215886903691\n",
      "Iteration 462. Loss: 25.206587215543866\n",
      "Iteration 463. Loss: 25.19740964009292\n",
      "Iteration 464. Loss: 25.18835257389617\n",
      "Iteration 465. Loss: 25.17941443456614\n",
      "Iteration 466. Loss: 25.170593660493438\n",
      "Iteration 467. Loss: 25.161888710573926\n",
      "Iteration 468. Loss: 25.15329806393942\n",
      "Iteration 469. Loss: 25.144820219692054\n",
      "Iteration 470. Loss: 25.13645369664197\n",
      "Iteration 471. Loss: 25.128197033048593\n",
      "Iteration 472. Loss: 25.120048786365206\n",
      "Iteration 473. Loss: 25.112007532986983\n",
      "Iteration 474. Loss: 25.10407186800218\n",
      "Iteration 475. Loss: 25.09624040494673\n",
      "Iteration 476. Loss: 25.088511775561997\n",
      "Iteration 477. Loss: 25.08088462955577\n",
      "Iteration 478. Loss: 25.073357634366225\n",
      "Iteration 479. Loss: 25.065929474929284\n",
      "Iteration 480. Loss: 25.05859885344868\n",
      "Iteration 481. Loss: 25.051364489169348\n",
      "Iteration 482. Loss: 25.044225118153598\n",
      "Iteration 483. Loss: 25.037179493060286\n",
      "Iteration 484. Loss: 25.030226382926937\n",
      "Iteration 485. Loss: 25.02336457295461\n",
      "Iteration 486. Loss: 25.016592864295685\n",
      "Iteration 487. Loss: 25.00991007384447\n",
      "Iteration 488. Loss: 25.00331503403038\n",
      "Iteration 489. Loss: 24.996806592614053\n",
      "Iteration 490. Loss: 24.990383612485964\n",
      "Iteration 491. Loss: 24.984044971467824\n",
      "Iteration 492. Loss: 24.977789562116435\n",
      "Iteration 493. Loss: 24.97161629153032\n",
      "Iteration 494. Loss: 24.965524081158648\n",
      "Iteration 495. Loss: 24.959511866612903\n",
      "Iteration 496. Loss: 24.953578597480885\n",
      "Iteration 497. Loss: 24.947723237143165\n",
      "Iteration 498. Loss: 24.941944762592016\n",
      "Iteration 499. Loss: 24.936242164252636\n",
      "Iteration 500. Loss: 24.93061444580681\n",
      "Iteration 501. Loss: 24.9250606240188\n",
      "Iteration 502. Loss: 24.919579728563583\n",
      "Iteration 503. Loss: 24.914170801857317\n",
      "Iteration 504. Loss: 24.908832898890033\n",
      "Iteration 505. Loss: 24.90356508706053\n",
      "Iteration 506. Loss: 24.89836644601347\n",
      "Iteration 507. Loss: 24.89323606747852\n",
      "Iteration 508. Loss: 24.888173055111707\n",
      "Iteration 509. Loss: 24.883176524338808\n",
      "Iteration 510. Loss: 24.878245602200817\n",
      "Iteration 511. Loss: 24.873379427201357\n",
      "Iteration 512. Loss: 24.868577149156295\n",
      "Iteration 513. Loss: 24.863837929045072\n",
      "Iteration 514. Loss: 24.859160938864193\n",
      "Iteration 515. Loss: 24.854545361482547\n",
      "Iteration 516. Loss: 24.849990390498597\n",
      "Iteration 517. Loss: 24.84549523009962\n",
      "Iteration 518. Loss: 24.841059094922496\n",
      "Iteration 519. Loss: 24.836681209916623\n",
      "Iteration 520. Loss: 24.83236081020846\n",
      "Iteration 521. Loss: 24.828097140967866\n",
      "Iteration 522. Loss: 24.823889457276298\n",
      "Iteration 523. Loss: 24.819737023996588\n",
      "Iteration 524. Loss: 24.815639115644547\n",
      "Iteration 525. Loss: 24.811595016262185\n",
      "Iteration 526. Loss: 24.80760401929267\n",
      "Iteration 527. Loss: 24.803665427456806\n",
      "Iteration 528. Loss: 24.799778552631324\n",
      "Iteration 529. Loss: 24.795942715728522\n",
      "Iteration 530. Loss: 24.792157246577723\n",
      "Iteration 531. Loss: 24.788421483808154\n",
      "Iteration 532. Loss: 24.78473477473339\n",
      "Iteration 533. Loss: 24.78109647523732\n",
      "Iteration 534. Loss: 24.77750594966162\n",
      "Iteration 535. Loss: 24.77396257069469\n",
      "Iteration 536. Loss: 24.770465719262063\n",
      "Iteration 537. Loss: 24.767014784418237\n",
      "Iteration 538. Loss: 24.763609163239927\n",
      "Iteration 539. Loss: 24.760248260720747\n",
      "Iteration 540. Loss: 24.756931489667252\n",
      "Iteration 541. Loss: 24.753658270596308\n",
      "Iteration 542. Loss: 24.75042803163391\n",
      "Iteration 543. Loss: 24.74724020841522\n",
      "Iteration 544. Loss: 24.744094243985995\n",
      "Iteration 545. Loss: 24.74098958870525\n",
      "Iteration 546. Loss: 24.737925700149273\n",
      "Iteration 547. Loss: 24.734902043016813\n",
      "Iteration 548. Loss: 24.731918089035567\n",
      "Iteration 549. Loss: 24.728973316869897\n",
      "Iteration 550. Loss: 24.726067212029758\n",
      "Iteration 551. Loss: 24.72319926678076\n",
      "Iteration 552. Loss: 24.7203689800555\n",
      "Iteration 553. Loss: 24.717575857366008\n",
      "Iteration 554. Loss: 24.714819410717386\n",
      "Iteration 555. Loss: 24.71209915852246\n",
      "Iteration 556. Loss: 24.709414625517752\n",
      "Iteration 557. Loss: 24.70676534268036\n",
      "Iteration 558. Loss: 24.704150847146057\n",
      "Iteration 559. Loss: 24.70157068212843\n",
      "Iteration 560. Loss: 24.69902439683901\n",
      "Iteration 561. Loss: 24.696511546408583\n",
      "Iteration 562. Loss: 24.694031691809453\n",
      "Iteration 563. Loss: 24.69158439977871\n",
      "Iteration 564. Loss: 24.689169242742555\n",
      "Iteration 565. Loss: 24.68678579874158\n"
     ]
    },
    {
     "name": "stdout",
     "output_type": "stream",
     "text": [
      "Iteration 566. Loss: 24.684433651357075\n",
      "Iteration 567. Loss: 24.68211238963823\n",
      "Iteration 568. Loss: 24.679821608030398\n",
      "Iteration 569. Loss: 24.677560906304173\n",
      "Iteration 570. Loss: 24.675329889485525\n",
      "Iteration 571. Loss: 24.67312816778674\n",
      "Iteration 572. Loss: 24.67095535653835\n",
      "Iteration 573. Loss: 24.66881107612193\n",
      "Iteration 574. Loss: 24.666694951903732\n",
      "Iteration 575. Loss: 24.664606614169323\n",
      "Iteration 576. Loss: 24.662545698058864\n",
      "Iteration 577. Loss: 24.660511843503482\n",
      "Iteration 578. Loss: 24.65850469516224\n",
      "Iteration 579. Loss: 24.656523902360245\n",
      "Iteration 580. Loss: 24.65456911902713\n",
      "Iteration 581. Loss: 24.652640003636808\n",
      "Iteration 582. Loss: 24.650736219147667\n",
      "Iteration 583. Loss: 24.648857432943775\n",
      "Iteration 584. Loss: 24.647003316776694\n",
      "Iteration 585. Loss: 24.645173546708172\n",
      "Iteration 586. Loss: 24.643367803053533\n",
      "Iteration 587. Loss: 24.641585770325843\n",
      "Iteration 588. Loss: 24.639827137180774\n",
      "Iteration 589. Loss: 24.638091596362187\n",
      "Iteration 590. Loss: 24.636378844648508\n",
      "Iteration 591. Loss: 24.634688582799683\n",
      "Iteration 592. Loss: 24.633020515504953\n",
      "Iteration 593. Loss: 24.631374351331218\n",
      "Iteration 594. Loss: 24.629749802672166\n",
      "Iteration 595. Loss: 24.628146585697976\n",
      "Iteration 596. Loss: 24.626564420305748\n",
      "Iteration 597. Loss: 24.625003030070577\n",
      "Iteration 598. Loss: 24.623462142197248\n",
      "Iteration 599. Loss: 24.62194148747259\n",
      "Iteration 600. Loss: 24.620440800218383\n",
      "Iteration 601. Loss: 24.618959818245024\n",
      "Iteration 602. Loss: 24.617498282805673\n",
      "Iteration 603. Loss: 24.616055938551042\n",
      "Iteration 604. Loss: 24.6146325334848\n",
      "Iteration 605. Loss: 24.613227818919526\n",
      "Iteration 606. Loss: 24.61184154943331\n",
      "Iteration 607. Loss: 24.610473482826784\n",
      "Iteration 608. Loss: 24.609123380080906\n",
      "Iteration 609. Loss: 24.607791005315125\n",
      "Iteration 610. Loss: 24.606476125746216\n",
      "Iteration 611. Loss: 24.605178511647587\n",
      "Iteration 612. Loss: 24.603897936309156\n",
      "Iteration 613. Loss: 24.602634175997718\n",
      "Iteration 614. Loss: 24.60138700991789\n",
      "Iteration 615. Loss: 24.600156220173503\n",
      "Iteration 616. Loss: 24.598941591729535\n",
      "Iteration 617. Loss: 24.597742912374613\n",
      "Iteration 618. Loss: 24.596559972683814\n",
      "Iteration 619. Loss: 24.59539256598216\n",
      "Iteration 620. Loss: 24.59424048830849\n",
      "Iteration 621. Loss: 24.593103538379832\n",
      "Iteration 622. Loss: 24.591981517556217\n",
      "Iteration 623. Loss: 24.59087422980599\n",
      "Iteration 624. Loss: 24.589781481671558\n",
      "Iteration 625. Loss: 24.58870308223558\n",
      "Iteration 626. Loss: 24.58763884308761\n",
      "Iteration 627. Loss: 24.586588578291238\n",
      "Iteration 628. Loss: 24.585552104351493\n",
      "Iteration 629. Loss: 24.584529240182892\n",
      "Iteration 630. Loss: 24.583519807077725\n",
      "Iteration 631. Loss: 24.582523628674878\n",
      "Iteration 632. Loss: 24.581540530929015\n",
      "Iteration 633. Loss: 24.580570342080136\n",
      "Iteration 634. Loss: 24.579612892623622\n",
      "Iteration 635. Loss: 24.578668015280584\n",
      "Iteration 636. Loss: 24.577735544968622\n",
      "Iteration 637. Loss: 24.576815318773043\n",
      "Iteration 638. Loss: 24.57590717591833\n",
      "Iteration 639. Loss: 24.57501095774009\n",
      "Iteration 640. Loss: 24.574126507657343\n",
      "Iteration 641. Loss: 24.573253671145128\n",
      "Iteration 642. Loss: 24.57239229570754\n",
      "Iteration 643. Loss: 24.57154223085106\n",
      "Iteration 644. Loss: 24.57070332805829\n",
      "Iteration 645. Loss: 24.569875440761983\n",
      "Iteration 646. Loss: 24.569058424319437\n",
      "Iteration 647. Loss: 24.56825213598723\n",
      "Iteration 648. Loss: 24.567456434896304\n",
      "Iteration 649. Loss: 24.5666711820273\n",
      "Iteration 650. Loss: 24.56589624018631\n",
      "Iteration 651. Loss: 24.5651314739809\n",
      "Iteration 652. Loss: 24.564376749796445\n",
      "Iteration 653. Loss: 24.563631935772808\n",
      "Iteration 654. Loss: 24.56289690178127\n",
      "Iteration 655. Loss: 24.562171519401815\n",
      "Iteration 656. Loss: 24.561455661900695\n",
      "Iteration 657. Loss: 24.560749204208268\n",
      "Iteration 658. Loss: 24.560052022897175\n",
      "Iteration 659. Loss: 24.559363996160776\n",
      "Iteration 660. Loss: 24.5586850037918\n",
      "Iteration 661. Loss: 24.558014927161462\n",
      "Iteration 662. Loss: 24.55735364919865\n",
      "Iteration 663. Loss: 24.55670105436946\n",
      "Iteration 664. Loss: 24.556057028657097\n",
      "Iteration 665. Loss: 24.55542145954187\n",
      "Iteration 666. Loss: 24.55479423598157\n",
      "Iteration 667. Loss: 24.554175248392074\n",
      "Iteration 668. Loss: 24.553564388628192\n",
      "Iteration 669. Loss: 24.55296154996475\n",
      "Iteration 670. Loss: 24.552366627077987\n",
      "Iteration 671. Loss: 24.551779516027125\n",
      "Iteration 672. Loss: 24.551200114236213\n",
      "Iteration 673. Loss: 24.550628320476214\n",
      "Iteration 674. Loss: 24.550064034847296\n",
      "Iteration 675. Loss: 24.54950715876143\n",
      "Iteration 676. Loss: 24.548957594925096\n",
      "Iteration 677. Loss: 24.54841524732231\n",
      "Iteration 678. Loss: 24.547880021197912\n",
      "Iteration 679. Loss: 24.54735182304091\n",
      "Iteration 680. Loss: 24.546830560568207\n",
      "Iteration 681. Loss: 24.546316142708463\n",
      "Iteration 682. Loss: 24.54580847958617\n",
      "Iteration 683. Loss: 24.545307482505976\n",
      "Iteration 684. Loss: 24.544813063937138\n",
      "Iteration 685. Loss: 24.544325137498316\n",
      "Iteration 686. Loss: 24.543843617942404\n",
      "Iteration 687. Loss: 24.54336842114165\n",
      "Iteration 688. Loss: 24.542899464072978\n",
      "Iteration 689. Loss: 24.542436664803493\n",
      "Iteration 690. Loss: 24.541979942476132\n",
      "Iteration 691. Loss: 24.541529217295537\n",
      "Iteration 692. Loss: 24.541084410514166\n",
      "Iteration 693. Loss: 24.540645444418473\n",
      "Iteration 694. Loss: 24.54021224231535\n",
      "Iteration 695. Loss: 24.53978472851878\n",
      "Iteration 696. Loss: 24.539362828336483\n",
      "Iteration 697. Loss: 24.538946468057038\n",
      "Iteration 698. Loss: 24.538535574936862\n",
      "Iteration 699. Loss: 24.538130077187574\n",
      "Iteration 700. Loss: 24.53772990396346\n",
      "Iteration 701. Loss: 24.537334985349005\n",
      "Iteration 702. Loss: 24.536945252346808\n",
      "Iteration 703. Loss: 24.53656063686544\n",
      "Iteration 704. Loss: 24.536181071707546\n",
      "Iteration 705. Loss: 24.53580649055815\n",
      "Iteration 706. Loss: 24.535436827973058\n",
      "Iteration 707. Loss: 24.53507201936739\n",
      "Iteration 708. Loss: 24.534712001004333\n",
      "Iteration 709. Loss: 24.53435670998399\n",
      "Iteration 710. Loss: 24.53400608423238\n",
      "Iteration 711. Loss: 24.53366006249064\n",
      "Iteration 712. Loss: 24.533318584304247\n",
      "Iteration 713. Loss: 24.532981590012504\n",
      "Iteration 714. Loss: 24.53264902073814\n",
      "Iteration 715. Loss: 24.53232081837694\n",
      "Iteration 716. Loss: 24.531996925587716\n",
      "Iteration 717. Loss: 24.53167728578215\n",
      "Iteration 718. Loss: 24.53136184311501\n",
      "Iteration 719. Loss: 24.531050542474336\n",
      "Iteration 720. Loss: 24.530743329471882\n",
      "Iteration 721. Loss: 24.530440150433517\n",
      "Iteration 722. Loss: 24.53014095238992\n",
      "Iteration 723. Loss: 24.52984568306728\n",
      "Iteration 724. Loss: 24.529554290878206\n",
      "Iteration 725. Loss: 24.529266724912695\n",
      "Iteration 726. Loss: 24.52898293492921\n",
      "Iteration 727. Loss: 24.528702871345963\n",
      "Iteration 728. Loss: 24.528426485232185\n",
      "Iteration 729. Loss: 24.528153728299618\n",
      "Iteration 730. Loss: 24.527884552894086\n",
      "Iteration 731. Loss: 24.527618911987126\n",
      "Iteration 732. Loss: 24.527356759167816\n",
      "Iteration 733. Loss: 24.527098048634638\n",
      "Iteration 734. Loss: 24.526842735187508\n",
      "Iteration 735. Loss: 24.526590774219805\n",
      "Iteration 736. Loss: 24.526342121710716\n",
      "Iteration 737. Loss: 24.52609673421736\n",
      "Iteration 738. Loss: 24.525854568867373\n",
      "Iteration 739. Loss: 24.52561558335131\n",
      "Iteration 740. Loss: 24.525379735915266\n",
      "Iteration 741. Loss: 24.525146985353647\n",
      "Iteration 742. Loss: 24.5249172910019\n",
      "Iteration 743. Loss: 24.524690612729405\n",
      "Iteration 744. Loss: 24.52446691093253\n",
      "Iteration 745. Loss: 24.524246146527663\n",
      "Iteration 746. Loss: 24.52402828094437\n",
      "Iteration 747. Loss: 24.523813276118698\n",
      "Iteration 748. Loss: 24.523601094486516\n",
      "Iteration 749. Loss: 24.523391698976923\n",
      "Iteration 750. Loss: 24.523185053005776\n",
      "Iteration 751. Loss: 24.522981120469364\n",
      "Iteration 752. Loss: 24.522779865737995\n",
      "Iteration 753. Loss: 24.52258125364985\n",
      "Iteration 754. Loss: 24.5223852495048\n",
      "Iteration 755. Loss: 24.52219181905839\n",
      "Iteration 756. Loss: 24.522000928515784\n",
      "Iteration 757. Loss: 24.521812544525915\n",
      "Iteration 758. Loss: 24.521626634175664\n",
      "Iteration 759. Loss: 24.521443164984046\n",
      "Iteration 760. Loss: 24.521262104896618\n",
      "Iteration 761. Loss: 24.521083422279826\n",
      "Iteration 762. Loss: 24.520907085915482\n",
      "Iteration 763. Loss: 24.520733064995326\n",
      "Iteration 764. Loss: 24.520561329115637\n",
      "Iteration 765. Loss: 24.520391848271924\n",
      "Iteration 766. Loss: 24.520224592853666\n",
      "Iteration 767. Loss: 24.520059533639177\n",
      "Iteration 768. Loss: 24.519896641790442\n",
      "Iteration 769. Loss: 24.51973588884815\n",
      "Iteration 770. Loss: 24.51957724672666\n",
      "Iteration 771. Loss: 24.519420687709122\n",
      "Iteration 772. Loss: 24.519266184442646\n",
      "Iteration 773. Loss: 24.5191137099335\n",
      "Iteration 774. Loss: 24.51896323754239\n",
      "Iteration 775. Loss: 24.518814740979835\n",
      "Iteration 776. Loss: 24.51866819430155\n",
      "Iteration 777. Loss: 24.518523571903916\n",
      "Iteration 778. Loss: 24.518380848519527\n",
      "Iteration 779. Loss: 24.51823999921272\n",
      "Iteration 780. Loss: 24.518100999375335\n",
      "Iteration 781. Loss: 24.51796382472225\n",
      "Iteration 782. Loss: 24.517828451287283\n",
      "Iteration 783. Loss: 24.517694855418917\n",
      "Iteration 784. Loss: 24.51756301377624\n",
      "Iteration 785. Loss: 24.517432903324767\n",
      "Iteration 786. Loss: 24.517304501332525\n",
      "Iteration 787. Loss: 24.517177785366012\n",
      "Iteration 788. Loss: 24.517052733286285\n",
      "Iteration 789. Loss: 24.51692932324514\n",
      "Iteration 790. Loss: 24.516807533681224\n",
      "Iteration 791. Loss: 24.51668734331631\n",
      "Iteration 792. Loss: 24.51656873115157\n",
      "Iteration 793. Loss: 24.516451676463923\n",
      "Iteration 794. Loss: 24.516336158802392\n",
      "Iteration 795. Loss: 24.516222157984522\n",
      "Iteration 796. Loss: 24.5161096540929\n",
      "Iteration 797. Loss: 24.515998627471628\n",
      "Iteration 798. Loss: 24.515889058722895\n",
      "Iteration 799. Loss: 24.51578092870364\n",
      "Iteration 800. Loss: 24.51567421852212\n",
      "Iteration 801. Loss: 24.515568909534664\n",
      "Iteration 802. Loss: 24.515464983342454\n",
      "Iteration 803. Loss: 24.515362421788208\n",
      "Iteration 804. Loss: 24.515261206953085\n",
      "Iteration 805. Loss: 24.515161321153542\n",
      "Iteration 806. Loss: 24.51506274693823\n",
      "Iteration 807. Loss: 24.514965467084952\n",
      "Iteration 808. Loss: 24.514869464597627\n",
      "Iteration 809. Loss: 24.51477472270339\n",
      "Iteration 810. Loss: 24.5146812248496\n",
      "Iteration 811. Loss: 24.51458895470096\n",
      "Iteration 812. Loss: 24.514497896136668\n",
      "Iteration 813. Loss: 24.51440803324761\n",
      "Iteration 814. Loss: 24.514319350333572\n",
      "Iteration 815. Loss: 24.514231831900478\n",
      "Iteration 816. Loss: 24.514145462657734\n",
      "Iteration 817. Loss: 24.51406022751551\n",
      "Iteration 818. Loss: 24.513976111582103\n",
      "Iteration 819. Loss: 24.513893100161376\n",
      "Iteration 820. Loss: 24.513811178750142\n",
      "Iteration 821. Loss: 24.513730333035664\n",
      "Iteration 822. Loss: 24.51365054889315\n",
      "Iteration 823. Loss: 24.51357181238327\n",
      "Iteration 824. Loss: 24.51349410974972\n",
      "Iteration 825. Loss: 24.513417427416844\n",
      "Iteration 826. Loss: 24.513341751987237\n",
      "Iteration 827. Loss: 24.513267070239422\n",
      "Iteration 828. Loss: 24.513193369125513\n",
      "Iteration 829. Loss: 24.513120635768974\n",
      "Iteration 830. Loss: 24.51304885746235\n",
      "Iteration 831. Loss: 24.51297802166502\n",
      "Iteration 832. Loss: 24.512908116001046\n",
      "Iteration 833. Loss: 24.51283912825701\n",
      "Iteration 834. Loss: 24.512771046379843\n",
      "Iteration 835. Loss: 24.512703858474765\n",
      "Iteration 836. Loss: 24.51263755280317\n",
      "Iteration 837. Loss: 24.512572117780582\n",
      "Iteration 838. Loss: 24.51250754197465\n",
      "Iteration 839. Loss: 24.51244381410316\n",
      "Iteration 840. Loss: 24.512380923032012\n",
      "Iteration 841. Loss: 24.512318857773316\n",
      "Iteration 842. Loss: 24.51225760748346\n",
      "Iteration 843. Loss: 24.51219716146122\n",
      "Iteration 844. Loss: 24.512137509145884\n"
     ]
    },
    {
     "name": "stdout",
     "output_type": "stream",
     "text": [
      "Iteration 845. Loss: 24.51207864011543\n",
      "Iteration 846. Loss: 24.51202054408467\n",
      "Iteration 847. Loss: 24.51196321090345\n",
      "Iteration 848. Loss: 24.51190663055494\n",
      "Iteration 849. Loss: 24.5118507931538\n",
      "Iteration 850. Loss: 24.511795688944524\n",
      "Iteration 851. Loss: 24.51174130829967\n",
      "Iteration 852. Loss: 24.511687641718247\n",
      "Iteration 853. Loss: 24.51163467982399\n",
      "Iteration 854. Loss: 24.511582413363783\n",
      "Iteration 855. Loss: 24.51153083320597\n",
      "Iteration 856. Loss: 24.51147993033886\n",
      "Iteration 857. Loss: 24.511429695869033\n",
      "Iteration 858. Loss: 24.511380121019858\n",
      "Iteration 859. Loss: 24.51133119713001\n",
      "Iteration 860. Loss: 24.511282915651808\n",
      "Iteration 861. Loss: 24.511235268149875\n",
      "Iteration 862. Loss: 24.511188246299547\n",
      "Iteration 863. Loss: 24.511141841885514\n",
      "Iteration 864. Loss: 24.511096046800304\n",
      "Iteration 865. Loss: 24.511050853042935\n",
      "Iteration 866. Loss: 24.511006252717447\n",
      "Iteration 867. Loss: 24.51096223803162\n",
      "Iteration 868. Loss: 24.51091880129548\n",
      "Iteration 869. Loss: 24.51087593492007\n",
      "Iteration 870. Loss: 24.51083363141609\n",
      "Iteration 871. Loss: 24.51079188339255\n",
      "Iteration 872. Loss: 24.51075068355553\n",
      "Iteration 873. Loss: 24.510710024706896\n",
      "Iteration 874. Loss: 24.510669899743\n",
      "Iteration 875. Loss: 24.510630301653496\n",
      "Iteration 876. Loss: 24.510591223520088\n",
      "Iteration 877. Loss: 24.5105526585153\n",
      "Iteration 878. Loss: 24.51051459990134\n",
      "Iteration 879. Loss: 24.51047704102885\n",
      "Iteration 880. Loss: 24.510439975335835\n",
      "Iteration 881. Loss: 24.510403396346412\n",
      "Iteration 882. Loss: 24.510367297669767\n",
      "Iteration 883. Loss: 24.510331672998998\n",
      "Iteration 884. Loss: 24.51029651610999\n",
      "Iteration 885. Loss: 24.510261820860382\n",
      "Iteration 886. Loss: 24.510227581188484\n",
      "Iteration 887. Loss: 24.51019379111215\n",
      "Iteration 888. Loss: 24.510160444727834\n",
      "Iteration 889. Loss: 24.51012753620947\n",
      "Iteration 890. Loss: 24.51009505980752\n",
      "Iteration 891. Loss: 24.51006300984794\n",
      "Iteration 892. Loss: 24.51003138073119\n",
      "Iteration 893. Loss: 24.510000166931217\n",
      "Iteration 894. Loss: 24.50996936299461\n",
      "Iteration 895. Loss: 24.50993896353949\n",
      "Iteration 896. Loss: 24.509908963254674\n",
      "Iteration 897. Loss: 24.509879356898743\n",
      "Iteration 898. Loss: 24.509850139299058\n",
      "Iteration 899. Loss: 24.50982130535094\n",
      "Iteration 900. Loss: 24.509792850016705\n",
      "Iteration 901. Loss: 24.509764768324857\n",
      "Iteration 902. Loss: 24.50973705536915\n",
      "Iteration 903. Loss: 24.50970970630776\n",
      "Iteration 904. Loss: 24.509682716362466\n",
      "Iteration 905. Loss: 24.50965608081776\n",
      "Iteration 906. Loss: 24.509629795020075\n",
      "Iteration 907. Loss: 24.50960385437693\n",
      "Iteration 908. Loss: 24.50957825435616\n",
      "Iteration 909. Loss: 24.509552990485112\n",
      "Iteration 910. Loss: 24.509528058349858\n",
      "Iteration 911. Loss: 24.509503453594427\n",
      "Iteration 912. Loss: 24.50947917192004\n",
      "Iteration 913. Loss: 24.509455209084383\n",
      "Iteration 914. Loss: 24.50943156090084\n",
      "Iteration 915. Loss: 24.50940822323775\n",
      "Iteration 916. Loss: 24.509385192017724\n",
      "Iteration 917. Loss: 24.509362463216924\n",
      "Iteration 918. Loss: 24.50934003286431\n",
      "Iteration 919. Loss: 24.509317897041015\n",
      "Iteration 920. Loss: 24.509296051879634\n",
      "Iteration 921. Loss: 24.509274493563517\n",
      "Iteration 922. Loss: 24.509253218326158\n",
      "Iteration 923. Loss: 24.50923222245047\n",
      "Iteration 924. Loss: 24.509211502268236\n",
      "Iteration 925. Loss: 24.509191054159352\n",
      "Iteration 926. Loss: 24.509170874551266\n",
      "Iteration 927. Loss: 24.50915095991834\n",
      "Iteration 928. Loss: 24.509131306781217\n",
      "Iteration 929. Loss: 24.509111911706263\n",
      "Iteration 930. Loss: 24.509092771304882\n",
      "Iteration 931. Loss: 24.509073882233004\n",
      "Iteration 932. Loss: 24.509055241190477\n",
      "Iteration 933. Loss: 24.509036844920452\n",
      "Iteration 934. Loss: 24.509018690208862\n",
      "Iteration 935. Loss: 24.509000773883837\n",
      "Iteration 936. Loss: 24.50898309281518\n",
      "Iteration 937. Loss: 24.508965643913754\n",
      "Iteration 938. Loss: 24.508948424131038\n",
      "Iteration 939. Loss: 24.508931430458478\n",
      "Iteration 940. Loss: 24.50891465992708\n",
      "Iteration 941. Loss: 24.508898109606818\n",
      "Iteration 942. Loss: 24.508881776606117\n",
      "Iteration 943. Loss: 24.508865658071404\n",
      "Iteration 944. Loss: 24.508849751186553\n",
      "Iteration 945. Loss: 24.50883405317242\n",
      "Iteration 946. Loss: 24.50881856128638\n",
      "Iteration 947. Loss: 24.508803272821762\n",
      "Iteration 948. Loss: 24.50878818510751\n",
      "Iteration 949. Loss: 24.50877329550757\n",
      "Iteration 950. Loss: 24.50875860142056\n",
      "Iteration 951. Loss: 24.508744100279223\n",
      "Iteration 952. Loss: 24.508729789550017\n",
      "Iteration 953. Loss: 24.50871566673267\n",
      "Iteration 954. Loss: 24.508701729359746\n",
      "Iteration 955. Loss: 24.50868797499622\n",
      "Iteration 956. Loss: 24.50867440123899\n",
      "Iteration 957. Loss: 24.50866100571658\n",
      "Iteration 958. Loss: 24.50864778608858\n",
      "Iteration 959. Loss: 24.50863474004539\n",
      "Iteration 960. Loss: 24.508621865307674\n",
      "Iteration 961. Loss: 24.50860915962605\n",
      "Iteration 962. Loss: 24.50859662078067\n",
      "Iteration 963. Loss: 24.50858424658083\n",
      "Iteration 964. Loss: 24.5085720348646\n",
      "Iteration 965. Loss: 24.508559983498436\n",
      "Iteration 966. Loss: 24.508548090376802\n",
      "Iteration 967. Loss: 24.508536353421828\n",
      "Iteration 968. Loss: 24.5085247705829\n",
      "Iteration 969. Loss: 24.508513339836345\n",
      "Iteration 970. Loss: 24.508502059185076\n",
      "Iteration 971. Loss: 24.50849092665821\n",
      "Iteration 972. Loss: 24.508479940310743\n",
      "Iteration 973. Loss: 24.508469098223223\n",
      "Iteration 974. Loss: 24.508458398501393\n",
      "Iteration 975. Loss: 24.50844783927588\n",
      "Iteration 976. Loss: 24.50843741870184\n",
      "Iteration 977. Loss: 24.50842713495867\n",
      "Iteration 978. Loss: 24.50841698624966\n",
      "Iteration 979. Loss: 24.5084069708017\n",
      "Iteration 980. Loss: 24.508397086864967\n",
      "Iteration 981. Loss: 24.508387332712605\n",
      "Iteration 982. Loss: 24.508377706640427\n",
      "Iteration 983. Loss: 24.508368206966644\n",
      "Iteration 984. Loss: 24.508358832031544\n",
      "Iteration 985. Loss: 24.508349580197184\n",
      "Iteration 986. Loss: 24.50834044984716\n",
      "Iteration 987. Loss: 24.508331439386296\n",
      "Iteration 988. Loss: 24.50832254724032\n",
      "Iteration 989. Loss: 24.508313771855665\n",
      "Iteration 990. Loss: 24.50830511169917\n",
      "Iteration 991. Loss: 24.508296565257787\n",
      "Iteration 992. Loss: 24.508288131038334\n",
      "Iteration 993. Loss: 24.508279807567252\n",
      "Iteration 994. Loss: 24.50827159339031\n",
      "Iteration 995. Loss: 24.508263487072405\n",
      "Iteration 996. Loss: 24.508255487197246\n",
      "Iteration 997. Loss: 24.50824759236713\n",
      "Iteration 998. Loss: 24.508239801202773\n",
      "Iteration 999. Loss: 24.508232112342903\n"
     ]
    }
   ],
   "source": [
    "# Operate remotely\n",
    "x_big = th.cat((x_remote.view(-1, 1), th.ones_like(x_remote).view(-1, 1)), dim=1)\n",
    "\n",
    "for i in range(1000):\n",
    "    y_pred = x_big.mm(coefs.view(-1, 1))\n",
    "    loss = ((y_remote.view(1, -1) - y_pred.view(1, -1)) ** 2).mean()\n",
    "    loss.backward()\n",
    "    \n",
    "    # Gradient descent\n",
    "    with th.no_grad():\n",
    "        coefs -=  eta * coefs.grad\n",
    "    coefs.grad.zero_()\n",
    "    print(f'Iteration {i}. Loss: {loss.item()}')"
   ]
  },
  {
   "cell_type": "code",
   "execution_count": 54,
   "metadata": {},
   "outputs": [
    {
     "data": {
      "text/plain": [
       "tensor([ 70.0801, -12.2301], dtype=torch.float64, requires_grad=True)"
      ]
     },
     "execution_count": 54,
     "metadata": {},
     "output_type": "execute_result"
    }
   ],
   "source": [
    "# Retrieve the results\n",
    "coefs = coefs.get()\n",
    "x_big_local = th.cat([x_t.view(-1, 1), th.ones_like(x_t).view(-1, 1)], 1)\n",
    "y_pred = x_big_local.mm(coefs.view(-1, 1))\n",
    "coefs"
   ]
  },
  {
   "cell_type": "code",
   "execution_count": 55,
   "metadata": {},
   "outputs": [
    {
     "data": {
      "text/plain": [
       "[<matplotlib.lines.Line2D at 0x7f70a0253b70>]"
      ]
     },
     "execution_count": 55,
     "metadata": {},
     "output_type": "execute_result"
    },
    {
     "data": {
      "image/png": "[encoded data removed]",
      "text/plain": [
       "<Figure size 432x288 with 1 Axes>"
      ]
     },
     "metadata": {
      "needs_background": "light"
     },
     "output_type": "display_data"
    }
   ],
   "source": [
    "# Show the results\n",
    "plt.scatter(x, y)\n",
    "plt.plot(x, y_pred.data.numpy(), 'r')"
   ]
  },
  {
   "cell_type": "markdown",
   "metadata": {},
   "source": [
    "# Lesson: Garbage Collection and Common Errors\n"
   ]
  },
  {
   "cell_type": "code",
   "execution_count": 56,
   "metadata": {},
   "outputs": [],
   "source": [
    "alice2 = sy.VirtualWorker(hook, id='alice2')\n",
    "bob2 = sy.VirtualWorker(hook, id='bob2')"
   ]
  },
  {
   "cell_type": "code",
   "execution_count": 57,
   "metadata": {},
   "outputs": [
    {
     "data": {
      "text/plain": [
       "<VirtualWorker id:bob2 #tensors:0>"
      ]
     },
     "execution_count": 57,
     "metadata": {},
     "output_type": "execute_result"
    }
   ],
   "source": [
    "bob2.clear_objects()"
   ]
  },
  {
   "cell_type": "code",
   "execution_count": 58,
   "metadata": {},
   "outputs": [
    {
     "data": {
      "text/plain": [
       "{}"
      ]
     },
     "execution_count": 58,
     "metadata": {},
     "output_type": "execute_result"
    }
   ],
   "source": [
    "bob2._objects"
   ]
  },
  {
   "cell_type": "code",
   "execution_count": 59,
   "metadata": {},
   "outputs": [],
   "source": [
    "x = th.tensor([1,2,3,4,5]).send(bob2)"
   ]
  },
  {
   "cell_type": "code",
   "execution_count": 60,
   "metadata": {},
   "outputs": [
    {
     "data": {
      "text/plain": [
       "{82158858750: tensor([1, 2, 3, 4, 5])}"
      ]
     },
     "execution_count": 60,
     "metadata": {},
     "output_type": "execute_result"
    }
   ],
   "source": [
    "bob2._objects"
   ]
  },
  {
   "cell_type": "code",
   "execution_count": 61,
   "metadata": {},
   "outputs": [],
   "source": [
    "del x"
   ]
  },
  {
   "cell_type": "code",
   "execution_count": 63,
   "metadata": {},
   "outputs": [
    {
     "data": {
      "text/plain": [
       "{}"
      ]
     },
     "execution_count": 63,
     "metadata": {},
     "output_type": "execute_result"
    }
   ],
   "source": [
    "bob2._objects"
   ]
  },
  {
   "cell_type": "code",
   "execution_count": 64,
   "metadata": {},
   "outputs": [],
   "source": [
    "x = th.tensor([1,2,3,4,5]).send(bob2)"
   ]
  },
  {
   "cell_type": "code",
   "execution_count": 65,
   "metadata": {},
   "outputs": [
    {
     "data": {
      "text/plain": [
       "True"
      ]
     },
     "execution_count": 65,
     "metadata": {},
     "output_type": "execute_result"
    }
   ],
   "source": [
    "x.child.garbage_collect_data"
   ]
  },
  {
   "cell_type": "code",
   "execution_count": 66,
   "metadata": {},
   "outputs": [
    {
     "data": {
      "text/plain": [
       "{31569344819: tensor([1, 2, 3, 4, 5])}"
      ]
     },
     "execution_count": 66,
     "metadata": {},
     "output_type": "execute_result"
    }
   ],
   "source": [
    "bob2._objects"
   ]
  },
  {
   "cell_type": "code",
   "execution_count": 67,
   "metadata": {},
   "outputs": [],
   "source": [
    "x = \"asdf\""
   ]
  },
  {
   "cell_type": "code",
   "execution_count": 68,
   "metadata": {},
   "outputs": [
    {
     "data": {
      "text/plain": [
       "{}"
      ]
     },
     "execution_count": 68,
     "metadata": {},
     "output_type": "execute_result"
    }
   ],
   "source": [
    "bob2._objects"
   ]
  },
  {
   "cell_type": "code",
   "execution_count": 69,
   "metadata": {},
   "outputs": [],
   "source": [
    "x = th.tensor([1,2,3,4,5]).send(bob2)"
   ]
  },
  {
   "cell_type": "code",
   "execution_count": 70,
   "metadata": {},
   "outputs": [
    {
     "data": {
      "text/plain": [
       "(Wrapper)>[PointerTensor | me:464454590 -> bob2:13289476214]"
      ]
     },
     "execution_count": 70,
     "metadata": {},
     "output_type": "execute_result"
    }
   ],
   "source": [
    "x"
   ]
  },
  {
   "cell_type": "code",
   "execution_count": 72,
   "metadata": {},
   "outputs": [
    {
     "data": {
      "text/plain": [
       "{13289476214: tensor([1, 2, 3, 4, 5])}"
      ]
     },
     "execution_count": 72,
     "metadata": {},
     "output_type": "execute_result"
    }
   ],
   "source": [
    "bob2._objects"
   ]
  },
  {
   "cell_type": "code",
   "execution_count": 73,
   "metadata": {},
   "outputs": [],
   "source": [
    "x = \"asdf\""
   ]
  },
  {
   "cell_type": "code",
   "execution_count": 75,
   "metadata": {},
   "outputs": [
    {
     "data": {
      "text/plain": [
       "{13289476214: tensor([1, 2, 3, 4, 5])}"
      ]
     },
     "execution_count": 75,
     "metadata": {},
     "output_type": "execute_result"
    }
   ],
   "source": [
    "bob2._objects"
   ]
  },
  {
   "cell_type": "code",
   "execution_count": 76,
   "metadata": {},
   "outputs": [],
   "source": [
    "del x"
   ]
  },
  {
   "cell_type": "code",
   "execution_count": 78,
   "metadata": {},
   "outputs": [
    {
     "data": {
      "text/plain": [
       "{13289476214: tensor([1, 2, 3, 4, 5])}"
      ]
     },
     "execution_count": 78,
     "metadata": {},
     "output_type": "execute_result"
    }
   ],
   "source": [
    "bob2._objects"
   ]
  },
  {
   "cell_type": "code",
   "execution_count": 79,
   "metadata": {},
   "outputs": [
    {
     "data": {
      "text/plain": [
       "{}"
      ]
     },
     "execution_count": 79,
     "metadata": {},
     "output_type": "execute_result"
    }
   ],
   "source": [
    "bob2 = bob2.clear_objects()\n",
    "bob2._objects"
   ]
  },
  {
   "cell_type": "code",
   "execution_count": 82,
   "metadata": {},
   "outputs": [],
   "source": [
    "for i in range(1000):\n",
    "    x = th.tensor([1,2,3,4,5]).send(bob2)"
   ]
  },
  {
   "cell_type": "code",
   "execution_count": 83,
   "metadata": {},
   "outputs": [
    {
     "data": {
      "text/plain": [
       "{18426037854: tensor([1, 2, 3, 4, 5])}"
      ]
     },
     "execution_count": 83,
     "metadata": {},
     "output_type": "execute_result"
    }
   ],
   "source": [
    "bob2._objects"
   ]
  },
  {
   "cell_type": "code",
   "execution_count": 84,
   "metadata": {},
   "outputs": [],
   "source": [
    "x = th.tensor([1,2,3,4,5]).send(bob2)\n",
    "y = th.tensor([1,1,1,1,1])"
   ]
  },
  {
   "cell_type": "code",
   "execution_count": 85,
   "metadata": {},
   "outputs": [
    {
     "ename": "TensorsNotCollocatedException",
     "evalue": "You tried to call a method involving two tensors where one tensor is actually locatedon another machine (is a PointerTensor). Call .get() on the PointerTensor or .send(bob2) on the other tensor.\n\nTensor A: [PointerTensor | me:51842059944 -> bob2:25839395476]\nTensor B: tensor([1, 1, 1, 1, 1])",
     "output_type": "error",
     "traceback": [
      "\u001b[0;31m---------------------------------------------------------------------------\u001b[0m",
      "\u001b[0;31mPureTorchTensorFoundError\u001b[0m                 Traceback (most recent call last)",
      "\u001b[0;32m~/anaconda3/envs/deep/lib/python3.7/site-packages/syft/frameworks/torch/hook/hook.py\u001b[0m in \u001b[0;36moverloaded_native_method\u001b[0;34m(self, *args, **kwargs)\u001b[0m\n\u001b[1;32m    658\u001b[0m                     new_self, new_args, new_kwargs = syft.frameworks.torch.hook_args.hook_method_args(\n\u001b[0;32m--> 659\u001b[0;31m                         \u001b[0mmethod_name\u001b[0m\u001b[0;34m,\u001b[0m \u001b[0mself\u001b[0m\u001b[0;34m,\u001b[0m \u001b[0margs\u001b[0m\u001b[0;34m,\u001b[0m \u001b[0mkwargs\u001b[0m\u001b[0;34m\u001b[0m\u001b[0;34m\u001b[0m\u001b[0m\n\u001b[0m\u001b[1;32m    660\u001b[0m                     )\n",
      "\u001b[0;32m~/anaconda3/envs/deep/lib/python3.7/site-packages/syft/frameworks/torch/hook/hook_args.py\u001b[0m in \u001b[0;36mhook_method_args\u001b[0;34m(attr, method_self, args, kwargs)\u001b[0m\n\u001b[1;32m    112\u001b[0m         \u001b[0;31m# Try running it\u001b[0m\u001b[0;34m\u001b[0m\u001b[0;34m\u001b[0m\u001b[0;34m\u001b[0m\u001b[0m\n\u001b[0;32m--> 113\u001b[0;31m         \u001b[0mnew_self\u001b[0m\u001b[0;34m,\u001b[0m \u001b[0mnew_args\u001b[0m \u001b[0;34m=\u001b[0m \u001b[0mhook_args\u001b[0m\u001b[0;34m(\u001b[0m\u001b[0;34m(\u001b[0m\u001b[0mmethod_self\u001b[0m\u001b[0;34m,\u001b[0m \u001b[0margs\u001b[0m\u001b[0;34m)\u001b[0m\u001b[0;34m)\u001b[0m\u001b[0;34m\u001b[0m\u001b[0;34m\u001b[0m\u001b[0m\n\u001b[0m\u001b[1;32m    114\u001b[0m \u001b[0;34m\u001b[0m\u001b[0m\n",
      "\u001b[0;32m~/anaconda3/envs/deep/lib/python3.7/site-packages/syft/frameworks/torch/hook/hook_args.py\u001b[0m in \u001b[0;36m<lambda>\u001b[0;34m(x)\u001b[0m\n\u001b[1;32m    341\u001b[0m \u001b[0;34m\u001b[0m\u001b[0m\n\u001b[0;32m--> 342\u001b[0;31m     \u001b[0;32mreturn\u001b[0m \u001b[0;32mlambda\u001b[0m \u001b[0mx\u001b[0m\u001b[0;34m:\u001b[0m \u001b[0mf\u001b[0m\u001b[0;34m(\u001b[0m\u001b[0mlambdas\u001b[0m\u001b[0;34m,\u001b[0m \u001b[0mx\u001b[0m\u001b[0;34m)\u001b[0m\u001b[0;34m\u001b[0m\u001b[0;34m\u001b[0m\u001b[0m\n\u001b[0m\u001b[1;32m    343\u001b[0m \u001b[0;34m\u001b[0m\u001b[0m\n",
      "\u001b[0;32m~/anaconda3/envs/deep/lib/python3.7/site-packages/syft/frameworks/torch/hook/hook_args.py\u001b[0m in \u001b[0;36mtwo_fold\u001b[0;34m(lambdas, args, **kwargs)\u001b[0m\n\u001b[1;32m    500\u001b[0m \u001b[0;32mdef\u001b[0m \u001b[0mtwo_fold\u001b[0m\u001b[0;34m(\u001b[0m\u001b[0mlambdas\u001b[0m\u001b[0;34m,\u001b[0m \u001b[0margs\u001b[0m\u001b[0;34m,\u001b[0m \u001b[0;34m**\u001b[0m\u001b[0mkwargs\u001b[0m\u001b[0;34m)\u001b[0m\u001b[0;34m:\u001b[0m\u001b[0;34m\u001b[0m\u001b[0;34m\u001b[0m\u001b[0m\n\u001b[0;32m--> 501\u001b[0;31m     \u001b[0;32mreturn\u001b[0m \u001b[0mlambdas\u001b[0m\u001b[0;34m[\u001b[0m\u001b[0;36m0\u001b[0m\u001b[0;34m]\u001b[0m\u001b[0;34m(\u001b[0m\u001b[0margs\u001b[0m\u001b[0;34m[\u001b[0m\u001b[0;36m0\u001b[0m\u001b[0;34m]\u001b[0m\u001b[0;34m,\u001b[0m \u001b[0;34m**\u001b[0m\u001b[0mkwargs\u001b[0m\u001b[0;34m)\u001b[0m\u001b[0;34m,\u001b[0m \u001b[0mlambdas\u001b[0m\u001b[0;34m[\u001b[0m\u001b[0;36m1\u001b[0m\u001b[0;34m]\u001b[0m\u001b[0;34m(\u001b[0m\u001b[0margs\u001b[0m\u001b[0;34m[\u001b[0m\u001b[0;36m1\u001b[0m\u001b[0;34m]\u001b[0m\u001b[0;34m,\u001b[0m \u001b[0;34m**\u001b[0m\u001b[0mkwargs\u001b[0m\u001b[0;34m)\u001b[0m\u001b[0;34m\u001b[0m\u001b[0;34m\u001b[0m\u001b[0m\n\u001b[0m\u001b[1;32m    502\u001b[0m \u001b[0;34m\u001b[0m\u001b[0m\n",
      "\u001b[0;32m~/anaconda3/envs/deep/lib/python3.7/site-packages/syft/frameworks/torch/hook/hook_args.py\u001b[0m in \u001b[0;36m<lambda>\u001b[0;34m(x)\u001b[0m\n\u001b[1;32m    341\u001b[0m \u001b[0;34m\u001b[0m\u001b[0m\n\u001b[0;32m--> 342\u001b[0;31m     \u001b[0;32mreturn\u001b[0m \u001b[0;32mlambda\u001b[0m \u001b[0mx\u001b[0m\u001b[0;34m:\u001b[0m \u001b[0mf\u001b[0m\u001b[0;34m(\u001b[0m\u001b[0mlambdas\u001b[0m\u001b[0;34m,\u001b[0m \u001b[0mx\u001b[0m\u001b[0;34m)\u001b[0m\u001b[0;34m\u001b[0m\u001b[0;34m\u001b[0m\u001b[0m\n\u001b[0m\u001b[1;32m    343\u001b[0m \u001b[0;34m\u001b[0m\u001b[0m\n",
      "\u001b[0;32m~/anaconda3/envs/deep/lib/python3.7/site-packages/syft/frameworks/torch/hook/hook_args.py\u001b[0m in \u001b[0;36mtuple_one_fold\u001b[0;34m(lambdas, args)\u001b[0m\n\u001b[1;32m    494\u001b[0m     \u001b[0;32mdef\u001b[0m \u001b[0mtuple_one_fold\u001b[0m\u001b[0;34m(\u001b[0m\u001b[0mlambdas\u001b[0m\u001b[0;34m,\u001b[0m \u001b[0margs\u001b[0m\u001b[0;34m)\u001b[0m\u001b[0;34m:\u001b[0m\u001b[0;34m\u001b[0m\u001b[0;34m\u001b[0m\u001b[0m\n\u001b[0;32m--> 495\u001b[0;31m         \u001b[0;32mreturn\u001b[0m \u001b[0;34m(\u001b[0m\u001b[0mlambdas\u001b[0m\u001b[0;34m[\u001b[0m\u001b[0;36m0\u001b[0m\u001b[0;34m]\u001b[0m\u001b[0;34m(\u001b[0m\u001b[0margs\u001b[0m\u001b[0;34m[\u001b[0m\u001b[0;36m0\u001b[0m\u001b[0;34m]\u001b[0m\u001b[0;34m,\u001b[0m \u001b[0;34m**\u001b[0m\u001b[0mkwargs\u001b[0m\u001b[0;34m)\u001b[0m\u001b[0;34m,\u001b[0m\u001b[0;34m)\u001b[0m\u001b[0;34m\u001b[0m\u001b[0;34m\u001b[0m\u001b[0m\n\u001b[0m\u001b[1;32m    496\u001b[0m \u001b[0;34m\u001b[0m\u001b[0m\n",
      "\u001b[0;32m~/anaconda3/envs/deep/lib/python3.7/site-packages/syft/frameworks/torch/hook/hook_args.py\u001b[0m in \u001b[0;36m<lambda>\u001b[0;34m(i)\u001b[0m\n\u001b[1;32m    319\u001b[0m         \u001b[0;31m# Last if not, rule is probably == 1 so use type to return the right transformation.\u001b[0m\u001b[0;34m\u001b[0m\u001b[0;34m\u001b[0m\u001b[0;34m\u001b[0m\u001b[0m\n\u001b[0;32m--> 320\u001b[0;31m         \u001b[0;32melse\u001b[0m \u001b[0;32mlambda\u001b[0m \u001b[0mi\u001b[0m\u001b[0;34m:\u001b[0m \u001b[0mforward_func\u001b[0m\u001b[0;34m[\u001b[0m\u001b[0mtype\u001b[0m\u001b[0;34m(\u001b[0m\u001b[0mi\u001b[0m\u001b[0;34m)\u001b[0m\u001b[0;34m]\u001b[0m\u001b[0;34m(\u001b[0m\u001b[0mi\u001b[0m\u001b[0;34m)\u001b[0m\u001b[0;34m\u001b[0m\u001b[0;34m\u001b[0m\u001b[0m\n\u001b[0m\u001b[1;32m    321\u001b[0m         \u001b[0;32mfor\u001b[0m \u001b[0ma\u001b[0m\u001b[0;34m,\u001b[0m \u001b[0mr\u001b[0m \u001b[0;32min\u001b[0m \u001b[0mzip\u001b[0m\u001b[0;34m(\u001b[0m\u001b[0margs\u001b[0m\u001b[0;34m,\u001b[0m \u001b[0mrules\u001b[0m\u001b[0;34m)\u001b[0m  \u001b[0;31m# And do this for all the args / rules provided\u001b[0m\u001b[0;34m\u001b[0m\u001b[0;34m\u001b[0m\u001b[0m\n",
      "\u001b[0;32m~/anaconda3/envs/deep/lib/python3.7/site-packages/syft/frameworks/torch/hook/hook_args.py\u001b[0m in \u001b[0;36m<lambda>\u001b[0;34m(i)\u001b[0m\n\u001b[1;32m     50\u001b[0m     \u001b[0;32mif\u001b[0m \u001b[0mhasattr\u001b[0m\u001b[0;34m(\u001b[0m\u001b[0mi\u001b[0m\u001b[0;34m,\u001b[0m \u001b[0;34m\"child\"\u001b[0m\u001b[0;34m)\u001b[0m\u001b[0;34m\u001b[0m\u001b[0;34m\u001b[0m\u001b[0m\n\u001b[0;32m---> 51\u001b[0;31m     \u001b[0;32melse\u001b[0m \u001b[0;34m(\u001b[0m\u001b[0m_\u001b[0m \u001b[0;32mfor\u001b[0m \u001b[0m_\u001b[0m \u001b[0;32min\u001b[0m \u001b[0;34m(\u001b[0m\u001b[0;34m)\u001b[0m\u001b[0;34m)\u001b[0m\u001b[0;34m.\u001b[0m\u001b[0mthrow\u001b[0m\u001b[0;34m(\u001b[0m\u001b[0mPureTorchTensorFoundError\u001b[0m\u001b[0;34m)\u001b[0m\u001b[0;34m,\u001b[0m\u001b[0;34m\u001b[0m\u001b[0;34m\u001b[0m\u001b[0m\n\u001b[0m\u001b[1;32m     52\u001b[0m     \u001b[0mtorch\u001b[0m\u001b[0;34m.\u001b[0m\u001b[0mnn\u001b[0m\u001b[0;34m.\u001b[0m\u001b[0mParameter\u001b[0m\u001b[0;34m:\u001b[0m \u001b[0;32mlambda\u001b[0m \u001b[0mi\u001b[0m\u001b[0;34m:\u001b[0m \u001b[0mi\u001b[0m\u001b[0;34m.\u001b[0m\u001b[0mchild\u001b[0m\u001b[0;34m\u001b[0m\u001b[0;34m\u001b[0m\u001b[0m\n",
      "\u001b[0;32m~/anaconda3/envs/deep/lib/python3.7/site-packages/syft/frameworks/torch/hook/hook_args.py\u001b[0m in \u001b[0;36m<genexpr>\u001b[0;34m(.0)\u001b[0m\n\u001b[1;32m     50\u001b[0m     \u001b[0;32mif\u001b[0m \u001b[0mhasattr\u001b[0m\u001b[0;34m(\u001b[0m\u001b[0mi\u001b[0m\u001b[0;34m,\u001b[0m \u001b[0;34m\"child\"\u001b[0m\u001b[0;34m)\u001b[0m\u001b[0;34m\u001b[0m\u001b[0;34m\u001b[0m\u001b[0m\n\u001b[0;32m---> 51\u001b[0;31m     \u001b[0;32melse\u001b[0m \u001b[0;34m(\u001b[0m\u001b[0m_\u001b[0m \u001b[0;32mfor\u001b[0m \u001b[0m_\u001b[0m \u001b[0;32min\u001b[0m \u001b[0;34m(\u001b[0m\u001b[0;34m)\u001b[0m\u001b[0;34m)\u001b[0m\u001b[0;34m.\u001b[0m\u001b[0mthrow\u001b[0m\u001b[0;34m(\u001b[0m\u001b[0mPureTorchTensorFoundError\u001b[0m\u001b[0;34m)\u001b[0m\u001b[0;34m,\u001b[0m\u001b[0;34m\u001b[0m\u001b[0;34m\u001b[0m\u001b[0m\n\u001b[0m\u001b[1;32m     52\u001b[0m     \u001b[0mtorch\u001b[0m\u001b[0;34m.\u001b[0m\u001b[0mnn\u001b[0m\u001b[0;34m.\u001b[0m\u001b[0mParameter\u001b[0m\u001b[0;34m:\u001b[0m \u001b[0;32mlambda\u001b[0m \u001b[0mi\u001b[0m\u001b[0;34m:\u001b[0m \u001b[0mi\u001b[0m\u001b[0;34m.\u001b[0m\u001b[0mchild\u001b[0m\u001b[0;34m\u001b[0m\u001b[0;34m\u001b[0m\u001b[0m\n",
      "\u001b[0;31mPureTorchTensorFoundError\u001b[0m: ",
      "\nDuring handling of the above exception, another exception occurred:\n",
      "\u001b[0;31mTensorsNotCollocatedException\u001b[0m             Traceback (most recent call last)",
      "\u001b[0;32m<ipython-input-85-8c8f78e0676d>\u001b[0m in \u001b[0;36m<module>\u001b[0;34m\u001b[0m\n\u001b[0;32m----> 1\u001b[0;31m \u001b[0mz\u001b[0m \u001b[0;34m=\u001b[0m \u001b[0mx\u001b[0m \u001b[0;34m+\u001b[0m \u001b[0my\u001b[0m\u001b[0;34m\u001b[0m\u001b[0;34m\u001b[0m\u001b[0m\n\u001b[0m",
      "\u001b[0;32m~/anaconda3/envs/deep/lib/python3.7/site-packages/syft/frameworks/torch/hook/hook.py\u001b[0m in \u001b[0;36moverloaded_native_method\u001b[0;34m(self, *args, **kwargs)\u001b[0m\n\u001b[1;32m    661\u001b[0m                 \u001b[0;32mexcept\u001b[0m \u001b[0mBaseException\u001b[0m \u001b[0;32mas\u001b[0m \u001b[0me\u001b[0m\u001b[0;34m:\u001b[0m\u001b[0;34m\u001b[0m\u001b[0;34m\u001b[0m\u001b[0m\n\u001b[1;32m    662\u001b[0m                     \u001b[0;31m# we can make some errors more descriptive with this method\u001b[0m\u001b[0;34m\u001b[0m\u001b[0;34m\u001b[0m\u001b[0;34m\u001b[0m\u001b[0m\n\u001b[0;32m--> 663\u001b[0;31m                     \u001b[0;32mraise\u001b[0m \u001b[0mroute_method_exception\u001b[0m\u001b[0;34m(\u001b[0m\u001b[0me\u001b[0m\u001b[0;34m,\u001b[0m \u001b[0mself\u001b[0m\u001b[0;34m,\u001b[0m \u001b[0margs\u001b[0m\u001b[0;34m,\u001b[0m \u001b[0mkwargs\u001b[0m\u001b[0;34m)\u001b[0m\u001b[0;34m\u001b[0m\u001b[0;34m\u001b[0m\u001b[0m\n\u001b[0m\u001b[1;32m    664\u001b[0m \u001b[0;34m\u001b[0m\u001b[0m\n\u001b[1;32m    665\u001b[0m                 \u001b[0;31m# Send the new command to the appropriate class and get the response\u001b[0m\u001b[0;34m\u001b[0m\u001b[0;34m\u001b[0m\u001b[0;34m\u001b[0m\u001b[0m\n",
      "\u001b[0;31mTensorsNotCollocatedException\u001b[0m: You tried to call a method involving two tensors where one tensor is actually locatedon another machine (is a PointerTensor). Call .get() on the PointerTensor or .send(bob2) on the other tensor.\n\nTensor A: [PointerTensor | me:51842059944 -> bob2:25839395476]\nTensor B: tensor([1, 1, 1, 1, 1])"
     ]
    }
   ],
   "source": [
    "z = x + y"
   ]
  },
  {
   "cell_type": "code",
   "execution_count": 86,
   "metadata": {},
   "outputs": [],
   "source": [
    "x = th.tensor([1,2,3,4,5]).send(bob)\n",
    "y = th.tensor([1,1,1,1,1]).send(alice)"
   ]
  },
  {
   "cell_type": "code",
   "execution_count": 87,
   "metadata": {},
   "outputs": [
    {
     "ename": "TensorsNotCollocatedException",
     "evalue": "You tried to call __add__ involving two tensors which are not on the same machine! One tensor is on <VirtualWorker id:bob #tensors:9> while the other is on <VirtualWorker id:alice #tensors:1>. Use a combination of .move(), .get(), and/or .send() to co-locate them to the same machine.",
     "output_type": "error",
     "traceback": [
      "\u001b[0;31m---------------------------------------------------------------------------\u001b[0m",
      "\u001b[0;31mTensorsNotCollocatedException\u001b[0m             Traceback (most recent call last)",
      "\u001b[0;32m<ipython-input-87-8c8f78e0676d>\u001b[0m in \u001b[0;36m<module>\u001b[0;34m\u001b[0m\n\u001b[0;32m----> 1\u001b[0;31m \u001b[0mz\u001b[0m \u001b[0;34m=\u001b[0m \u001b[0mx\u001b[0m \u001b[0;34m+\u001b[0m \u001b[0my\u001b[0m\u001b[0;34m\u001b[0m\u001b[0;34m\u001b[0m\u001b[0m\n\u001b[0m",
      "\u001b[0;32m~/anaconda3/envs/deep/lib/python3.7/site-packages/syft/frameworks/torch/hook/hook.py\u001b[0m in \u001b[0;36moverloaded_native_method\u001b[0;34m(self, *args, **kwargs)\u001b[0m\n\u001b[1;32m    665\u001b[0m                 \u001b[0;31m# Send the new command to the appropriate class and get the response\u001b[0m\u001b[0;34m\u001b[0m\u001b[0;34m\u001b[0m\u001b[0;34m\u001b[0m\u001b[0m\n\u001b[1;32m    666\u001b[0m                 \u001b[0mmethod\u001b[0m \u001b[0;34m=\u001b[0m \u001b[0mgetattr\u001b[0m\u001b[0;34m(\u001b[0m\u001b[0mnew_self\u001b[0m\u001b[0;34m,\u001b[0m \u001b[0mmethod_name\u001b[0m\u001b[0;34m)\u001b[0m\u001b[0;34m\u001b[0m\u001b[0;34m\u001b[0m\u001b[0m\n\u001b[0;32m--> 667\u001b[0;31m                 \u001b[0mresponse\u001b[0m \u001b[0;34m=\u001b[0m \u001b[0mmethod\u001b[0m\u001b[0;34m(\u001b[0m\u001b[0;34m*\u001b[0m\u001b[0mnew_args\u001b[0m\u001b[0;34m,\u001b[0m \u001b[0;34m**\u001b[0m\u001b[0mnew_kwargs\u001b[0m\u001b[0;34m)\u001b[0m\u001b[0;34m\u001b[0m\u001b[0;34m\u001b[0m\u001b[0m\n\u001b[0m\u001b[1;32m    668\u001b[0m \u001b[0;34m\u001b[0m\u001b[0m\n\u001b[1;32m    669\u001b[0m                 \u001b[0;31m# For inplace methods, just directly return self\u001b[0m\u001b[0;34m\u001b[0m\u001b[0;34m\u001b[0m\u001b[0;34m\u001b[0m\u001b[0m\n",
      "\u001b[0;32m~/anaconda3/envs/deep/lib/python3.7/site-packages/syft/frameworks/torch/hook/hook.py\u001b[0m in \u001b[0;36moverloaded_pointer_method\u001b[0;34m(self, *args, **kwargs)\u001b[0m\n\u001b[1;32m    496\u001b[0m                 \u001b[0;32mif\u001b[0m \u001b[0misinstance\u001b[0m\u001b[0;34m(\u001b[0m\u001b[0margs\u001b[0m\u001b[0;34m[\u001b[0m\u001b[0;36m0\u001b[0m\u001b[0;34m]\u001b[0m\u001b[0;34m,\u001b[0m \u001b[0mPointerTensor\u001b[0m\u001b[0;34m)\u001b[0m\u001b[0;34m:\u001b[0m\u001b[0;34m\u001b[0m\u001b[0;34m\u001b[0m\u001b[0m\n\u001b[1;32m    497\u001b[0m                     \u001b[0;32mif\u001b[0m \u001b[0margs\u001b[0m\u001b[0;34m[\u001b[0m\u001b[0;36m0\u001b[0m\u001b[0;34m]\u001b[0m\u001b[0;34m.\u001b[0m\u001b[0mlocation\u001b[0m\u001b[0;34m.\u001b[0m\u001b[0mid\u001b[0m \u001b[0;34m!=\u001b[0m \u001b[0mlocation\u001b[0m\u001b[0;34m.\u001b[0m\u001b[0mid\u001b[0m\u001b[0;34m:\u001b[0m\u001b[0;34m\u001b[0m\u001b[0;34m\u001b[0m\u001b[0m\n\u001b[0;32m--> 498\u001b[0;31m                         \u001b[0;32mraise\u001b[0m \u001b[0mTensorsNotCollocatedException\u001b[0m\u001b[0;34m(\u001b[0m\u001b[0mpointer\u001b[0m\u001b[0;34m,\u001b[0m \u001b[0margs\u001b[0m\u001b[0;34m[\u001b[0m\u001b[0;36m0\u001b[0m\u001b[0;34m]\u001b[0m\u001b[0;34m,\u001b[0m \u001b[0mattr\u001b[0m\u001b[0;34m)\u001b[0m\u001b[0;34m\u001b[0m\u001b[0;34m\u001b[0m\u001b[0m\n\u001b[0m\u001b[1;32m    499\u001b[0m \u001b[0;34m\u001b[0m\u001b[0m\n\u001b[1;32m    500\u001b[0m             \u001b[0;31m# Send the command\u001b[0m\u001b[0;34m\u001b[0m\u001b[0;34m\u001b[0m\u001b[0;34m\u001b[0m\u001b[0m\n",
      "\u001b[0;31mTensorsNotCollocatedException\u001b[0m: You tried to call __add__ involving two tensors which are not on the same machine! One tensor is on <VirtualWorker id:bob #tensors:9> while the other is on <VirtualWorker id:alice #tensors:1>. Use a combination of .move(), .get(), and/or .send() to co-locate them to the same machine."
     ]
    }
   ],
   "source": [
    "z = x + y"
   ]
  },
  {
   "cell_type": "code",
   "execution_count": null,
   "metadata": {},
   "outputs": [],
   "source": []
  },
  {
   "cell_type": "markdown",
   "metadata": {},
   "source": [
    "# Lesson: Toy Federated Learning\n",
    "\n",
    "Let's start by training a toy model the centralized way. This is about a simple as models get. We first need:\n",
    "\n",
    "- a toy dataset\n",
    "- a model\n",
    "- some basic training logic for training a model to fit the data."
   ]
  },
  {
   "cell_type": "code",
   "execution_count": 88,
   "metadata": {},
   "outputs": [],
   "source": [
    "from torch import nn, optim"
   ]
  },
  {
   "cell_type": "code",
   "execution_count": 89,
   "metadata": {},
   "outputs": [],
   "source": [
    "alice = sy.VirtualWorker(hook, id='alice3')\n",
    "bob = sy.VirtualWorker(hook, id='bob3')"
   ]
  },
  {
   "cell_type": "code",
   "execution_count": 90,
   "metadata": {},
   "outputs": [],
   "source": [
    "# A Toy Dataset\n",
    "data = th.tensor([[1.,1],[0,1],[1,0],[0,0]], requires_grad=True)\n",
    "target = th.tensor([[1.],[1], [0], [0]], requires_grad=True)"
   ]
  },
  {
   "cell_type": "code",
   "execution_count": 91,
   "metadata": {},
   "outputs": [],
   "source": [
    "# A Toy Model\n",
    "model = nn.Linear(2,1)"
   ]
  },
  {
   "cell_type": "code",
   "execution_count": 92,
   "metadata": {},
   "outputs": [],
   "source": [
    "opt = optim.SGD(params=model.parameters(), lr=0.1)"
   ]
  },
  {
   "cell_type": "code",
   "execution_count": 93,
   "metadata": {},
   "outputs": [
    {
     "name": "stdout",
     "output_type": "stream",
     "text": [
      "tensor(6.0106)\n",
      "tensor(0.8616)\n",
      "tensor(0.3687)\n",
      "tensor(0.2544)\n",
      "tensor(0.1889)\n",
      "tensor(0.1417)\n",
      "tensor(0.1066)\n",
      "tensor(0.0805)\n",
      "tensor(0.0608)\n",
      "tensor(0.0461)\n",
      "tensor(0.0350)\n",
      "tensor(0.0266)\n",
      "tensor(0.0202)\n",
      "tensor(0.0154)\n",
      "tensor(0.0117)\n",
      "tensor(0.0089)\n",
      "tensor(0.0068)\n",
      "tensor(0.0052)\n",
      "tensor(0.0040)\n",
      "tensor(0.0030)\n"
     ]
    }
   ],
   "source": [
    "def train(iterations=20):\n",
    "    for iter in range(iterations):\n",
    "        opt.zero_grad()\n",
    "\n",
    "        pred = model(data)\n",
    "\n",
    "        loss = ((pred - target)**2).sum()\n",
    "\n",
    "        loss.backward()\n",
    "\n",
    "        opt.step()\n",
    "\n",
    "        print(loss.data)\n",
    "        \n",
    "train()"
   ]
  },
  {
   "cell_type": "code",
   "execution_count": 94,
   "metadata": {},
   "outputs": [],
   "source": [
    "data_bob = data[0:2].send(bob)\n",
    "target_bob = target[0:2].send(bob)"
   ]
  },
  {
   "cell_type": "code",
   "execution_count": 95,
   "metadata": {},
   "outputs": [],
   "source": [
    "data_alice = data[2:4].send(alice)\n",
    "target_alice = target[2:4].send(alice)"
   ]
  },
  {
   "cell_type": "code",
   "execution_count": 96,
   "metadata": {},
   "outputs": [],
   "source": [
    "datasets = [(data_bob, target_bob), (data_alice, target_alice)]"
   ]
  },
  {
   "cell_type": "code",
   "execution_count": 101,
   "metadata": {},
   "outputs": [],
   "source": [
    "def train(iterations=20):\n",
    "\n",
    "    model = nn.Linear(2,1)\n",
    "    opt = optim.SGD(params=model.parameters(), lr=0.1)\n",
    "    \n",
    "    for iter in range(iterations):\n",
    "\n",
    "        for _data, _target in datasets:\n",
    "\n",
    "            # send model to the data\n",
    "            model = model.send(_data.location)\n",
    "\n",
    "            # do normal training\n",
    "            opt.zero_grad()\n",
    "            pred = model(_data)\n",
    "            loss = ((pred - _target)**2).sum()\n",
    "            loss.backward()\n",
    "            opt.step()\n",
    "\n",
    "            # get smarter model back\n",
    "            model = model.get()\n",
    "\n",
    "            print(loss.get())"
   ]
  },
  {
   "cell_type": "code",
   "execution_count": 102,
   "metadata": {},
   "outputs": [
    {
     "name": "stdout",
     "output_type": "stream",
     "text": [
      "tensor(1.6855, requires_grad=True)\n",
      "tensor(2.1791, requires_grad=True)\n",
      "tensor(0.8938, requires_grad=True)\n",
      "tensor(1.2881, requires_grad=True)\n",
      "tensor(0.5144, requires_grad=True)\n",
      "tensor(0.7596, requires_grad=True)\n",
      "tensor(0.2981, requires_grad=True)\n",
      "tensor(0.4491, requires_grad=True)\n",
      "tensor(0.1731, requires_grad=True)\n",
      "tensor(0.2665, requires_grad=True)\n",
      "tensor(0.1008, requires_grad=True)\n",
      "tensor(0.1588, requires_grad=True)\n",
      "tensor(0.0588, requires_grad=True)\n",
      "tensor(0.0951, requires_grad=True)\n",
      "tensor(0.0345, requires_grad=True)\n",
      "tensor(0.0572, requires_grad=True)\n",
      "tensor(0.0203, requires_grad=True)\n",
      "tensor(0.0347, requires_grad=True)\n",
      "tensor(0.0121, requires_grad=True)\n",
      "tensor(0.0212, requires_grad=True)\n",
      "tensor(0.0072, requires_grad=True)\n",
      "tensor(0.0130, requires_grad=True)\n",
      "tensor(0.0044, requires_grad=True)\n",
      "tensor(0.0081, requires_grad=True)\n",
      "tensor(0.0027, requires_grad=True)\n",
      "tensor(0.0051, requires_grad=True)\n",
      "tensor(0.0017, requires_grad=True)\n",
      "tensor(0.0032, requires_grad=True)\n",
      "tensor(0.0010, requires_grad=True)\n",
      "tensor(0.0021, requires_grad=True)\n",
      "tensor(0.0007, requires_grad=True)\n",
      "tensor(0.0013, requires_grad=True)\n",
      "tensor(0.0004, requires_grad=True)\n",
      "tensor(0.0009, requires_grad=True)\n",
      "tensor(0.0003, requires_grad=True)\n",
      "tensor(0.0006, requires_grad=True)\n",
      "tensor(0.0002, requires_grad=True)\n",
      "tensor(0.0004, requires_grad=True)\n",
      "tensor(0.0001, requires_grad=True)\n",
      "tensor(0.0003, requires_grad=True)\n"
     ]
    }
   ],
   "source": [
    "train()"
   ]
  },
  {
   "cell_type": "code",
   "execution_count": null,
   "metadata": {},
   "outputs": [],
   "source": []
  },
  {
   "cell_type": "markdown",
   "metadata": {},
   "source": [
    "# Lesson: Advanced Remote Execution Tools\n",
    "\n",
    "In the last section we trained a toy model using Federated Learning. We did this by calling .send() and .get() on our model, sending it to the location of training data, updating it, and then bringing it back. However, at the end of the example we realized that we needed to go a bit further to protect people privacy. Namely, we want to average the gradients BEFORE calling .get(). That way, we won't ever see anyone's exact gradient (thus better protecting their privacy!!!)\n",
    "\n",
    "But, in order to do this, we need a few more pieces:\n",
    "\n",
    "- use a pointer to send a Tensor directly to another worker\n",
    "\n",
    "And in addition, while we're here, we're going to learn about a few more advanced tensor operations as well which will help us both with this example and a few in the future!"
   ]
  },
  {
   "cell_type": "code",
   "execution_count": 103,
   "metadata": {},
   "outputs": [],
   "source": [
    "alice4 = sy.VirtualWorker(hook, id='alice4')\n",
    "bob4 = sy.VirtualWorker(hook, id='bob4')"
   ]
  },
  {
   "cell_type": "code",
   "execution_count": 104,
   "metadata": {},
   "outputs": [],
   "source": [
    "bob4 = bob4.clear_objects()\n",
    "alice4 = alice4.clear_objects()"
   ]
  },
  {
   "cell_type": "code",
   "execution_count": 105,
   "metadata": {},
   "outputs": [
    {
     "data": {
      "text/plain": [
       "{64569879331: tensor([1, 2, 3, 4, 5])}"
      ]
     },
     "execution_count": 105,
     "metadata": {},
     "output_type": "execute_result"
    }
   ],
   "source": [
    "x = th.tensor([1,2,3,4,5]).send(bob4)\n",
    "bob4._objects"
   ]
  },
  {
   "cell_type": "code",
   "execution_count": 106,
   "metadata": {},
   "outputs": [
    {
     "data": {
      "text/plain": [
       "(Wrapper)>[PointerTensor | me:12094829080 -> bob4:64569879331]"
      ]
     },
     "execution_count": 106,
     "metadata": {},
     "output_type": "execute_result"
    }
   ],
   "source": [
    "x"
   ]
  },
  {
   "cell_type": "code",
   "execution_count": 107,
   "metadata": {},
   "outputs": [],
   "source": [
    "x = x.send(alice4)"
   ]
  },
  {
   "cell_type": "code",
   "execution_count": 109,
   "metadata": {},
   "outputs": [
    {
     "data": {
      "text/plain": [
       "{64569879331: tensor([1, 2, 3, 4, 5])}"
      ]
     },
     "execution_count": 109,
     "metadata": {},
     "output_type": "execute_result"
    }
   ],
   "source": [
    "bob4._objects"
   ]
  },
  {
   "cell_type": "code",
   "execution_count": 110,
   "metadata": {},
   "outputs": [
    {
     "data": {
      "text/plain": [
       "{12094829080: (Wrapper)>[PointerTensor | alice4:12094829080 -> bob4:64569879331]}"
      ]
     },
     "execution_count": 110,
     "metadata": {},
     "output_type": "execute_result"
    }
   ],
   "source": [
    "alice4._objects"
   ]
  },
  {
   "cell_type": "code",
   "execution_count": 111,
   "metadata": {},
   "outputs": [],
   "source": [
    "y = x + x"
   ]
  },
  {
   "cell_type": "code",
   "execution_count": 112,
   "metadata": {},
   "outputs": [
    {
     "data": {
      "text/plain": [
       "(Wrapper)>[PointerTensor | me:23738702419 -> alice4:32872751009]"
      ]
     },
     "execution_count": 112,
     "metadata": {},
     "output_type": "execute_result"
    }
   ],
   "source": [
    "y"
   ]
  },
  {
   "cell_type": "code",
   "execution_count": 113,
   "metadata": {},
   "outputs": [
    {
     "data": {
      "text/plain": [
       "{64569879331: tensor([1, 2, 3, 4, 5]),\n",
       " 47294879644: tensor([ 2,  4,  6,  8, 10])}"
      ]
     },
     "execution_count": 113,
     "metadata": {},
     "output_type": "execute_result"
    }
   ],
   "source": [
    "bob4._objects"
   ]
  },
  {
   "cell_type": "code",
   "execution_count": 114,
   "metadata": {},
   "outputs": [
    {
     "data": {
      "text/plain": [
       "{12094829080: (Wrapper)>[PointerTensor | alice4:12094829080 -> bob4:64569879331],\n",
       " 32872751009: (Wrapper)>[PointerTensor | alice4:32872751009 -> bob4:47294879644]}"
      ]
     },
     "execution_count": 114,
     "metadata": {},
     "output_type": "execute_result"
    }
   ],
   "source": [
    "alice4._objects"
   ]
  },
  {
   "cell_type": "code",
   "execution_count": 115,
   "metadata": {},
   "outputs": [],
   "source": [
    "jon = sy.VirtualWorker(hook, id=\"jon\")"
   ]
  },
  {
   "cell_type": "code",
   "execution_count": 116,
   "metadata": {},
   "outputs": [],
   "source": [
    "bob4.clear_objects()\n",
    "alice4.clear_objects()\n",
    "\n",
    "x = th.tensor([1,2,3,4,5]).send(bob4).send(alice4)"
   ]
  },
  {
   "cell_type": "code",
   "execution_count": 117,
   "metadata": {},
   "outputs": [
    {
     "data": {
      "text/plain": [
       "{83758090343: tensor([1, 2, 3, 4, 5])}"
      ]
     },
     "execution_count": 117,
     "metadata": {},
     "output_type": "execute_result"
    }
   ],
   "source": [
    "bob4._objects"
   ]
  },
  {
   "cell_type": "code",
   "execution_count": 118,
   "metadata": {},
   "outputs": [
    {
     "data": {
      "text/plain": [
       "{8280111827: (Wrapper)>[PointerTensor | alice4:8280111827 -> bob4:83758090343]}"
      ]
     },
     "execution_count": 118,
     "metadata": {},
     "output_type": "execute_result"
    }
   ],
   "source": [
    "alice4._objects"
   ]
  },
  {
   "cell_type": "code",
   "execution_count": 119,
   "metadata": {},
   "outputs": [
    {
     "data": {
      "text/plain": [
       "(Wrapper)>[PointerTensor | me:8280111827 -> bob4:83758090343]"
      ]
     },
     "execution_count": 119,
     "metadata": {},
     "output_type": "execute_result"
    }
   ],
   "source": [
    "x = x.get()\n",
    "x"
   ]
  },
  {
   "cell_type": "code",
   "execution_count": 120,
   "metadata": {},
   "outputs": [
    {
     "data": {
      "text/plain": [
       "{83758090343: tensor([1, 2, 3, 4, 5])}"
      ]
     },
     "execution_count": 120,
     "metadata": {},
     "output_type": "execute_result"
    }
   ],
   "source": [
    "bob4._objects"
   ]
  },
  {
   "cell_type": "code",
   "execution_count": 121,
   "metadata": {},
   "outputs": [
    {
     "data": {
      "text/plain": [
       "{}"
      ]
     },
     "execution_count": 121,
     "metadata": {},
     "output_type": "execute_result"
    }
   ],
   "source": [
    "alice4._objects"
   ]
  },
  {
   "cell_type": "code",
   "execution_count": 122,
   "metadata": {},
   "outputs": [
    {
     "data": {
      "text/plain": [
       "tensor([1, 2, 3, 4, 5])"
      ]
     },
     "execution_count": 122,
     "metadata": {},
     "output_type": "execute_result"
    }
   ],
   "source": [
    "x = x.get()\n",
    "x"
   ]
  },
  {
   "cell_type": "code",
   "execution_count": 123,
   "metadata": {},
   "outputs": [
    {
     "data": {
      "text/plain": [
       "{}"
      ]
     },
     "execution_count": 123,
     "metadata": {},
     "output_type": "execute_result"
    }
   ],
   "source": [
    "bob4._objects"
   ]
  },
  {
   "cell_type": "code",
   "execution_count": 127,
   "metadata": {},
   "outputs": [],
   "source": [
    "bob4.clear_objects()\n",
    "alice4.clear_objects()\n",
    "\n",
    "x = th.tensor([1,2,3,4,5]).send(bob4).send(alice4)"
   ]
  },
  {
   "cell_type": "code",
   "execution_count": 128,
   "metadata": {},
   "outputs": [
    {
     "data": {
      "text/plain": [
       "{77829228574: tensor([1, 2, 3, 4, 5])}"
      ]
     },
     "execution_count": 128,
     "metadata": {},
     "output_type": "execute_result"
    }
   ],
   "source": [
    "bob4._objects"
   ]
  },
  {
   "cell_type": "code",
   "execution_count": 129,
   "metadata": {},
   "outputs": [
    {
     "data": {
      "text/plain": [
       "{87391042915: (Wrapper)>[PointerTensor | alice4:87391042915 -> bob4:77829228574]}"
      ]
     },
     "execution_count": 129,
     "metadata": {},
     "output_type": "execute_result"
    }
   ],
   "source": [
    "alice4._objects"
   ]
  },
  {
   "cell_type": "code",
   "execution_count": 130,
   "metadata": {},
   "outputs": [],
   "source": [
    "del x"
   ]
  },
  {
   "cell_type": "code",
   "execution_count": 132,
   "metadata": {},
   "outputs": [
    {
     "data": {
      "text/plain": [
       "{}"
      ]
     },
     "execution_count": 132,
     "metadata": {},
     "output_type": "execute_result"
    }
   ],
   "source": [
    "bob4._objects"
   ]
  },
  {
   "cell_type": "code",
   "execution_count": 133,
   "metadata": {},
   "outputs": [
    {
     "data": {
      "text/plain": [
       "{}"
      ]
     },
     "execution_count": 133,
     "metadata": {},
     "output_type": "execute_result"
    }
   ],
   "source": [
    "alice4._objects"
   ]
  },
  {
   "cell_type": "code",
   "execution_count": null,
   "metadata": {},
   "outputs": [],
   "source": []
  },
  {
   "cell_type": "code",
   "execution_count": null,
   "metadata": {},
   "outputs": [],
   "source": []
  },
  {
   "cell_type": "markdown",
   "metadata": {},
   "source": [
    "# Lesson: Pointer Chain Operations"
   ]
  },
  {
   "cell_type": "code",
   "execution_count": 148,
   "metadata": {},
   "outputs": [
    {
     "data": {
      "text/plain": [
       "<VirtualWorker id:alice4 #tensors:0>"
      ]
     },
     "execution_count": 148,
     "metadata": {},
     "output_type": "execute_result"
    }
   ],
   "source": [
    "bob4.clear_objects()\n",
    "alice4.clear_objects()"
   ]
  },
  {
   "cell_type": "code",
   "execution_count": 149,
   "metadata": {},
   "outputs": [],
   "source": [
    "x = th.tensor([1,2,3,4,5]).send(bob4)"
   ]
  },
  {
   "cell_type": "code",
   "execution_count": 150,
   "metadata": {},
   "outputs": [
    {
     "data": {
      "text/plain": [
       "{98062263119: tensor([1, 2, 3, 4, 5])}"
      ]
     },
     "execution_count": 150,
     "metadata": {},
     "output_type": "execute_result"
    }
   ],
   "source": [
    "bob4._objects"
   ]
  },
  {
   "cell_type": "code",
   "execution_count": 152,
   "metadata": {},
   "outputs": [
    {
     "data": {
      "text/plain": [
       "{}"
      ]
     },
     "execution_count": 152,
     "metadata": {},
     "output_type": "execute_result"
    }
   ],
   "source": [
    "alice4._objects"
   ]
  },
  {
   "cell_type": "code",
   "execution_count": 153,
   "metadata": {},
   "outputs": [
    {
     "data": {
      "text/plain": [
       "(Wrapper)>[PointerTensor | me:27315492937 -> alice4:27315492937]"
      ]
     },
     "execution_count": 153,
     "metadata": {},
     "output_type": "execute_result"
    }
   ],
   "source": [
    "x.move(alice4)"
   ]
  },
  {
   "cell_type": "code",
   "execution_count": 154,
   "metadata": {},
   "outputs": [
    {
     "data": {
      "text/plain": [
       "{}"
      ]
     },
     "execution_count": 154,
     "metadata": {},
     "output_type": "execute_result"
    }
   ],
   "source": [
    "bob4._objects"
   ]
  },
  {
   "cell_type": "code",
   "execution_count": 155,
   "metadata": {},
   "outputs": [
    {
     "data": {
      "text/plain": [
       "{27315492937: tensor([1, 2, 3, 4, 5])}"
      ]
     },
     "execution_count": 155,
     "metadata": {},
     "output_type": "execute_result"
    }
   ],
   "source": [
    "alice4._objects"
   ]
  },
  {
   "cell_type": "code",
   "execution_count": null,
   "metadata": {},
   "outputs": [],
   "source": []
  },
  {
   "cell_type": "code",
   "execution_count": 164,
   "metadata": {},
   "outputs": [],
   "source": [
    "bob4.clear_objects()\n",
    "alice4.clear_objects()\n",
    "x = th.tensor([1,2,3,4,5]).send(bob4)\n",
    "x = x.send(alice4)"
   ]
  },
  {
   "cell_type": "code",
   "execution_count": 165,
   "metadata": {},
   "outputs": [
    {
     "data": {
      "text/plain": [
       "{92851640755: tensor([1, 2, 3, 4, 5])}"
      ]
     },
     "execution_count": 165,
     "metadata": {},
     "output_type": "execute_result"
    }
   ],
   "source": [
    "bob4._objects"
   ]
  },
  {
   "cell_type": "code",
   "execution_count": 166,
   "metadata": {},
   "outputs": [
    {
     "data": {
      "text/plain": [
       "{88333794763: (Wrapper)>[PointerTensor | alice4:88333794763 -> bob4:92851640755]}"
      ]
     },
     "execution_count": 166,
     "metadata": {},
     "output_type": "execute_result"
    }
   ],
   "source": [
    "alice4._objects"
   ]
  },
  {
   "cell_type": "code",
   "execution_count": 167,
   "metadata": {},
   "outputs": [
    {
     "data": {
      "text/plain": [
       "(Wrapper)>[PointerTensor | me:37260021189 -> alice4:88333794763]"
      ]
     },
     "execution_count": 167,
     "metadata": {},
     "output_type": "execute_result"
    }
   ],
   "source": [
    "x.remote_get()"
   ]
  },
  {
   "cell_type": "code",
   "execution_count": 168,
   "metadata": {},
   "outputs": [
    {
     "data": {
      "text/plain": [
       "{}"
      ]
     },
     "execution_count": 168,
     "metadata": {},
     "output_type": "execute_result"
    }
   ],
   "source": [
    "bob4._objects"
   ]
  },
  {
   "cell_type": "code",
   "execution_count": 169,
   "metadata": {},
   "outputs": [
    {
     "data": {
      "text/plain": [
       "{88333794763: tensor([1, 2, 3, 4, 5])}"
      ]
     },
     "execution_count": 169,
     "metadata": {},
     "output_type": "execute_result"
    }
   ],
   "source": [
    "alice4._objects"
   ]
  },
  {
   "cell_type": "code",
   "execution_count": 170,
   "metadata": {},
   "outputs": [
    {
     "data": {
      "text/plain": [
       "(Wrapper)>[PointerTensor | me:37260021189 -> bob4:37260021189]"
      ]
     },
     "execution_count": 170,
     "metadata": {},
     "output_type": "execute_result"
    }
   ],
   "source": [
    "x.move(bob4)"
   ]
  },
  {
   "cell_type": "code",
   "execution_count": 171,
   "metadata": {},
   "outputs": [
    {
     "data": {
      "text/plain": [
       "(Wrapper)>[PointerTensor | me:37260021189 -> bob4:37260021189]"
      ]
     },
     "execution_count": 171,
     "metadata": {},
     "output_type": "execute_result"
    }
   ],
   "source": [
    "x"
   ]
  },
  {
   "cell_type": "code",
   "execution_count": null,
   "metadata": {},
   "outputs": [],
   "source": []
  },
  {
   "cell_type": "markdown",
   "metadata": {},
   "source": [
    "# Lesson's final project"
   ]
  },
  {
   "cell_type": "code",
   "execution_count": 13,
   "metadata": {},
   "outputs": [
    {
     "name": "stderr",
     "output_type": "stream",
     "text": [
      "ERROR:root:Invalid alias: The name clear can't be aliased because it is another magic command.\n",
      "ERROR:root:Invalid alias: The name more can't be aliased because it is another magic command.\n",
      "ERROR:root:Invalid alias: The name less can't be aliased because it is another magic command.\n",
      "ERROR:root:Invalid alias: The name man can't be aliased because it is another magic command.\n"
     ]
    }
   ],
   "source": [
    "%reset -f"
   ]
  },
  {
   "cell_type": "code",
   "execution_count": 1,
   "metadata": {},
   "outputs": [
    {
     "name": "stderr",
     "output_type": "stream",
     "text": [
      "WARNING:tf_encrypted:Falling back to insecure randomness since the required custom op could not be found for the installed version of TensorFlow (1.13.1). Fix this by compiling custom ops.\n"
     ]
    }
   ],
   "source": [
    "import torch as th\n",
    "from torch import nn, optim\n",
    "import syft as sy\n",
    "\n",
    "hook = sy.TorchHook(th)"
   ]
  },
  {
   "cell_type": "code",
   "execution_count": 2,
   "metadata": {},
   "outputs": [
    {
     "name": "stdout",
     "output_type": "stream",
     "text": [
      "{}\n",
      "{}\n",
      "{}\n"
     ]
    }
   ],
   "source": [
    "user1 = sy.VirtualWorker(hook, id='user1')\n",
    "user2 = sy.VirtualWorker(hook, id='user2')\n",
    "concentrator = sy.VirtualWorker(hook, id='concentrator')\n",
    "\n",
    "print(user1._objects)\n",
    "print(user2._objects)\n",
    "print(concentrator._objects)"
   ]
  },
  {
   "cell_type": "code",
   "execution_count": 3,
   "metadata": {},
   "outputs": [],
   "source": [
    "# A Toy Dataset\n",
    "data = th.tensor([[1.,1],[0,1],[1,0],[0,0]], requires_grad=True)\n",
    "target = th.tensor([[1.],[1], [0], [0]], requires_grad=True)\n",
    "\n",
    "# Distribute the datsets\n",
    "data1 = data[:2].send(user1)\n",
    "target1 = target[:2].send(user1)\n",
    "\n",
    "data2 = data[2:].send(user2)\n",
    "target2 = target[2:].send(user2)\n",
    "\n",
    "datasets = [(data1, target1, user1), (data2, target2, user2)]"
   ]
  },
  {
   "cell_type": "code",
   "execution_count": 4,
   "metadata": {},
   "outputs": [
    {
     "data": {
      "text/plain": [
       "{}"
      ]
     },
     "execution_count": 4,
     "metadata": {},
     "output_type": "execute_result"
    }
   ],
   "source": [
    "concentrator._objects"
   ]
  },
  {
   "cell_type": "code",
   "execution_count": 5,
   "metadata": {},
   "outputs": [
    {
     "data": {
      "text/plain": [
       "{82183330593: tensor([[1., 1.],\n",
       "         [0., 1.]], requires_grad=True), 10033867876: tensor([[1.],\n",
       "         [1.]], requires_grad=True)}"
      ]
     },
     "execution_count": 5,
     "metadata": {},
     "output_type": "execute_result"
    }
   ],
   "source": [
    "user1._objects"
   ]
  },
  {
   "cell_type": "code",
   "execution_count": 6,
   "metadata": {},
   "outputs": [
    {
     "data": {
      "text/plain": [
       "{64798648262: tensor([[1., 0.],\n",
       "         [0., 0.]], requires_grad=True), 7614994320: tensor([[0.],\n",
       "         [0.]], requires_grad=True)}"
      ]
     },
     "execution_count": 6,
     "metadata": {},
     "output_type": "execute_result"
    }
   ],
   "source": [
    "user2._objects"
   ]
  },
  {
   "cell_type": "code",
   "execution_count": 12,
   "metadata": {},
   "outputs": [],
   "source": [
    "def train(iterations=20):\n",
    "\n",
    "    model = nn.Linear(2,1).send(concentrator)\n",
    "    opt = optim.SGD(params=model.parameters(), lr=0.1)\n",
    "    \n",
    "    for iter in range(iterations):\n",
    "\n",
    "        for _data, _target, _user in datasets:\n",
    "\n",
    "            # send model to the data\n",
    "            model.move(_user)\n",
    "\n",
    "            # do normal training\n",
    "            opt.zero_grad()\n",
    "            pred = model(_data)\n",
    "            loss = ((pred - _target)**2).sum()\n",
    "            loss.backward()\n",
    "            opt.step()\n",
    "\n",
    "            # get smarter model back\n",
    "            model.move(concentrator)\n",
    "\n",
    "            print(loss.get())\n",
    "    return model.get()"
   ]
  },
  {
   "cell_type": "code",
   "execution_count": 16,
   "metadata": {},
   "outputs": [
    {
     "name": "stdout",
     "output_type": "stream",
     "text": [
      "tensor(4.8485, requires_grad=True)\n",
      "tensor(0.1092, requires_grad=True)\n",
      "tensor(0.1713, requires_grad=True)\n",
      "tensor(0.1041, requires_grad=True)\n",
      "tensor(0.0729, requires_grad=True)\n",
      "tensor(0.0628, requires_grad=True)\n",
      "tensor(0.0434, requires_grad=True)\n",
      "tensor(0.0371, requires_grad=True)\n",
      "tensor(0.0267, requires_grad=True)\n",
      "tensor(0.0221, requires_grad=True)\n",
      "tensor(0.0166, requires_grad=True)\n",
      "tensor(0.0133, requires_grad=True)\n",
      "tensor(0.0105, requires_grad=True)\n",
      "tensor(0.0082, requires_grad=True)\n",
      "tensor(0.0067, requires_grad=True)\n",
      "tensor(0.0051, requires_grad=True)\n",
      "tensor(0.0043, requires_grad=True)\n",
      "tensor(0.0033, requires_grad=True)\n",
      "tensor(0.0028, requires_grad=True)\n",
      "tensor(0.0022, requires_grad=True)\n",
      "tensor(0.0019, requires_grad=True)\n",
      "tensor(0.0015, requires_grad=True)\n",
      "tensor(0.0013, requires_grad=True)\n",
      "tensor(0.0010, requires_grad=True)\n",
      "tensor(0.0009, requires_grad=True)\n",
      "tensor(0.0007, requires_grad=True)\n",
      "tensor(0.0006, requires_grad=True)\n",
      "tensor(0.0005, requires_grad=True)\n",
      "tensor(0.0004, requires_grad=True)\n",
      "tensor(0.0004, requires_grad=True)\n",
      "tensor(0.0003, requires_grad=True)\n",
      "tensor(0.0003, requires_grad=True)\n",
      "tensor(0.0002, requires_grad=True)\n",
      "tensor(0.0002, requires_grad=True)\n",
      "tensor(0.0002, requires_grad=True)\n",
      "tensor(0.0001, requires_grad=True)\n",
      "tensor(0.0001, requires_grad=True)\n",
      "tensor(0.0001, requires_grad=True)\n",
      "tensor(8.1817e-05, requires_grad=True)\n",
      "tensor(8.4419e-05, requires_grad=True)\n",
      "tensor(5.9944e-05, requires_grad=True)\n",
      "tensor(6.3597e-05, requires_grad=True)\n",
      "tensor(4.4089e-05, requires_grad=True)\n",
      "tensor(4.7966e-05, requires_grad=True)\n",
      "tensor(3.2531e-05, requires_grad=True)\n",
      "tensor(3.6198e-05, requires_grad=True)\n",
      "tensor(2.4067e-05, requires_grad=True)\n",
      "tensor(2.7322e-05, requires_grad=True)\n",
      "tensor(1.7843e-05, requires_grad=True)\n",
      "tensor(2.0620e-05, requires_grad=True)\n",
      "tensor(1.3253e-05, requires_grad=True)\n",
      "tensor(1.5559e-05, requires_grad=True)\n",
      "tensor(9.8580e-06, requires_grad=True)\n",
      "tensor(1.1735e-05, requires_grad=True)\n",
      "tensor(7.3418e-06, requires_grad=True)\n",
      "tensor(8.8475e-06, requires_grad=True)\n",
      "tensor(5.4734e-06, requires_grad=True)\n",
      "tensor(6.6671e-06, requires_grad=True)\n",
      "tensor(4.0832e-06, requires_grad=True)\n",
      "tensor(5.0215e-06, requires_grad=True)\n",
      "tensor(3.0488e-06, requires_grad=True)\n",
      "tensor(3.7805e-06, requires_grad=True)\n",
      "tensor(2.2776e-06, requires_grad=True)\n",
      "tensor(2.8449e-06, requires_grad=True)\n",
      "tensor(1.7022e-06, requires_grad=True)\n",
      "tensor(2.1400e-06, requires_grad=True)\n",
      "tensor(1.2729e-06, requires_grad=True)\n",
      "tensor(1.6091e-06, requires_grad=True)\n",
      "tensor(9.5195e-07, requires_grad=True)\n",
      "tensor(1.2095e-06, requires_grad=True)\n",
      "tensor(7.1229e-07, requires_grad=True)\n",
      "tensor(9.0883e-07, requires_grad=True)\n",
      "tensor(5.3296e-07, requires_grad=True)\n",
      "tensor(6.8270e-07, requires_grad=True)\n",
      "tensor(3.9891e-07, requires_grad=True)\n",
      "tensor(5.1270e-07, requires_grad=True)\n",
      "tensor(2.9867e-07, requires_grad=True)\n",
      "tensor(3.8493e-07, requires_grad=True)\n",
      "tensor(2.2356e-07, requires_grad=True)\n",
      "tensor(2.8895e-07, requires_grad=True)\n",
      "tensor(1.6751e-07, requires_grad=True)\n",
      "tensor(2.1690e-07, requires_grad=True)\n",
      "tensor(1.2545e-07, requires_grad=True)\n",
      "tensor(1.6276e-07, requires_grad=True)\n",
      "tensor(9.3880e-08, requires_grad=True)\n",
      "tensor(1.2210e-07, requires_grad=True)\n",
      "tensor(7.0365e-08, requires_grad=True)\n",
      "tensor(9.1602e-08, requires_grad=True)\n",
      "tensor(5.2710e-08, requires_grad=True)\n",
      "tensor(6.8712e-08, requires_grad=True)\n",
      "tensor(3.9470e-08, requires_grad=True)\n",
      "tensor(5.1529e-08, requires_grad=True)\n",
      "tensor(2.9547e-08, requires_grad=True)\n",
      "tensor(3.8638e-08, requires_grad=True)\n",
      "tensor(2.2172e-08, requires_grad=True)\n",
      "tensor(2.8986e-08, requires_grad=True)\n",
      "tensor(1.6591e-08, requires_grad=True)\n",
      "tensor(2.1731e-08, requires_grad=True)\n",
      "tensor(1.2441e-08, requires_grad=True)\n",
      "tensor(1.6295e-08, requires_grad=True)\n"
     ]
    }
   ],
   "source": [
    "model = train(50)"
   ]
  },
  {
   "cell_type": "code",
   "execution_count": 17,
   "metadata": {},
   "outputs": [
    {
     "data": {
      "text/plain": [
       "tensor([[ 1.0001e+00],\n",
       "        [ 9.9995e-01],\n",
       "        [ 2.8335e-05],\n",
       "        [-1.0299e-04]], grad_fn=<AddmmBackward>)"
      ]
     },
     "execution_count": 17,
     "metadata": {},
     "output_type": "execute_result"
    }
   ],
   "source": [
    "model(data)"
   ]
  },
  {
   "cell_type": "code",
   "execution_count": 18,
   "metadata": {},
   "outputs": [
    {
     "data": {
      "text/plain": [
       "tensor([[1.],\n",
       "        [1.],\n",
       "        [0.],\n",
       "        [0.]], requires_grad=True)"
      ]
     },
     "execution_count": 18,
     "metadata": {},
     "output_type": "execute_result"
    }
   ],
   "source": [
    "target"
   ]
  },
  {
   "cell_type": "code",
   "execution_count": null,
   "metadata": {},
   "outputs": [],
   "source": []
  }
 ],
 "metadata": {
  "kernelspec": {
   "display_name": "deep",
   "language": "python",
   "name": "deep"
  },
  "language_info": {
   "codemirror_mode": {
    "name": "ipython",
    "version": 3
   },
   "file_extension": ".py",
   "mimetype": "text/x-python",
   "name": "python",
   "nbconvert_exporter": "python",
   "pygments_lexer": "ipython3",
   "version": "3.7.3"
  }
 },
 "nbformat": 4,
 "nbformat_minor": 2
}
