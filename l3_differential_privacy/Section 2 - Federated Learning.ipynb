{
 "cells": [
  {
   "cell_type": "markdown",
   "metadata": {},
   "source": [
    "# Section: Federated Learning"
   ]
  },
  {
   "cell_type": "markdown",
   "metadata": {},
   "source": [
    "# Lesson: Introducing Federated Learning\n",
    "\n",
    "Federated Learning is a technique for training Deep Learning models on data to which you do not have access. Basically:\n",
    "\n",
    "Federated Learning: Instead of bringing all the data to one machine and training a model, we bring the model to the data, train it locally, and merely upload \"model updates\" to a central server.\n",
    "\n",
    "Use Cases:\n",
    "\n",
    "    - app company (Texting prediction app)\n",
    "    - predictive maintenance (automobiles / industrial engines)\n",
    "    - wearable medical devices\n",
    "    - ad blockers / autotomplete in browsers (Firefox/Brave)\n",
    "    \n",
    "Challenge Description: data is distributed amongst sources but we cannot aggregated it because of:\n",
    "\n",
    "    - privacy concerns: legal, user discomfort, competitive dynamics\n",
    "    - engineering: the bandwidth/storage requirements of aggregating the larger dataset"
   ]
  },
  {
   "cell_type": "markdown",
   "metadata": {},
   "source": [
    "# Lesson: Introducing / Installing PySyft\n",
    "\n",
    "In order to perform Federated Learning, we need to be able to use Deep Learning techniques on remote machines. This will require a new set of tools. Specifically, we will use an extensin of PyTorch called PySyft.\n",
    "\n",
    "### Install PySyft\n",
    "\n",
    "The easiest way to install the required libraries is with [Conda](https://docs.conda.io/projects/conda/en/latest/user-guide/overview.html). Create a new environment, then install the dependencies in that environment. In your terminal:\n",
    "\n",
    "```bash\n",
    "conda create -n pysyft python=3\n",
    "conda activate pysyft # some older version of conda require \"source activate pysyft\" instead.\n",
    "conda install jupyter notebook\n",
    "pip install syft\n",
    "pip install numpy\n",
    "```\n",
    "\n",
    "If you have any errors relating to zstd - run the following (if everything above installed fine then skip this step):\n",
    "\n",
    "```\n",
    "pip install --upgrade --force-reinstall zstd\n",
    "```\n",
    "\n",
    "and then retry installing syft (pip install syft).\n",
    "\n",
    "If you are using Windows, I suggest installing [Anaconda and using the Anaconda Prompt](https://docs.anaconda.com/anaconda/user-guide/getting-started/) to work from the command line. \n",
    "\n",
    "With this environment activated and in the repo directory, launch Jupyter Notebook:\n",
    "\n",
    "```bash\n",
    "jupyter notebook\n",
    "```\n",
    "\n",
    "and re-open this notebook on the new Jupyter server.\n",
    "\n",
    "If any part of this doesn't work for you (or any of the tests fail) - first check the [README](https://github.com/OpenMined/PySyft.git) for installation help and then open a Github Issue or ping the #beginner channel in our slack! [slack.openmined.org](http://slack.openmined.org/)"
   ]
  },
  {
   "cell_type": "code",
   "execution_count": 1,
   "metadata": {},
   "outputs": [],
   "source": [
    "import torch as th"
   ]
  },
  {
   "cell_type": "code",
   "execution_count": 2,
   "metadata": {},
   "outputs": [
    {
     "data": {
      "text/plain": [
       "tensor([1, 2, 3, 4, 5])"
      ]
     },
     "execution_count": 2,
     "metadata": {},
     "output_type": "execute_result"
    }
   ],
   "source": [
    "x = th.tensor([1,2,3,4,5])\n",
    "x"
   ]
  },
  {
   "cell_type": "code",
   "execution_count": 3,
   "metadata": {},
   "outputs": [],
   "source": [
    "y = x + x"
   ]
  },
  {
   "cell_type": "code",
   "execution_count": 4,
   "metadata": {},
   "outputs": [
    {
     "name": "stdout",
     "output_type": "stream",
     "text": [
      "tensor([ 2,  4,  6,  8, 10])\n"
     ]
    }
   ],
   "source": [
    "print(y)"
   ]
  },
  {
   "cell_type": "code",
   "execution_count": null,
   "metadata": {},
   "outputs": [],
   "source": []
  },
  {
   "cell_type": "code",
   "execution_count": 5,
   "metadata": {},
   "outputs": [
    {
     "name": "stderr",
     "output_type": "stream",
     "text": [
      "WARNING:tf_encrypted:Falling back to insecure randomness since the required custom op could not be found for the installed version of TensorFlow (1.13.1). Fix this by compiling custom ops.\n"
     ]
    }
   ],
   "source": [
    "import syft as sy"
   ]
  },
  {
   "cell_type": "code",
   "execution_count": 6,
   "metadata": {},
   "outputs": [],
   "source": [
    "hook = sy.TorchHook(th)"
   ]
  },
  {
   "cell_type": "code",
   "execution_count": 7,
   "metadata": {},
   "outputs": [
    {
     "data": {
      "text/plain": [
       "tensor([1, 2, 3, 4, 5])"
      ]
     },
     "execution_count": 7,
     "metadata": {},
     "output_type": "execute_result"
    }
   ],
   "source": [
    "th.tensor([1,2,3,4,5])"
   ]
  },
  {
   "cell_type": "markdown",
   "metadata": {},
   "source": [
    "# Lesson: Basic Remote Execution in PySyft"
   ]
  },
  {
   "cell_type": "markdown",
   "metadata": {},
   "source": [
    "## PySyft => Remote PyTorch\n",
    "\n",
    "The essence of Federated Learning is the ability to train models in parallel on a wide number of machines. Thus, we need the ability to tell remote machines to execute the operations required for Deep Learning.\n",
    "\n",
    "Thus, instead of using Torch tensors - we're now going to work with **pointers** to tensors. Let me show you what I mean. First, let's create a \"pretend\" machine owned by a \"pretend\" person - we'll call him Bob."
   ]
  },
  {
   "cell_type": "code",
   "execution_count": 8,
   "metadata": {},
   "outputs": [],
   "source": [
    "bob = sy.VirtualWorker(hook, id=\"bob\")"
   ]
  },
  {
   "cell_type": "code",
   "execution_count": 9,
   "metadata": {},
   "outputs": [
    {
     "data": {
      "text/plain": [
       "{}"
      ]
     },
     "execution_count": 9,
     "metadata": {},
     "output_type": "execute_result"
    }
   ],
   "source": [
    "bob._objects"
   ]
  },
  {
   "cell_type": "code",
   "execution_count": 10,
   "metadata": {},
   "outputs": [],
   "source": [
    "x = th.tensor([1,2,3,4,5])"
   ]
  },
  {
   "cell_type": "code",
   "execution_count": 11,
   "metadata": {},
   "outputs": [],
   "source": [
    "x = x.send(bob)"
   ]
  },
  {
   "cell_type": "code",
   "execution_count": 12,
   "metadata": {},
   "outputs": [
    {
     "data": {
      "text/plain": [
       "{41671980356: tensor([1, 2, 3, 4, 5])}"
      ]
     },
     "execution_count": 12,
     "metadata": {},
     "output_type": "execute_result"
    }
   ],
   "source": [
    "bob._objects"
   ]
  },
  {
   "cell_type": "code",
   "execution_count": 13,
   "metadata": {},
   "outputs": [
    {
     "data": {
      "text/plain": [
       "<VirtualWorker id:bob #tensors:1>"
      ]
     },
     "execution_count": 13,
     "metadata": {},
     "output_type": "execute_result"
    }
   ],
   "source": [
    "x.location"
   ]
  },
  {
   "cell_type": "code",
   "execution_count": 14,
   "metadata": {},
   "outputs": [
    {
     "data": {
      "text/plain": [
       "41671980356"
      ]
     },
     "execution_count": 14,
     "metadata": {},
     "output_type": "execute_result"
    }
   ],
   "source": [
    "x.id_at_location"
   ]
  },
  {
   "cell_type": "code",
   "execution_count": 15,
   "metadata": {},
   "outputs": [
    {
     "data": {
      "text/plain": [
       "30970588276"
      ]
     },
     "execution_count": 15,
     "metadata": {},
     "output_type": "execute_result"
    }
   ],
   "source": [
    "x.id"
   ]
  },
  {
   "cell_type": "code",
   "execution_count": 16,
   "metadata": {},
   "outputs": [
    {
     "data": {
      "text/plain": [
       "<VirtualWorker id:me #tensors:0>"
      ]
     },
     "execution_count": 16,
     "metadata": {},
     "output_type": "execute_result"
    }
   ],
   "source": [
    "x.owner"
   ]
  },
  {
   "cell_type": "code",
   "execution_count": 17,
   "metadata": {},
   "outputs": [
    {
     "data": {
      "text/plain": [
       "<VirtualWorker id:me #tensors:0>"
      ]
     },
     "execution_count": 17,
     "metadata": {},
     "output_type": "execute_result"
    }
   ],
   "source": [
    "hook.local_worker"
   ]
  },
  {
   "cell_type": "code",
   "execution_count": 18,
   "metadata": {},
   "outputs": [
    {
     "data": {
      "text/plain": [
       "(Wrapper)>[PointerTensor | me:30970588276 -> bob:41671980356]"
      ]
     },
     "execution_count": 18,
     "metadata": {},
     "output_type": "execute_result"
    }
   ],
   "source": [
    "x"
   ]
  },
  {
   "cell_type": "code",
   "execution_count": 19,
   "metadata": {},
   "outputs": [
    {
     "data": {
      "text/plain": [
       "tensor([1, 2, 3, 4, 5])"
      ]
     },
     "execution_count": 19,
     "metadata": {},
     "output_type": "execute_result"
    }
   ],
   "source": [
    "x = x.get()\n",
    "x"
   ]
  },
  {
   "cell_type": "code",
   "execution_count": 20,
   "metadata": {},
   "outputs": [
    {
     "data": {
      "text/plain": [
       "{}"
      ]
     },
     "execution_count": 20,
     "metadata": {},
     "output_type": "execute_result"
    }
   ],
   "source": [
    "bob._objects"
   ]
  },
  {
   "cell_type": "markdown",
   "metadata": {},
   "source": [
    "# Project: Playing with Remote Tensors\n",
    "\n",
    "In this project, I want you to .send() and .get() a tensor to TWO workers by calling .send(bob,alice). This will first require the creation of another VirtualWorker called alice."
   ]
  },
  {
   "cell_type": "code",
   "execution_count": 21,
   "metadata": {},
   "outputs": [],
   "source": [
    "# try this project here!"
   ]
  },
  {
   "cell_type": "code",
   "execution_count": 22,
   "metadata": {},
   "outputs": [],
   "source": [
    "alice = sy.VirtualWorker(hook, id='alice')\n",
    "bob = sy.VirtualWorker(hook, id='bob')\n",
    "x = th.tensor([1,2,3,4,5])"
   ]
  },
  {
   "cell_type": "code",
   "execution_count": 23,
   "metadata": {},
   "outputs": [],
   "source": [
    "x = x.send(alice, bob)"
   ]
  },
  {
   "cell_type": "code",
   "execution_count": 24,
   "metadata": {},
   "outputs": [
    {
     "data": {
      "text/plain": [
       "30536684341"
      ]
     },
     "execution_count": 24,
     "metadata": {},
     "output_type": "execute_result"
    }
   ],
   "source": [
    "x.id"
   ]
  },
  {
   "cell_type": "code",
   "execution_count": 25,
   "metadata": {},
   "outputs": [],
   "source": [
    "x.location"
   ]
  },
  {
   "cell_type": "code",
   "execution_count": 26,
   "metadata": {},
   "outputs": [
    {
     "data": {
      "text/plain": [
       "{47580621359: tensor([1, 2, 3, 4, 5])}"
      ]
     },
     "execution_count": 26,
     "metadata": {},
     "output_type": "execute_result"
    }
   ],
   "source": [
    "alice._objects"
   ]
  },
  {
   "cell_type": "code",
   "execution_count": 27,
   "metadata": {},
   "outputs": [
    {
     "data": {
      "text/plain": [
       "{15370674848: tensor([1, 2, 3, 4, 5])}"
      ]
     },
     "execution_count": 27,
     "metadata": {},
     "output_type": "execute_result"
    }
   ],
   "source": [
    "bob._objects"
   ]
  },
  {
   "cell_type": "code",
   "execution_count": 28,
   "metadata": {},
   "outputs": [
    {
     "data": {
      "text/plain": [
       "(Wrapper)>[MultiPointerTensor]\n",
       "\t-> (Wrapper)>[PointerTensor | me:27989561047 -> alice:47580621359]\n",
       "\t-> (Wrapper)>[PointerTensor | me:97631634169 -> bob:15370674848]"
      ]
     },
     "execution_count": 28,
     "metadata": {},
     "output_type": "execute_result"
    }
   ],
   "source": [
    "x"
   ]
  },
  {
   "cell_type": "code",
   "execution_count": 29,
   "metadata": {},
   "outputs": [],
   "source": [
    "x = x.get()"
   ]
  },
  {
   "cell_type": "code",
   "execution_count": 30,
   "metadata": {},
   "outputs": [
    {
     "data": {
      "text/plain": [
       "[tensor([1, 2, 3, 4, 5]), tensor([1, 2, 3, 4, 5])]"
      ]
     },
     "execution_count": 30,
     "metadata": {},
     "output_type": "execute_result"
    }
   ],
   "source": [
    "x"
   ]
  },
  {
   "cell_type": "markdown",
   "metadata": {},
   "source": [
    "# Lesson: Introducing Remote Arithmetic"
   ]
  },
  {
   "cell_type": "code",
   "execution_count": 31,
   "metadata": {},
   "outputs": [],
   "source": [
    "x = th.tensor([1,2,3,4,5]).send(bob)\n",
    "y = th.tensor([1,1,1,1,1]).send(bob)"
   ]
  },
  {
   "cell_type": "code",
   "execution_count": 32,
   "metadata": {},
   "outputs": [
    {
     "data": {
      "text/plain": [
       "(Wrapper)>[PointerTensor | me:64407898154 -> bob:73914328329]"
      ]
     },
     "execution_count": 32,
     "metadata": {},
     "output_type": "execute_result"
    }
   ],
   "source": [
    "x"
   ]
  },
  {
   "cell_type": "code",
   "execution_count": 33,
   "metadata": {},
   "outputs": [
    {
     "data": {
      "text/plain": [
       "(Wrapper)>[PointerTensor | me:54814775710 -> bob:92014501963]"
      ]
     },
     "execution_count": 33,
     "metadata": {},
     "output_type": "execute_result"
    }
   ],
   "source": [
    "y"
   ]
  },
  {
   "cell_type": "code",
   "execution_count": 34,
   "metadata": {},
   "outputs": [],
   "source": [
    "z = x + y"
   ]
  },
  {
   "cell_type": "code",
   "execution_count": 35,
   "metadata": {},
   "outputs": [
    {
     "data": {
      "text/plain": [
       "(Wrapper)>[PointerTensor | me:9305149754 -> bob:82721850079]"
      ]
     },
     "execution_count": 35,
     "metadata": {},
     "output_type": "execute_result"
    }
   ],
   "source": [
    "z"
   ]
  },
  {
   "cell_type": "code",
   "execution_count": 36,
   "metadata": {},
   "outputs": [
    {
     "data": {
      "text/plain": [
       "tensor([2, 3, 4, 5, 6])"
      ]
     },
     "execution_count": 36,
     "metadata": {},
     "output_type": "execute_result"
    }
   ],
   "source": [
    "z = z.get()\n",
    "z"
   ]
  },
  {
   "cell_type": "code",
   "execution_count": 37,
   "metadata": {},
   "outputs": [
    {
     "data": {
      "text/plain": [
       "(Wrapper)>[PointerTensor | me:40670596739 -> bob:35330949234]"
      ]
     },
     "execution_count": 37,
     "metadata": {},
     "output_type": "execute_result"
    }
   ],
   "source": [
    "z = th.add(x,y)\n",
    "z"
   ]
  },
  {
   "cell_type": "code",
   "execution_count": 38,
   "metadata": {},
   "outputs": [
    {
     "data": {
      "text/plain": [
       "tensor([2, 3, 4, 5, 6])"
      ]
     },
     "execution_count": 38,
     "metadata": {},
     "output_type": "execute_result"
    }
   ],
   "source": [
    "z = z.get()\n",
    "z"
   ]
  },
  {
   "cell_type": "code",
   "execution_count": 39,
   "metadata": {},
   "outputs": [],
   "source": [
    "x = th.tensor([1.,2,3,4,5], requires_grad=True).send(bob)\n",
    "y = th.tensor([1.,1,1,1,1], requires_grad=True).send(bob)"
   ]
  },
  {
   "cell_type": "code",
   "execution_count": 40,
   "metadata": {},
   "outputs": [],
   "source": [
    "z = (x + y).sum()"
   ]
  },
  {
   "cell_type": "code",
   "execution_count": 41,
   "metadata": {},
   "outputs": [
    {
     "data": {
      "text/plain": [
       "(Wrapper)>[PointerTensor | me:57864560797 -> bob:93577231415]"
      ]
     },
     "execution_count": 41,
     "metadata": {},
     "output_type": "execute_result"
    }
   ],
   "source": [
    "z.backward()"
   ]
  },
  {
   "cell_type": "code",
   "execution_count": 42,
   "metadata": {},
   "outputs": [],
   "source": [
    "x = x.get()"
   ]
  },
  {
   "cell_type": "code",
   "execution_count": 43,
   "metadata": {},
   "outputs": [
    {
     "data": {
      "text/plain": [
       "tensor([1., 2., 3., 4., 5.], requires_grad=True)"
      ]
     },
     "execution_count": 43,
     "metadata": {},
     "output_type": "execute_result"
    }
   ],
   "source": [
    "x"
   ]
  },
  {
   "cell_type": "code",
   "execution_count": 44,
   "metadata": {},
   "outputs": [
    {
     "data": {
      "text/plain": [
       "tensor([1., 1., 1., 1., 1.])"
      ]
     },
     "execution_count": 44,
     "metadata": {},
     "output_type": "execute_result"
    }
   ],
   "source": [
    "x.grad"
   ]
  },
  {
   "cell_type": "code",
   "execution_count": null,
   "metadata": {},
   "outputs": [],
   "source": []
  },
  {
   "cell_type": "markdown",
   "metadata": {},
   "source": [
    "# Project: Learn a Simple Linear Model\n",
    "\n",
    "In this project, I'd like for you to create a simple linear model which will solve for the following dataset below. You should use only Variables and .backward() to do so (no optimizers or nn.Modules). Furthermore, you must do so with both the data and the model being located on Bob's machine."
   ]
  },
  {
   "cell_type": "code",
   "execution_count": 45,
   "metadata": {},
   "outputs": [],
   "source": [
    "# try this project here!"
   ]
  },
  {
   "cell_type": "code",
   "execution_count": 46,
   "metadata": {},
   "outputs": [],
   "source": [
    "import numpy as np\n",
    "import matplotlib.pyplot as plt\n",
    "%matplotlib inline"
   ]
  },
  {
   "cell_type": "code",
   "execution_count": 47,
   "metadata": {},
   "outputs": [],
   "source": [
    "bob = sy.VirtualWorker(hook, id='bob')"
   ]
  },
  {
   "cell_type": "code",
   "execution_count": 48,
   "metadata": {},
   "outputs": [
    {
     "data": {
      "text/plain": [
       "<matplotlib.collections.PathCollection at 0x7f9d43b06ac8>"
      ]
     },
     "execution_count": 48,
     "metadata": {},
     "output_type": "execute_result"
    },
    {
     "data": {
      "image/png": "[encoded data removed]",
      "text/plain": [
       "<Figure size 432x288 with 1 Axes>"
      ]
     },
     "metadata": {
      "needs_background": "light"
     },
     "output_type": "display_data"
    }
   ],
   "source": [
    "x = np.linspace(0, 1, 1000)\n",
    "y = 70.0 * x + 5.0 * np.random.randn(x.shape[0]) - 12.0\n",
    "plt.scatter(x, y)"
   ]
  },
  {
   "cell_type": "code",
   "execution_count": 49,
   "metadata": {},
   "outputs": [],
   "source": [
    "# Create the tensors\n",
    "x_t = th.tensor(x)\n",
    "y_t = th.tensor(y)\n",
    "coefs = th.tensor(np.random.randn(2), requires_grad=True)\n",
    "eta = th.tensor(0.05)\n",
    "\n",
    "# Send the tensors\n",
    "x_remote = x_t.send(bob)\n",
    "y_remote = y_t.send(bob)\n",
    "coefs = coefs.send(bob)\n",
    "eta = eta.send(bob)"
   ]
  },
  {
   "cell_type": "code",
   "execution_count": 50,
   "metadata": {},
   "outputs": [
    {
     "name": "stdout",
     "output_type": "stream",
     "text": [
      "Iteration 0. Loss: 999.3081356260319\n",
      "Iteration 1. Loss: 833.3616824809856\n",
      "Iteration 2. Loss: 705.962337868289\n",
      "Iteration 3. Loss: 607.9680886911941\n",
      "Iteration 4. Loss: 532.4076086915312\n",
      "Iteration 5. Loss: 473.96481566086146\n",
      "Iteration 6. Loss: 428.5858241118018\n",
      "Iteration 7. Loss: 393.179229754075\n",
      "Iteration 8. Loss: 365.38756348754106\n",
      "Iteration 9. Loss: 343.41301521429017\n",
      "Iteration 10. Loss: 325.8845407230234\n",
      "Iteration 11. Loss: 311.75652494685596\n",
      "Iteration 12. Loss: 300.23150831386613\n",
      "Iteration 13. Loss: 290.70126224147447\n",
      "Iteration 14. Loss: 282.70185664276335\n",
      "Iteration 15. Loss: 275.8793969441987\n",
      "Iteration 16. Loss: 269.96389706514657\n",
      "Iteration 17. Loss: 264.7493564185964\n",
      "Iteration 18. Loss: 260.0785677452683\n",
      "Iteration 19. Loss: 255.83153241200364\n",
      "Iteration 20. Loss: 251.91662655716374\n",
      "Iteration 21. Loss: 248.26386487550374\n",
      "Iteration 22. Loss: 244.81976394367058\n",
      "Iteration 23. Loss: 241.54342526451836\n",
      "Iteration 24. Loss: 238.40354839976618\n",
      "Iteration 25. Loss: 235.3761533352994\n",
      "Iteration 26. Loss: 232.44284366713367\n",
      "Iteration 27. Loss: 229.58948218666342\n",
      "Iteration 28. Loss: 226.80518093835857\n",
      "Iteration 29. Loss: 224.08153107648593\n",
      "Iteration 30. Loss: 221.41201557914994\n",
      "Iteration 31. Loss: 218.79156139915096\n",
      "Iteration 32. Loss: 216.21619794165645\n",
      "Iteration 33. Loss: 213.68279662088077\n",
      "Iteration 34. Loss: 211.18887224322924\n",
      "Iteration 35. Loss: 208.73243153601499\n",
      "Iteration 36. Loss: 206.3118576269302\n",
      "Iteration 37. Loss: 203.9258219377405\n",
      "Iteration 38. Loss: 201.57321698272605\n",
      "Iteration 39. Loss: 199.25310510811065\n",
      "Iteration 40. Loss: 196.96467938739684\n",
      "Iteration 41. Loss: 194.70723378631587\n",
      "Iteration 42. Loss: 192.4801403964688\n",
      "Iteration 43. Loss: 190.28283205935705\n",
      "Iteration 44. Loss: 188.1147891010216\n",
      "Iteration 45. Loss: 185.97552920140132\n",
      "Iteration 46. Loss: 183.8645996542495\n",
      "Iteration 47. Loss: 181.78157145015135\n",
      "Iteration 48. Loss: 179.7260347499286\n",
      "Iteration 49. Loss: 177.69759541846724\n",
      "Iteration 50. Loss: 175.69587236735265\n",
      "Iteration 51. Loss: 173.72049551444238\n",
      "Iteration 52. Loss: 171.77110421406593\n",
      "Iteration 53. Loss: 169.84734604627891\n",
      "Iteration 54. Loss: 167.94887588009314\n",
      "Iteration 55. Loss: 166.07535514580158\n",
      "Iteration 56. Loss: 164.22645126692242\n",
      "Iteration 57. Loss: 162.4018372140337\n",
      "Iteration 58. Loss: 160.60119115172398\n",
      "Iteration 59. Loss: 158.8241961567173\n",
      "Iteration 60. Loss: 157.07053999043765\n",
      "Iteration 61. Loss: 155.33991491324971\n",
      "Iteration 62. Loss: 153.63201753064232\n",
      "Iteration 63. Loss: 151.94654866392753\n",
      "Iteration 64. Loss: 150.28321323979424\n",
      "Iteration 65. Loss: 148.64172019439212\n",
      "Iteration 66. Loss: 147.02178238865108\n",
      "Iteration 67. Loss: 145.423116532319\n",
      "Iteration 68. Loss: 143.84544311479672\n",
      "Iteration 69. Loss: 142.2884863413048\n",
      "Iteration 70. Loss: 140.75197407326118\n",
      "Iteration 71. Loss: 139.23563777201275\n",
      "Iteration 72. Loss: 137.73921244526838\n",
      "Iteration 73. Loss: 136.26243659572873\n",
      "Iteration 74. Loss: 134.80505217153313\n",
      "Iteration 75. Loss: 133.36680451822534\n",
      "Iteration 76. Loss: 131.9474423320131\n",
      "Iteration 77. Loss: 130.54671761414784\n",
      "Iteration 78. Loss: 129.16438562628838\n",
      "Iteration 79. Loss: 127.80020484674479\n",
      "Iteration 80. Loss: 126.45393692752148\n",
      "Iteration 81. Loss: 125.12534665209435\n",
      "Iteration 82. Loss: 123.8142018938739\n",
      "Iteration 83. Loss: 122.52027357531234\n",
      "Iteration 84. Loss: 121.24333562762352\n",
      "Iteration 85. Loss: 119.98316495109002\n",
      "Iteration 86. Loss: 118.73954137593518\n",
      "Iteration 87. Loss: 117.51224762374251\n",
      "Iteration 88. Loss: 116.30106926940739\n",
      "Iteration 89. Loss: 115.10579470360823\n",
      "Iteration 90. Loss: 113.92621509578449\n",
      "Iteration 91. Loss: 112.76212435761322\n",
      "Iteration 92. Loss: 111.61331910697304\n",
      "Iteration 93. Loss: 110.47959863238853\n",
      "Iteration 94. Loss: 109.36076485794584\n",
      "Iteration 95. Loss: 108.2566223086736\n",
      "Iteration 96. Loss: 107.16697807638069\n",
      "Iteration 97. Loss: 106.09164178594516\n",
      "Iteration 98. Loss: 105.03042556204758\n",
      "Iteration 99. Loss: 103.98314399634226\n",
      "Iteration 100. Loss: 102.94961411506046\n",
      "Iteration 101. Loss: 101.92965534704021\n",
      "Iteration 102. Loss: 100.92308949217615\n",
      "Iteration 103. Loss: 99.92974069028406\n",
      "Iteration 104. Loss: 98.94943539037476\n",
      "Iteration 105. Loss: 97.98200232033155\n",
      "Iteration 106. Loss: 97.02727245698604\n",
      "Iteration 107. Loss: 96.08507899658736\n",
      "Iteration 108. Loss: 95.1552573256587\n",
      "Iteration 109. Loss: 94.2376449922369\n",
      "Iteration 110. Loss: 93.33208167748998\n",
      "Iteration 111. Loss: 92.43840916770701\n",
      "Iteration 112. Loss: 91.55647132665602\n",
      "Iteration 113. Loss: 90.68611406830487\n",
      "Iteration 114. Loss: 89.82718532990033\n",
      "Iteration 115. Loss: 88.97953504540072\n",
      "Iteration 116. Loss: 88.14301511925726\n",
      "Iteration 117. Loss: 87.31747940054\n",
      "Iteration 118. Loss: 86.50278365740303\n",
      "Iteration 119. Loss: 85.69878555188579\n",
      "Iteration 120. Loss: 84.90534461504414\n",
      "Iteration 121. Loss: 84.12232222240897\n",
      "Iteration 122. Loss: 83.3495815697667\n",
      "Iteration 123. Loss: 82.58698764925755\n",
      "Iteration 124. Loss: 81.8344072257882\n",
      "Iteration 125. Loss: 81.09170881375361\n",
      "Iteration 126. Loss: 80.35876265406495\n",
      "Iteration 127. Loss: 79.635440691479\n",
      "Iteration 128. Loss: 78.92161655222512\n",
      "Iteration 129. Loss: 78.21716552192605\n",
      "Iteration 130. Loss: 77.52196452380895\n",
      "Iteration 131. Loss: 76.83589209720199\n",
      "Iteration 132. Loss: 76.15882837631386\n",
      "Iteration 133. Loss: 75.49065506929136\n",
      "Iteration 134. Loss: 74.83125543755246\n",
      "Iteration 135. Loss: 74.18051427539064\n",
      "Iteration 136. Loss: 73.53831788984655\n",
      "Iteration 137. Loss: 72.90455408084499\n",
      "Iteration 138. Loss: 72.27911212159145\n",
      "Iteration 139. Loss: 71.66188273922712\n",
      "Iteration 140. Loss: 71.05275809573739\n",
      "Iteration 141. Loss: 70.45163176911105\n",
      "Iteration 142. Loss: 69.85839873474707\n",
      "Iteration 143. Loss: 69.27295534710548\n",
      "Iteration 144. Loss: 68.69519932159902\n",
      "Iteration 145. Loss: 68.12502971672279\n",
      "Iteration 146. Loss: 67.5623469164184\n",
      "Iteration 147. Loss: 67.0070526126697\n",
      "Iteration 148. Loss: 66.45904978832718\n",
      "Iteration 149. Loss: 65.91824270015786\n",
      "Iteration 150. Loss: 65.38453686211751\n",
      "Iteration 151. Loss: 64.85783902884293\n",
      "Iteration 152. Loss: 64.33805717936052\n",
      "Iteration 153. Loss: 63.82510050100919\n",
      "Iteration 154. Loss: 63.31887937357428\n",
      "Iteration 155. Loss: 62.81930535362954\n",
      "Iteration 156. Loss: 62.32629115908497\n",
      "Iteration 157. Loss: 61.839750653937536\n",
      "Iteration 158. Loss: 61.35959883322224\n",
      "Iteration 159. Loss: 60.88575180816026\n",
      "Iteration 160. Loss: 60.41812679150283\n",
      "Iteration 161. Loss: 59.95664208306715\n",
      "Iteration 162. Loss: 59.501217055462206\n",
      "Iteration 163. Loss: 59.051772140002186\n",
      "Iteration 164. Loss: 58.608228812804775\n",
      "Iteration 165. Loss: 58.170509581072054\n",
      "Iteration 166. Loss: 57.738537969551444\n",
      "Iteration 167. Loss: 57.31223850717446\n",
      "Iteration 168. Loss: 56.89153671387098\n",
      "Iteration 169. Loss: 56.47635908755668\n",
      "Iteration 170. Loss: 56.066633091291074\n",
      "Iteration 171. Loss: 55.66228714060454\n",
      "Iteration 172. Loss: 55.26325059099147\n",
      "Iteration 173. Loss: 54.86945372556785\n",
      "Iteration 174. Loss: 54.48082774289068\n",
      "Iteration 175. Loss: 54.09730474493761\n",
      "Iteration 176. Loss: 53.71881772524419\n",
      "Iteration 177. Loss: 53.34530055719699\n",
      "Iteration 178. Loss: 52.97668798248036\n",
      "Iteration 179. Loss: 52.612915599675105\n",
      "Iteration 180. Loss: 52.2539198530065\n",
      "Iteration 181. Loss: 51.89963802124047\n",
      "Iteration 182. Loss: 51.55000820672526\n",
      "Iteration 183. Loss: 51.20496932457714\n",
      "Iteration 184. Loss: 50.86446109200804\n",
      "Iteration 185. Loss: 50.52842401779349\n",
      "Iteration 186. Loss: 50.196799391878535\n",
      "Iteration 187. Loss: 49.8695292751205\n",
      "Iteration 188. Loss: 49.54655648916615\n",
      "Iteration 189. Loss: 49.22782460646194\n",
      "Iteration 190. Loss: 48.91327794039539\n",
      "Iteration 191. Loss: 48.60286153556587\n",
      "Iteration 192. Loss: 48.29652115818321\n",
      "Iteration 193. Loss: 47.99420328659233\n",
      "Iteration 194. Loss: 47.69585510192237\n",
      "Iteration 195. Loss: 47.401424478858395\n",
      "Iteration 196. Loss: 47.110859976534634\n",
      "Iteration 197. Loss: 46.824110829546846\n",
      "Iteration 198. Loss: 46.54112693908321\n",
      "Iteration 199. Loss: 46.26185886417127\n",
      "Iteration 200. Loss: 45.98625781303983\n",
      "Iteration 201. Loss: 45.71427563459463\n",
      "Iteration 202. Loss: 45.44586481000555\n",
      "Iteration 203. Loss: 45.18097844440459\n",
      "Iteration 204. Loss: 44.91957025869263\n",
      "Iteration 205. Loss: 44.66159458145387\n",
      "Iteration 206. Loss: 44.40700634097645\n",
      "Iteration 207. Loss: 44.155761057377894\n",
      "Iteration 208. Loss: 43.90781483483382\n",
      "Iteration 209. Loss: 43.66312435390876\n",
      "Iteration 210. Loss: 43.42164686398783\n",
      "Iteration 211. Loss: 43.18334017580736\n",
      "Iteration 212. Loss: 42.94816265408423\n",
      "Iteration 213. Loss: 42.71607321024139\n",
      "Iteration 214. Loss: 42.4870312952292\n",
      "Iteration 215. Loss: 42.26099689244108\n",
      "Iteration 216. Loss: 42.03793051072193\n",
      "Iteration 217. Loss: 41.81779317746872\n",
      "Iteration 218. Loss: 41.60054643182124\n",
      "Iteration 219. Loss: 41.38615231794266\n",
      "Iteration 220. Loss: 41.17457337838803\n",
      "Iteration 221. Loss: 40.965772647560115\n",
      "Iteration 222. Loss: 40.759713645250834\n",
      "Iteration 223. Loss: 40.556360370267875\n",
      "Iteration 224. Loss: 40.35567729414473\n",
      "Iteration 225. Loss: 40.157629354933384\n",
      "Iteration 226. Loss: 39.96218195107863\n",
      "Iteration 227. Loss: 39.76930093537259\n",
      "Iteration 228. Loss: 39.57895260898893\n",
      "Iteration 229. Loss: 39.391103715595044\n",
      "Iteration 230. Loss: 39.205721435541925\n",
      "Iteration 231. Loss: 39.02277338012997\n"
     ]
    },
    {
     "name": "stdout",
     "output_type": "stream",
     "text": [
      "Iteration 232. Loss: 38.84222758595037\n",
      "Iteration 233. Loss: 38.664052509300625\n",
      "Iteration 234. Loss: 38.48821702067354\n",
      "Iteration 235. Loss: 38.31469039931837\n",
      "Iteration 236. Loss: 38.143442327873565\n",
      "Iteration 237. Loss: 37.97444288706999\n",
      "Iteration 238. Loss: 37.807662550503494\n",
      "Iteration 239. Loss: 37.643072179476405\n",
      "Iteration 240. Loss: 37.48064301790653\n",
      "Iteration 241. Loss: 37.32034668730316\n",
      "Iteration 242. Loss: 37.16215518180893\n",
      "Iteration 243. Loss: 37.0060408633068\n",
      "Iteration 244. Loss: 36.85197645659146\n",
      "Iteration 245. Loss: 36.699935044603784\n",
      "Iteration 246. Loss: 36.54989006372825\n",
      "Iteration 247. Loss: 36.401815299151835\n",
      "Iteration 248. Loss: 36.25568488028401\n",
      "Iteration 249. Loss: 36.11147327623672\n",
      "Iteration 250. Loss: 35.96915529136392\n",
      "Iteration 251. Loss: 35.82870606085939\n",
      "Iteration 252. Loss: 35.69010104641281\n",
      "Iteration 253. Loss: 35.553316031922314\n",
      "Iteration 254. Loss: 35.41832711926378\n",
      "Iteration 255. Loss: 35.28511072411543\n",
      "Iteration 256. Loss: 35.15364357183748\n",
      "Iteration 257. Loss: 35.0239026934056\n",
      "Iteration 258. Loss: 34.895865421397986\n",
      "Iteration 259. Loss: 34.769509386035075\n",
      "Iteration 260. Loss: 34.64481251127134\n",
      "Iteration 261. Loss: 34.521753010938085\n",
      "Iteration 262. Loss: 34.40030938493734\n",
      "Iteration 263. Loss: 34.28046041548539\n",
      "Iteration 264. Loss: 34.16218516340592\n",
      "Iteration 265. Loss: 34.04546296447137\n",
      "Iteration 266. Loss: 33.93027342579287\n",
      "Iteration 267. Loss: 33.81659642225733\n",
      "Iteration 268. Loss: 33.70441209301112\n",
      "Iteration 269. Loss: 33.59370083799039\n",
      "Iteration 270. Loss: 33.484443314496495\n",
      "Iteration 271. Loss: 33.37662043381657\n",
      "Iteration 272. Loss: 33.27021335788864\n",
      "Iteration 273. Loss: 33.165203496010214\n",
      "Iteration 274. Loss: 33.061572501590305\n",
      "Iteration 275. Loss: 32.95930226894402\n",
      "Iteration 276. Loss: 32.85837493012931\n",
      "Iteration 277. Loss: 32.75877285182514\n",
      "Iteration 278. Loss: 32.66047863225079\n",
      "Iteration 279. Loss: 32.563475098125465\n",
      "Iteration 280. Loss: 32.46774530166796\n",
      "Iteration 281. Loss: 32.37327251763559\n",
      "Iteration 282. Loss: 32.28004024040219\n",
      "Iteration 283. Loss: 32.188032181074234\n",
      "Iteration 284. Loss: 32.09723226464504\n",
      "Iteration 285. Loss: 32.00762462718621\n",
      "Iteration 286. Loss: 31.919193613076057\n",
      "Iteration 287. Loss: 31.83192377226429\n",
      "Iteration 288. Loss: 31.745799857572706\n",
      "Iteration 289. Loss: 31.66080682203137\n",
      "Iteration 290. Loss: 31.576929816249624\n",
      "Iteration 291. Loss: 31.49415418582179\n",
      "Iteration 292. Loss: 31.41246546876679\n",
      "Iteration 293. Loss: 31.331849393001473\n",
      "Iteration 294. Loss: 31.252291873847106\n",
      "Iteration 295. Loss: 31.173779011568566\n",
      "Iteration 296. Loss: 31.096297088945917\n",
      "Iteration 297. Loss: 31.019832568877817\n",
      "Iteration 298. Loss: 30.94437209201638\n",
      "Iteration 299. Loss: 30.869902474433186\n",
      "Iteration 300. Loss: 30.796410705315793\n",
      "Iteration 301. Loss: 30.7238839446947\n",
      "Iteration 302. Loss: 30.652309521199854\n",
      "Iteration 303. Loss: 30.58167492984699\n",
      "Iteration 304. Loss: 30.51196782985276\n",
      "Iteration 305. Loss: 30.443176042478605\n",
      "Iteration 306. Loss: 30.375287548903\n",
      "Iteration 307. Loss: 30.308290488121656\n",
      "Iteration 308. Loss: 30.242173154875175\n",
      "Iteration 309. Loss: 30.17692399760405\n",
      "Iteration 310. Loss: 30.112531616430392\n",
      "Iteration 311. Loss: 30.048984761166288\n",
      "Iteration 312. Loss: 29.986272329348203\n",
      "Iteration 313. Loss: 29.924383364297242\n",
      "Iteration 314. Loss: 29.863307053204913\n",
      "Iteration 315. Loss: 29.803032725243927\n",
      "Iteration 316. Loss: 29.743549849703903\n",
      "Iteration 317. Loss: 29.68484803415151\n",
      "Iteration 318. Loss: 29.626917022614798\n",
      "Iteration 319. Loss: 29.56974669379128\n",
      "Iteration 320. Loss: 29.513327059279696\n",
      "Iteration 321. Loss: 29.4576482618348\n",
      "Iteration 322. Loss: 29.402700573645287\n",
      "Iteration 323. Loss: 29.34847439463416\n",
      "Iteration 324. Loss: 29.29496025078143\n",
      "Iteration 325. Loss: 29.242148792468985\n",
      "Iteration 326. Loss: 29.19003079284702\n",
      "Iteration 327. Loss: 29.13859714622194\n",
      "Iteration 328. Loss: 29.08783886646561\n",
      "Iteration 329. Loss: 29.037747085445254\n",
      "Iteration 330. Loss: 28.988313051474094\n",
      "Iteration 331. Loss: 28.939528127782356\n",
      "Iteration 332. Loss: 28.891383791008277\n",
      "Iteration 333. Loss: 28.84387162970899\n",
      "Iteration 334. Loss: 28.796983342890872\n",
      "Iteration 335. Loss: 28.75071073855937\n",
      "Iteration 336. Loss: 28.705045732287626\n",
      "Iteration 337. Loss: 28.6599803458041\n",
      "Iteration 338. Loss: 28.615506705598644\n",
      "Iteration 339. Loss: 28.571617041546894\n",
      "Iteration 340. Loss: 28.52830368555274\n",
      "Iteration 341. Loss: 28.485559070208545\n",
      "Iteration 342. Loss: 28.44337572747315\n",
      "Iteration 343. Loss: 28.401746287366976\n",
      "Iteration 344. Loss: 28.360663476684476\n",
      "Iteration 345. Loss: 28.320120117723373\n",
      "Iteration 346. Loss: 28.28010912703065\n",
      "Iteration 347. Loss: 28.24062351416493\n",
      "Iteration 348. Loss: 28.201656380475224\n",
      "Iteration 349. Loss: 28.163200917895605\n",
      "Iteration 350. Loss: 28.125250407755736\n",
      "Iteration 351. Loss: 28.08779821960705\n",
      "Iteration 352. Loss: 28.050837810064344\n",
      "Iteration 353. Loss: 28.01436272166252\n",
      "Iteration 354. Loss: 27.97836658172844\n",
      "Iteration 355. Loss: 27.94284310126747\n",
      "Iteration 356. Loss: 27.907786073864763\n",
      "Iteration 357. Loss: 27.87318937460089\n",
      "Iteration 358. Loss: 27.839046958981733\n",
      "Iteration 359. Loss: 27.805352861882486\n",
      "Iteration 360. Loss: 27.7721011965054\n",
      "Iteration 361. Loss: 27.73928615335131\n",
      "Iteration 362. Loss: 27.706901999204643\n",
      "Iteration 363. Loss: 27.67494307613176\n",
      "Iteration 364. Loss: 27.64340380049242\n",
      "Iteration 365. Loss: 27.61227866196426\n",
      "Iteration 366. Loss: 27.58156222258008\n",
      "Iteration 367. Loss: 27.551249115777715\n",
      "Iteration 368. Loss: 27.521334045462485\n",
      "Iteration 369. Loss: 27.491811785081858\n",
      "Iteration 370. Loss: 27.462677176712308\n",
      "Iteration 371. Loss: 27.43392513015818\n",
      "Iteration 372. Loss: 27.405550622062332\n",
      "Iteration 373. Loss: 27.37754869502854\n",
      "Iteration 374. Loss: 27.34991445675533\n",
      "Iteration 375. Loss: 27.322643079181248\n",
      "Iteration 376. Loss: 27.295729797641314\n",
      "Iteration 377. Loss: 27.2691699100346\n",
      "Iteration 378. Loss: 27.24295877600272\n",
      "Iteration 379. Loss: 27.217091816119076\n",
      "Iteration 380. Loss: 27.191564511088753\n",
      "Iteration 381. Loss: 27.16637240095898\n",
      "Iteration 382. Loss: 27.141511084339925\n",
      "Iteration 383. Loss: 27.116976217635635\n",
      "Iteration 384. Loss: 27.092763514285288\n",
      "Iteration 385. Loss: 27.06886874401412\n",
      "Iteration 386. Loss: 27.04528773209447\n",
      "Iteration 387. Loss: 27.02201635861632\n",
      "Iteration 388. Loss: 26.999050557767536\n",
      "Iteration 389. Loss: 26.976386317123506\n",
      "Iteration 390. Loss: 26.95401967694611\n",
      "Iteration 391. Loss: 26.931946729491905\n",
      "Iteration 392. Loss: 26.910163618329406\n",
      "Iteration 393. Loss: 26.888666537665262\n",
      "Iteration 394. Loss: 26.86745173167943\n",
      "Iteration 395. Loss: 26.8465154938689\n",
      "Iteration 396. Loss: 26.825854166400163\n",
      "Iteration 397. Loss: 26.805464139470136\n",
      "Iteration 398. Loss: 26.785341850675437\n",
      "Iteration 399. Loss: 26.76548378439008\n",
      "Iteration 400. Loss: 26.74588647115113\n",
      "Iteration 401. Loss: 26.72654648705269\n",
      "Iteration 402. Loss: 26.707460453147526\n",
      "Iteration 403. Loss: 26.688625034856873\n",
      "Iteration 404. Loss: 26.670036941387757\n",
      "Iteration 405. Loss: 26.651692925158077\n",
      "Iteration 406. Loss: 26.63358978122919\n",
      "Iteration 407. Loss: 26.615724346745992\n",
      "Iteration 408. Loss: 26.598093500384355\n",
      "Iteration 409. Loss: 26.58069416180568\n",
      "Iteration 410. Loss: 26.563523291118855\n",
      "Iteration 411. Loss: 26.546577888349045\n",
      "Iteration 412. Loss: 26.529854992913613\n",
      "Iteration 413. Loss: 26.513351683104872\n",
      "Iteration 414. Loss: 26.497065075579574\n",
      "Iteration 415. Loss: 26.480992324855183\n",
      "Iteration 416. Loss: 26.465130622812772\n",
      "Iteration 417. Loss: 26.44947719820631\n",
      "Iteration 418. Loss: 26.43402931617859\n",
      "Iteration 419. Loss: 26.418784277783374\n",
      "Iteration 420. Loss: 26.403739419513826\n",
      "Iteration 421. Loss: 26.388892112837176\n",
      "Iteration 422. Loss: 26.374239763735535\n",
      "Iteration 423. Loss: 26.35977981225261\n",
      "Iteration 424. Loss: 26.345509732046484\n",
      "Iteration 425. Loss: 26.33142702994823\n",
      "Iteration 426. Loss: 26.31752924552631\n",
      "Iteration 427. Loss: 26.30381395065673\n",
      "Iteration 428. Loss: 26.29027874909877\n",
      "Iteration 429. Loss: 26.276921276076415\n",
      "Iteration 430. Loss: 26.263739197865043\n",
      "Iteration 431. Loss: 26.250730211383893\n",
      "Iteration 432. Loss: 26.23789204379351\n",
      "Iteration 433. Loss: 26.22522245209877\n",
      "Iteration 434. Loss: 26.21271922275693\n",
      "Iteration 435. Loss: 26.200380171290956\n",
      "Iteration 436. Loss: 26.18820314190775\n",
      "Iteration 437. Loss: 26.176186007121668\n",
      "Iteration 438. Loss: 26.16432666738269\n",
      "Iteration 439. Loss: 26.152623050709632\n",
      "Iteration 440. Loss: 26.141073112328225\n",
      "Iteration 441. Loss: 26.129674834313718\n",
      "Iteration 442. Loss: 26.118426225238448\n",
      "Iteration 443. Loss: 26.10732531982387\n",
      "Iteration 444. Loss: 26.096370178597173\n",
      "Iteration 445. Loss: 26.085558887552452\n",
      "Iteration 446. Loss: 26.074889557816313\n",
      "Iteration 447. Loss: 26.064360325317843\n",
      "Iteration 448. Loss: 26.053969350462953\n",
      "Iteration 449. Loss: 26.043714817812948\n",
      "Iteration 450. Loss: 26.033594935767375\n",
      "Iteration 451. Loss: 26.02360793625099\n",
      "Iteration 452. Loss: 26.013752074404866\n",
      "Iteration 453. Loss: 26.004025628281543\n",
      "Iteration 454. Loss: 25.994426898544145\n",
      "Iteration 455. Loss: 25.98495420816954\n",
      "Iteration 456. Loss: 25.975605902155312\n",
      "Iteration 457. Loss: 25.966380347230583\n",
      "Iteration 458. Loss: 25.957275931570734\n",
      "Iteration 459. Loss: 25.948291064515736\n",
      "Iteration 460. Loss: 25.939424176292235\n",
      "Iteration 461. Loss: 25.930673717739342\n",
      "Iteration 462. Loss: 25.922038160037964\n",
      "Iteration 463. Loss: 25.91351599444363\n",
      "Iteration 464. Loss: 25.905105732023006\n",
      "Iteration 465. Loss: 25.896805903393666\n",
      "Iteration 466. Loss: 25.88861505846741\n",
      "Iteration 467. Loss: 25.880531766196924\n",
      "Iteration 468. Loss: 25.872554614325722\n",
      "Iteration 469. Loss: 25.86468220914146\n",
      "Iteration 470. Loss: 25.856913175232364\n",
      "Iteration 471. Loss: 25.849246155247016\n",
      "Iteration 472. Loss: 25.841679809657133\n",
      "Iteration 473. Loss: 25.834212816523536\n",
      "Iteration 474. Loss: 25.826843871265268\n",
      "Iteration 475. Loss: 25.819571686431583\n",
      "Iteration 476. Loss: 25.812394991477024\n",
      "Iteration 477. Loss: 25.805312532539507\n",
      "Iteration 478. Loss: 25.79832307222117\n",
      "Iteration 479. Loss: 25.79142538937224\n",
      "Iteration 480. Loss: 25.784618278877648\n",
      "Iteration 481. Loss: 25.77790055144652\n",
      "Iteration 482. Loss: 25.77127103340433\n",
      "Iteration 483. Loss: 25.76472856648791\n",
      "Iteration 484. Loss: 25.758272007643058\n",
      "Iteration 485. Loss: 25.75190022882483\n",
      "Iteration 486. Loss: 25.745612116800437\n",
      "Iteration 487. Loss: 25.7394065729548\n",
      "Iteration 488. Loss: 25.733282513098555\n",
      "Iteration 489. Loss: 25.72723886727865\n",
      "Iteration 490. Loss: 25.721274579591434\n",
      "Iteration 491. Loss: 25.71538860799814\n",
      "Iteration 492. Loss: 25.70957992414282\n",
      "Iteration 493. Loss: 25.70384751317276\n",
      "Iteration 494. Loss: 25.69819037356106\n",
      "Iteration 495. Loss: 25.692607516931737\n",
      "Iteration 496. Loss: 25.687097967886995\n",
      "Iteration 497. Loss: 25.68166076383684\n",
      "Iteration 498. Loss: 25.676294954830876\n",
      "Iteration 499. Loss: 25.670999603392378\n",
      "Iteration 500. Loss: 25.665773784354446\n",
      "Iteration 501. Loss: 25.660616584698413\n",
      "Iteration 502. Loss: 25.655527103394313\n",
      "Iteration 503. Loss: 25.65050445124345\n",
      "Iteration 504. Loss: 25.64554775072305\n",
      "Iteration 505. Loss: 25.640656135832963\n",
      "Iteration 506. Loss: 25.63582875194433\n",
      "Iteration 507. Loss: 25.631064755650307\n",
      "Iteration 508. Loss: 25.626363314618658\n",
      "Iteration 509. Loss: 25.62172360744639\n",
      "Iteration 510. Loss: 25.61714482351621\n",
      "Iteration 511. Loss: 25.612626162854923\n",
      "Iteration 512. Loss: 25.608166835993604\n",
      "Iteration 513. Loss: 25.603766063829795\n",
      "Iteration 514. Loss: 25.599423077491238\n",
      "Iteration 515. Loss: 25.59513711820165\n",
      "Iteration 516. Loss: 25.590907437148097\n",
      "Iteration 517. Loss: 25.586733295350182\n",
      "Iteration 518. Loss: 25.582613963530978\n",
      "Iteration 519. Loss: 25.578548721989524\n"
     ]
    },
    {
     "name": "stdout",
     "output_type": "stream",
     "text": [
      "Iteration 520. Loss: 25.574536860475174\n",
      "Iteration 521. Loss: 25.57057767806344\n",
      "Iteration 522. Loss: 25.566670483033572\n",
      "Iteration 523. Loss: 25.562814592747717\n",
      "Iteration 524. Loss: 25.55900933353157\n",
      "Iteration 525. Loss: 25.555254040556807\n",
      "Iteration 526. Loss: 25.551548057724787\n",
      "Iteration 527. Loss: 25.54789073755205\n",
      "Iteration 528. Loss: 25.54428144105709\n",
      "Iteration 529. Loss: 25.540719537648805\n",
      "Iteration 530. Loss: 25.537204405016265\n",
      "Iteration 531. Loss: 25.533735429019977\n",
      "Iteration 532. Loss: 25.530312003584672\n",
      "Iteration 533. Loss: 25.52693353059329\n",
      "Iteration 534. Loss: 25.52359941978262\n",
      "Iteration 535. Loss: 25.52030908864004\n",
      "Iteration 536. Loss: 25.51706196230183\n",
      "Iteration 537. Loss: 25.513857473452724\n",
      "Iteration 538. Loss: 25.51069506222679\n",
      "Iteration 539. Loss: 25.507574176109543\n",
      "Iteration 540. Loss: 25.504494269841533\n",
      "Iteration 541. Loss: 25.501454805323032\n",
      "Iteration 542. Loss: 25.49845525151996\n",
      "Iteration 543. Loss: 25.495495084371214\n",
      "Iteration 544. Loss: 25.492573786696994\n",
      "Iteration 545. Loss: 25.48969084810856\n",
      "Iteration 546. Loss: 25.48684576491897\n",
      "Iteration 547. Loss: 25.484038040055147\n",
      "Iteration 548. Loss: 25.481267182970946\n",
      "Iteration 549. Loss: 25.47853270956154\n",
      "Iteration 550. Loss: 25.47583414207882\n",
      "Iteration 551. Loss: 25.473171009047867\n",
      "Iteration 552. Loss: 25.470542845184646\n",
      "Iteration 553. Loss: 25.467949191314705\n",
      "Iteration 554. Loss: 25.46538959429291\n",
      "Iteration 555. Loss: 25.462863606924312\n",
      "Iteration 556. Loss: 25.460370787886006\n",
      "Iteration 557. Loss: 25.45791070165003\n",
      "Iteration 558. Loss: 25.45548291840728\n",
      "Iteration 559. Loss: 25.45308701399238\n",
      "Iteration 560. Loss: 25.450722569809624\n",
      "Iteration 561. Loss: 25.448389172759793\n",
      "Iteration 562. Loss: 25.446086415168025\n",
      "Iteration 563. Loss: 25.443813894712584\n",
      "Iteration 564. Loss: 25.44157121435452\n",
      "Iteration 565. Loss: 25.43935798226838\n",
      "Iteration 566. Loss: 25.437173811773643\n",
      "Iteration 567. Loss: 25.435018321267304\n",
      "Iteration 568. Loss: 25.432891134157078\n",
      "Iteration 569. Loss: 25.430791878795656\n",
      "Iteration 570. Loss: 25.42872018841579\n",
      "Iteration 571. Loss: 25.426675701066163\n",
      "Iteration 572. Loss: 25.424658059548207\n",
      "Iteration 573. Loss: 25.42266691135366\n",
      "Iteration 574. Loss: 25.42070190860299\n",
      "Iteration 575. Loss: 25.418762707984623\n",
      "Iteration 576. Loss: 25.41684897069495\n",
      "Iteration 577. Loss: 25.414960362379116\n",
      "Iteration 578. Loss: 25.41309655307264\n",
      "Iteration 579. Loss: 25.411257217143785\n",
      "Iteration 580. Loss: 25.409442033236566\n",
      "Iteration 581. Loss: 25.407650684214726\n",
      "Iteration 582. Loss: 25.405882857106256\n",
      "Iteration 583. Loss: 25.404138243048703\n",
      "Iteration 584. Loss: 25.402416537235275\n",
      "Iteration 585. Loss: 25.40071743886154\n",
      "Iteration 586. Loss: 25.399040651072884\n",
      "Iteration 587. Loss: 25.3973858809126\n",
      "Iteration 588. Loss: 25.39575283927083\n",
      "Iteration 589. Loss: 25.39414124083389\n",
      "Iteration 590. Loss: 25.392550804034535\n",
      "Iteration 591. Loss: 25.39098125100275\n",
      "Iteration 592. Loss: 25.38943230751717\n",
      "Iteration 593. Loss: 25.38790370295718\n",
      "Iteration 594. Loss: 25.386395170255643\n",
      "Iteration 595. Loss: 25.384906445852263\n",
      "Iteration 596. Loss: 25.38343726964747\n",
      "Iteration 597. Loss: 25.381987384957053\n",
      "Iteration 598. Loss: 25.380556538467268\n",
      "Iteration 599. Loss: 25.37914448019058\n",
      "Iteration 600. Loss: 25.37775096342202\n",
      "Iteration 601. Loss: 25.376375744696045\n",
      "Iteration 602. Loss: 25.375018583744037\n",
      "Iteration 603. Loss: 25.373679243452294\n",
      "Iteration 604. Loss: 25.372357489820608\n",
      "Iteration 605. Loss: 25.371053091921404\n",
      "Iteration 606. Loss: 25.369765821859374\n",
      "Iteration 607. Loss: 25.36849545473169\n",
      "Iteration 608. Loss: 25.36724176858862\n",
      "Iteration 609. Loss: 25.366004544394894\n",
      "Iteration 610. Loss: 25.364783565991317\n",
      "Iteration 611. Loss: 25.36357862005706\n",
      "Iteration 612. Loss: 25.362389496072343\n",
      "Iteration 613. Loss: 25.361215986281753\n",
      "Iteration 614. Loss: 25.360057885657813\n",
      "Iteration 615. Loss: 25.358914991865262\n",
      "Iteration 616. Loss: 25.357787105225686\n",
      "Iteration 617. Loss: 25.356674028682544\n",
      "Iteration 618. Loss: 25.355575567766923\n",
      "Iteration 619. Loss: 25.354491530563347\n",
      "Iteration 620. Loss: 25.353421727676405\n",
      "Iteration 621. Loss: 25.352365972197603\n",
      "Iteration 622. Loss: 25.351324079672693\n",
      "Iteration 623. Loss: 25.35029586806948\n",
      "Iteration 624. Loss: 25.349281157746002\n",
      "Iteration 625. Loss: 25.348279771419147\n",
      "Iteration 626. Loss: 25.347291534133674\n",
      "Iteration 627. Loss: 25.346316273231654\n",
      "Iteration 628. Loss: 25.345353818322305\n",
      "Iteration 629. Loss: 25.344404001252208\n",
      "Iteration 630. Loss: 25.34346665607596\n",
      "Iteration 631. Loss: 25.342541619027134\n",
      "Iteration 632. Loss: 25.34162872848971\n",
      "Iteration 633. Loss: 25.340727824969804\n",
      "Iteration 634. Loss: 25.339838751067862\n",
      "Iteration 635. Loss: 25.338961351451072\n",
      "Iteration 636. Loss: 25.338095472826296\n",
      "Iteration 637. Loss: 25.337240963913235\n",
      "Iteration 638. Loss: 25.336397675418088\n",
      "Iteration 639. Loss: 25.33556546000734\n",
      "Iteration 640. Loss: 25.334744172282125\n",
      "Iteration 641. Loss: 25.333933668752774\n",
      "Iteration 642. Loss: 25.33313380781376\n",
      "Iteration 643. Loss: 25.332344449718967\n",
      "Iteration 644. Loss: 25.331565456557243\n",
      "Iteration 645. Loss: 25.33079669222832\n",
      "Iteration 646. Loss: 25.330038022419085\n",
      "Iteration 647. Loss: 25.329289314580013\n",
      "Iteration 648. Loss: 25.328550437902102\n",
      "Iteration 649. Loss: 25.327821263293966\n",
      "Iteration 650. Loss: 25.3271016633593\n",
      "Iteration 651. Loss: 25.326391512374617\n",
      "Iteration 652. Loss: 25.325690686267304\n",
      "Iteration 653. Loss: 25.32499906259388\n",
      "Iteration 654. Loss: 25.324316520518703\n",
      "Iteration 655. Loss: 25.323642940792784\n",
      "Iteration 656. Loss: 25.322978205732944\n",
      "Iteration 657. Loss: 25.32232219920133\n",
      "Iteration 658. Loss: 25.321674806585037\n",
      "Iteration 659. Loss: 25.32103591477616\n",
      "Iteration 660. Loss: 25.32040541215196\n",
      "Iteration 661. Loss: 25.31978318855543\n",
      "Iteration 662. Loss: 25.319169135275974\n",
      "Iteration 663. Loss: 25.318563145030513\n",
      "Iteration 664. Loss: 25.317965111944627\n",
      "Iteration 665. Loss: 25.31737493153418\n",
      "Iteration 666. Loss: 25.316792500686926\n",
      "Iteration 667. Loss: 25.31621771764464\n",
      "Iteration 668. Loss: 25.315650481985234\n",
      "Iteration 669. Loss: 25.31509069460522\n",
      "Iteration 670. Loss: 25.314538257702484\n",
      "Iteration 671. Loss: 25.313993074759065\n",
      "Iteration 672. Loss: 25.31345505052443\n",
      "Iteration 673. Loss: 25.312924090998735\n",
      "Iteration 674. Loss: 25.312400103416408\n",
      "Iteration 675. Loss: 25.311882996230022\n",
      "Iteration 676. Loss: 25.311372679094195\n",
      "Iteration 677. Loss: 25.310869062849882\n",
      "Iteration 678. Loss: 25.31037205950875\n",
      "Iteration 679. Loss: 25.309881582237864\n",
      "Iteration 680. Loss: 25.30939754534444\n",
      "Iteration 681. Loss: 25.308919864260925\n",
      "Iteration 682. Loss: 25.30844845553021\n",
      "Iteration 683. Loss: 25.307983236791067\n",
      "Iteration 684. Loss: 25.307524126763695\n",
      "Iteration 685. Loss: 25.307071045235606\n",
      "Iteration 686. Loss: 25.30662391304755\n",
      "Iteration 687. Loss: 25.3061826520797\n",
      "Iteration 688. Loss: 25.305747185238033\n",
      "Iteration 689. Loss: 25.305317436440813\n",
      "Iteration 690. Loss: 25.30489333060531\n",
      "Iteration 691. Loss: 25.304474793634732\n",
      "Iteration 692. Loss: 25.304061752405204\n",
      "Iteration 693. Loss: 25.303654134753053\n",
      "Iteration 694. Loss: 25.303251869462148\n",
      "Iteration 695. Loss: 25.302854886251502\n",
      "Iteration 696. Loss: 25.302463115762997\n",
      "Iteration 697. Loss: 25.302076489549208\n",
      "Iteration 698. Loss: 25.301694940061505\n",
      "Iteration 699. Loss: 25.30131840063822\n",
      "Iteration 700. Loss: 25.300946805493005\n",
      "Iteration 701. Loss: 25.300580089703352\n",
      "Iteration 702. Loss: 25.300218189199235\n",
      "Iteration 703. Loss: 25.29986104075191\n",
      "Iteration 704. Loss: 25.29950858196291\n",
      "Iteration 705. Loss: 25.299160751253076\n",
      "Iteration 706. Loss: 25.29881748785186\n",
      "Iteration 707. Loss: 25.29847873178668\n",
      "Iteration 708. Loss: 25.29814442387242\n",
      "Iteration 709. Loss: 25.29781450570114\n",
      "Iteration 710. Loss: 25.29748891963183\n",
      "Iteration 711. Loss: 25.297167608780395\n",
      "Iteration 712. Loss: 25.29685051700959\n",
      "Iteration 713. Loss: 25.29653758891939\n",
      "Iteration 714. Loss: 25.296228769837175\n",
      "Iteration 715. Loss: 25.29592400580822\n",
      "Iteration 716. Loss: 25.29562324358627\n",
      "Iteration 717. Loss: 25.295326430624275\n",
      "Iteration 718. Loss: 25.295033515065118\n",
      "Iteration 719. Loss: 25.294744445732643\n",
      "Iteration 720. Loss: 25.29445917212267\n",
      "Iteration 721. Loss: 25.294177644394193\n",
      "Iteration 722. Loss: 25.29389981336063\n",
      "Iteration 723. Loss: 25.293625630481305\n",
      "Iteration 724. Loss: 25.293355047852867\n",
      "Iteration 725. Loss: 25.29308801820102\n",
      "Iteration 726. Loss: 25.292824494872214\n",
      "Iteration 727. Loss: 25.29256443182548\n",
      "Iteration 728. Loss: 25.29230778362442\n",
      "Iteration 729. Loss: 25.292054505429245\n",
      "Iteration 730. Loss: 25.291804552988946\n",
      "Iteration 731. Loss: 25.291557882633597\n",
      "Iteration 732. Loss: 25.29131445126666\n",
      "Iteration 733. Loss: 25.291074216357508\n",
      "Iteration 734. Loss: 25.29083713593397\n",
      "Iteration 735. Loss: 25.290603168575004\n",
      "Iteration 736. Loss: 25.29037227340347\n",
      "Iteration 737. Loss: 25.290144410078973\n",
      "Iteration 738. Loss: 25.289919538790816\n",
      "Iteration 739. Loss: 25.28969762025106\n",
      "Iteration 740. Loss: 25.289478615687642\n",
      "Iteration 741. Loss: 25.289262486837615\n",
      "Iteration 742. Loss: 25.289049195940457\n",
      "Iteration 743. Loss: 25.288838705731443\n",
      "Iteration 744. Loss: 25.28863097943522\n",
      "Iteration 745. Loss: 25.288425980759296\n",
      "Iteration 746. Loss: 25.288223673887718\n",
      "Iteration 747. Loss: 25.288024023474854\n",
      "Iteration 748. Loss: 25.287826994639158\n",
      "Iteration 749. Loss: 25.28763255295715\n",
      "Iteration 750. Loss: 25.28744066445731\n",
      "Iteration 751. Loss: 25.287251295614226\n",
      "Iteration 752. Loss: 25.287064413342705\n",
      "Iteration 753. Loss: 25.286879984991963\n",
      "Iteration 754. Loss: 25.286697978339973\n",
      "Iteration 755. Loss: 25.286518361587795\n",
      "Iteration 756. Loss: 25.286341103354054\n",
      "Iteration 757. Loss: 25.286166172669414\n",
      "Iteration 758. Loss: 25.285993538971212\n",
      "Iteration 759. Loss: 25.285823172098095\n",
      "Iteration 760. Loss: 25.28565504228475\n",
      "Iteration 761. Loss: 25.2854891201567\n",
      "Iteration 762. Loss: 25.285325376725197\n",
      "Iteration 763. Loss: 25.28516378338211\n",
      "Iteration 764. Loss: 25.285004311895012\n",
      "Iteration 765. Loss: 25.28484693440214\n",
      "Iteration 766. Loss: 25.28469162340757\n",
      "Iteration 767. Loss: 25.284538351776487\n",
      "Iteration 768. Loss: 25.284387092730316\n",
      "Iteration 769. Loss: 25.284237819842136\n",
      "Iteration 770. Loss: 25.28409050703204\n",
      "Iteration 771. Loss: 25.28394512856255\n",
      "Iteration 772. Loss: 25.283801659034157\n",
      "Iteration 773. Loss: 25.28366007338086\n",
      "Iteration 774. Loss: 25.2835203468658\n",
      "Iteration 775. Loss: 25.283382455076943\n",
      "Iteration 776. Loss: 25.2832463739228\n",
      "Iteration 777. Loss: 25.2831120796282\n",
      "Iteration 778. Loss: 25.2829795487302\n",
      "Iteration 779. Loss: 25.28284875807393\n",
      "Iteration 780. Loss: 25.28271968480853\n",
      "Iteration 781. Loss: 25.28259230638323\n",
      "Iteration 782. Loss: 25.28246660054338\n",
      "Iteration 783. Loss: 25.282342545326514\n",
      "Iteration 784. Loss: 25.282220119058568\n",
      "Iteration 785. Loss: 25.282099300350087\n",
      "Iteration 786. Loss: 25.281980068092473\n",
      "Iteration 787. Loss: 25.281862401454276\n",
      "Iteration 788. Loss: 25.28174627987761\n",
      "Iteration 789. Loss: 25.281631683074536\n",
      "Iteration 790. Loss: 25.281518591023495\n",
      "Iteration 791. Loss: 25.28140698396582\n",
      "Iteration 792. Loss: 25.281296842402305\n",
      "Iteration 793. Loss: 25.2811881470898\n",
      "Iteration 794. Loss: 25.281080879037802\n"
     ]
    },
    {
     "name": "stdout",
     "output_type": "stream",
     "text": [
      "Iteration 795. Loss: 25.280975019505192\n",
      "Iteration 796. Loss: 25.280870549996934\n",
      "Iteration 797. Loss: 25.280767452260825\n",
      "Iteration 798. Loss: 25.28066570828437\n",
      "Iteration 799. Loss: 25.280565300291563\n",
      "Iteration 800. Loss: 25.28046621073982\n",
      "Iteration 801. Loss: 25.280368422316908\n",
      "Iteration 802. Loss: 25.280271917937903\n",
      "Iteration 803. Loss: 25.28017668074224\n",
      "Iteration 804. Loss: 25.28008269409075\n",
      "Iteration 805. Loss: 25.279989941562718\n",
      "Iteration 806. Loss: 25.27989840695308\n",
      "Iteration 807. Loss: 25.279808074269567\n",
      "Iteration 808. Loss: 25.279718927729856\n",
      "Iteration 809. Loss: 25.27963095175889\n",
      "Iteration 810. Loss: 25.279544130986135\n",
      "Iteration 811. Loss: 25.279458450242853\n",
      "Iteration 812. Loss: 25.279373894559505\n",
      "Iteration 813. Loss: 25.279290449163128\n",
      "Iteration 814. Loss: 25.279208099474705\n",
      "Iteration 815. Loss: 25.279126831106684\n",
      "Iteration 816. Loss: 25.279046629860403\n",
      "Iteration 817. Loss: 25.278967481723694\n",
      "Iteration 818. Loss: 25.27888937286832\n",
      "Iteration 819. Loss: 25.278812289647654\n",
      "Iteration 820. Loss: 25.278736218594243\n",
      "Iteration 821. Loss: 25.278661146417498\n",
      "Iteration 822. Loss: 25.278587060001318\n",
      "Iteration 823. Loss: 25.27851394640186\n",
      "Iteration 824. Loss: 25.278441792845214\n",
      "Iteration 825. Loss: 25.2783705867252\n",
      "Iteration 826. Loss: 25.278300315601207\n",
      "Iteration 827. Loss: 25.27823096719594\n",
      "Iteration 828. Loss: 25.27816252939332\n",
      "Iteration 829. Loss: 25.2780949902364\n",
      "Iteration 830. Loss: 25.278028337925175\n",
      "Iteration 831. Loss: 25.277962560814647\n",
      "Iteration 832. Loss: 25.277897647412683\n",
      "Iteration 833. Loss: 25.27783358637805\n",
      "Iteration 834. Loss: 25.2777703665185\n",
      "Iteration 835. Loss: 25.27770797678864\n",
      "Iteration 836. Loss: 25.277646406288216\n",
      "Iteration 837. Loss: 25.277585644260046\n",
      "Iteration 838. Loss: 25.277525680088196\n",
      "Iteration 839. Loss: 25.277466503296154\n",
      "Iteration 840. Loss: 25.277408103544985\n",
      "Iteration 841. Loss: 25.27735047063147\n",
      "Iteration 842. Loss: 25.277293594486373\n",
      "Iteration 843. Loss: 25.277237465172725\n",
      "Iteration 844. Loss: 25.277182072883978\n",
      "Iteration 845. Loss: 25.27712740794241\n",
      "Iteration 846. Loss: 25.277073460797304\n",
      "Iteration 847. Loss: 25.2770202220234\n",
      "Iteration 848. Loss: 25.276967682319203\n",
      "Iteration 849. Loss: 25.27691583250534\n",
      "Iteration 850. Loss: 25.276864663522982\n",
      "Iteration 851. Loss: 25.27681416643222\n",
      "Iteration 852. Loss: 25.27676433241055\n",
      "Iteration 853. Loss: 25.276715152751354\n",
      "Iteration 854. Loss: 25.276666618862265\n",
      "Iteration 855. Loss: 25.276618722263812\n",
      "Iteration 856. Loss: 25.27657145458782\n",
      "Iteration 857. Loss: 25.276524807576006\n",
      "Iteration 858. Loss: 25.276478773078544\n",
      "Iteration 859. Loss: 25.27643334305259\n",
      "Iteration 860. Loss: 25.276388509560945\n",
      "Iteration 861. Loss: 25.2763442647706\n",
      "Iteration 862. Loss: 25.27630060095141\n",
      "Iteration 863. Loss: 25.276257510474764\n",
      "Iteration 864. Loss: 25.27621498581217\n",
      "Iteration 865. Loss: 25.276173019534006\n",
      "Iteration 866. Loss: 25.27613160430824\n",
      "Iteration 867. Loss: 25.276090732899096\n",
      "Iteration 868. Loss: 25.276050398165776\n",
      "Iteration 869. Loss: 25.276010593061308\n",
      "Iteration 870. Loss: 25.275971310631206\n",
      "Iteration 871. Loss: 25.27593254401231\n",
      "Iteration 872. Loss: 25.275894286431605\n",
      "Iteration 873. Loss: 25.275856531204987\n",
      "Iteration 874. Loss: 25.275819271736125\n",
      "Iteration 875. Loss: 25.275782501515284\n",
      "Iteration 876. Loss: 25.275746214118268\n",
      "Iteration 877. Loss: 25.27571040320517\n",
      "Iteration 878. Loss: 25.27567506251936\n",
      "Iteration 879. Loss: 25.275640185886363\n",
      "Iteration 880. Loss: 25.275605767212774\n",
      "Iteration 881. Loss: 25.2755718004852\n",
      "Iteration 882. Loss: 25.275538279769222\n",
      "Iteration 883. Loss: 25.27550519920833\n",
      "Iteration 884. Loss: 25.275472553022908\n",
      "Iteration 885. Loss: 25.27544033550925\n",
      "Iteration 886. Loss: 25.27540854103854\n",
      "Iteration 887. Loss: 25.275377164055854\n",
      "Iteration 888. Loss: 25.27534619907925\n",
      "Iteration 889. Loss: 25.27531564069873\n",
      "Iteration 890. Loss: 25.275285483575335\n",
      "Iteration 891. Loss: 25.27525572244025\n",
      "Iteration 892. Loss: 25.275226352093796\n",
      "Iteration 893. Loss: 25.27519736740459\n",
      "Iteration 894. Loss: 25.275168763308635\n",
      "Iteration 895. Loss: 25.27514053480842\n",
      "Iteration 896. Loss: 25.275112676972068\n",
      "Iteration 897. Loss: 25.27508518493245\n",
      "Iteration 898. Loss: 25.275058053886337\n",
      "Iteration 899. Loss: 25.275031279093586\n",
      "Iteration 900. Loss: 25.275004855876304\n",
      "Iteration 901. Loss: 25.274978779617992\n",
      "Iteration 902. Loss: 25.274953045762807\n",
      "Iteration 903. Loss: 25.274927649814686\n",
      "Iteration 904. Loss: 25.274902587336648\n",
      "Iteration 905. Loss: 25.274877853949935\n",
      "Iteration 906. Loss: 25.27485344533332\n",
      "Iteration 907. Loss: 25.274829357222284\n",
      "Iteration 908. Loss: 25.274805585408334\n",
      "Iteration 909. Loss: 25.2747821257382\n",
      "Iteration 910. Loss: 25.274758974113197\n",
      "Iteration 911. Loss: 25.274736126488424\n",
      "Iteration 912. Loss: 25.27471357887211\n",
      "Iteration 913. Loss: 25.27469132732488\n",
      "Iteration 914. Loss: 25.274669367959106\n",
      "Iteration 915. Loss: 25.274647696938207\n",
      "Iteration 916. Loss: 25.274626310475973\n",
      "Iteration 917. Loss: 25.274605204835893\n",
      "Iteration 918. Loss: 25.274584376330548\n",
      "Iteration 919. Loss: 25.274563821320932\n",
      "Iteration 920. Loss: 25.274543536215813\n",
      "Iteration 921. Loss: 25.27452351747112\n",
      "Iteration 922. Loss: 25.27450376158931\n",
      "Iteration 923. Loss: 25.274484265118787\n",
      "Iteration 924. Loss: 25.274465024653253\n",
      "Iteration 925. Loss: 25.27444603683113\n",
      "Iteration 926. Loss: 25.274427298335038\n",
      "Iteration 927. Loss: 25.2744088058911\n",
      "Iteration 928. Loss: 25.274390556268433\n",
      "Iteration 929. Loss: 25.274372546278606\n",
      "Iteration 930. Loss: 25.274354772775038\n",
      "Iteration 931. Loss: 25.274337232652456\n",
      "Iteration 932. Loss: 25.274319922846377\n",
      "Iteration 933. Loss: 25.27430284033255\n",
      "Iteration 934. Loss: 25.27428598212645\n",
      "Iteration 935. Loss: 25.274269345282708\n",
      "Iteration 936. Loss: 25.27425292689468\n",
      "Iteration 937. Loss: 25.27423672409382\n",
      "Iteration 938. Loss: 25.274220734049315\n",
      "Iteration 939. Loss: 25.274204953967494\n",
      "Iteration 940. Loss: 25.274189381091357\n",
      "Iteration 941. Loss: 25.27417401270015\n",
      "Iteration 942. Loss: 25.274158846108783\n",
      "Iteration 943. Loss: 25.27414387866746\n",
      "Iteration 944. Loss: 25.274129107761194\n",
      "Iteration 945. Loss: 25.274114530809292\n",
      "Iteration 946. Loss: 25.27410014526498\n",
      "Iteration 947. Loss: 25.27408594861493\n",
      "Iteration 948. Loss: 25.274071938378768\n",
      "Iteration 949. Loss: 25.27405811210875\n",
      "Iteration 950. Loss: 25.274044467389256\n",
      "Iteration 951. Loss: 25.27403100183634\n",
      "Iteration 952. Loss: 25.27401771309743\n",
      "Iteration 953. Loss: 25.274004598850784\n",
      "Iteration 954. Loss: 25.273991656805183\n",
      "Iteration 955. Loss: 25.27397888469949\n",
      "Iteration 956. Loss: 25.273966280302233\n",
      "Iteration 957. Loss: 25.273953841411284\n",
      "Iteration 958. Loss: 25.273941565853388\n",
      "Iteration 959. Loss: 25.273929451483845\n",
      "Iteration 960. Loss: 25.273917496186137\n",
      "Iteration 961. Loss: 25.27390569787149\n",
      "Iteration 962. Loss: 25.27389405447861\n",
      "Iteration 963. Loss: 25.27388256397322\n",
      "Iteration 964. Loss: 25.273871224347804\n",
      "Iteration 965. Loss: 25.27386003362117\n",
      "Iteration 966. Loss: 25.273848989838136\n",
      "Iteration 967. Loss: 25.273838091069244\n",
      "Iteration 968. Loss: 25.273827335410306\n",
      "Iteration 969. Loss: 25.27381672098219\n",
      "Iteration 970. Loss: 25.273806245930395\n",
      "Iteration 971. Loss: 25.273795908424816\n",
      "Iteration 972. Loss: 25.273785706659332\n",
      "Iteration 973. Loss: 25.273775638851582\n",
      "Iteration 974. Loss: 25.27376570324259\n",
      "Iteration 975. Loss: 25.273755898096464\n",
      "Iteration 976. Loss: 25.27374622170012\n",
      "Iteration 977. Loss: 25.273736672362975\n",
      "Iteration 978. Loss: 25.273727248416606\n",
      "Iteration 979. Loss: 25.273717948214554\n",
      "Iteration 980. Loss: 25.273708770131957\n",
      "Iteration 981. Loss: 25.273699712565268\n",
      "Iteration 982. Loss: 25.27369077393202\n",
      "Iteration 983. Loss: 25.27368195267051\n",
      "Iteration 984. Loss: 25.27367324723956\n",
      "Iteration 985. Loss: 25.273664656118207\n",
      "Iteration 986. Loss: 25.273656177805464\n",
      "Iteration 987. Loss: 25.273647810820094\n",
      "Iteration 988. Loss: 25.273639553700235\n",
      "Iteration 989. Loss: 25.27363140500328\n",
      "Iteration 990. Loss: 25.273623363305536\n",
      "Iteration 991. Loss: 25.27361542720204\n",
      "Iteration 992. Loss: 25.273607595306206\n",
      "Iteration 993. Loss: 25.273599866249732\n",
      "Iteration 994. Loss: 25.273592238682255\n",
      "Iteration 995. Loss: 25.27358471127113\n",
      "Iteration 996. Loss: 25.27357728270121\n",
      "Iteration 997. Loss: 25.273569951674638\n",
      "Iteration 998. Loss: 25.273562716910586\n",
      "Iteration 999. Loss: 25.273555577145054\n"
     ]
    }
   ],
   "source": [
    "# Operate remotely\n",
    "x_big = th.cat((x_remote.view(-1, 1), th.ones_like(x_remote).view(-1, 1)), 1)\n",
    "\n",
    "for i in range(1000):\n",
    "    y_pred = x_big.mm(coefs.view(-1, 1))\n",
    "    loss = ((y_remote.view(1, -1) - y_pred.view(1, -1)) ** 2).mean()\n",
    "    loss.backward()\n",
    "    \n",
    "    # Gradient descent\n",
    "    with th.no_grad():\n",
    "        coefs -=  eta * coefs.grad\n",
    "    coefs.grad.zero_()\n",
    "    print(f'Iteration {i}. Loss: {loss.item()}')"
   ]
  },
  {
   "cell_type": "code",
   "execution_count": 51,
   "metadata": {},
   "outputs": [
    {
     "data": {
      "text/plain": [
       "tensor([ 69.9428, -11.8724], dtype=torch.float64, requires_grad=True)"
      ]
     },
     "execution_count": 51,
     "metadata": {},
     "output_type": "execute_result"
    }
   ],
   "source": [
    "# Retrieve the results\n",
    "coefs = coefs.get()\n",
    "x_big_local = th.cat([x_t.view(-1, 1), th.ones_like(x_t).view(-1, 1)], 1)\n",
    "y_pred = x_big_local.mm(coefs.view(-1, 1))\n",
    "coefs"
   ]
  },
  {
   "cell_type": "code",
   "execution_count": 52,
   "metadata": {},
   "outputs": [
    {
     "data": {
      "text/plain": [
       "[<matplotlib.lines.Line2D at 0x7f9d43a64978>]"
      ]
     },
     "execution_count": 52,
     "metadata": {},
     "output_type": "execute_result"
    },
    {
     "data": {
      "image/png": "[encoded data removed]",
      "text/plain": [
       "<Figure size 432x288 with 1 Axes>"
      ]
     },
     "metadata": {
      "needs_background": "light"
     },
     "output_type": "display_data"
    }
   ],
   "source": [
    "# Show the results\n",
    "plt.scatter(x, y)\n",
    "plt.plot(x, y_pred.data.numpy(), 'r')"
   ]
  },
  {
   "cell_type": "markdown",
   "metadata": {},
   "source": [
    "# Lesson: Garbage Collection and Common Errors\n"
   ]
  },
  {
   "cell_type": "code",
   "execution_count": 53,
   "metadata": {},
   "outputs": [],
   "source": [
    "bob = bob.clear_objects()"
   ]
  },
  {
   "cell_type": "code",
   "execution_count": 54,
   "metadata": {},
   "outputs": [
    {
     "data": {
      "text/plain": [
       "{}"
      ]
     },
     "execution_count": 54,
     "metadata": {},
     "output_type": "execute_result"
    }
   ],
   "source": [
    "bob._objects"
   ]
  },
  {
   "cell_type": "code",
   "execution_count": 55,
   "metadata": {},
   "outputs": [],
   "source": [
    "x = th.tensor([1,2,3,4,5]).send(bob)"
   ]
  },
  {
   "cell_type": "code",
   "execution_count": 56,
   "metadata": {},
   "outputs": [
    {
     "data": {
      "text/plain": [
       "{}"
      ]
     },
     "execution_count": 56,
     "metadata": {},
     "output_type": "execute_result"
    }
   ],
   "source": [
    "bob._objects"
   ]
  },
  {
   "cell_type": "code",
   "execution_count": 57,
   "metadata": {},
   "outputs": [],
   "source": [
    "del x"
   ]
  },
  {
   "cell_type": "code",
   "execution_count": 58,
   "metadata": {},
   "outputs": [
    {
     "data": {
      "text/plain": [
       "{}"
      ]
     },
     "execution_count": 58,
     "metadata": {},
     "output_type": "execute_result"
    }
   ],
   "source": [
    "bob._objects"
   ]
  },
  {
   "cell_type": "code",
   "execution_count": 59,
   "metadata": {},
   "outputs": [],
   "source": [
    "x = th.tensor([1,2,3,4,5]).send(bob)"
   ]
  },
  {
   "cell_type": "code",
   "execution_count": 60,
   "metadata": {},
   "outputs": [
    {
     "data": {
      "text/plain": [
       "{}"
      ]
     },
     "execution_count": 60,
     "metadata": {},
     "output_type": "execute_result"
    }
   ],
   "source": [
    "bob._objects"
   ]
  },
  {
   "cell_type": "code",
   "execution_count": 61,
   "metadata": {},
   "outputs": [],
   "source": [
    "x = \"asdf\""
   ]
  },
  {
   "cell_type": "code",
   "execution_count": 62,
   "metadata": {},
   "outputs": [
    {
     "data": {
      "text/plain": [
       "{}"
      ]
     },
     "execution_count": 62,
     "metadata": {},
     "output_type": "execute_result"
    }
   ],
   "source": [
    "bob._objects"
   ]
  },
  {
   "cell_type": "code",
   "execution_count": 63,
   "metadata": {},
   "outputs": [],
   "source": [
    "x = th.tensor([1,2,3,4,5]).send(bob)"
   ]
  },
  {
   "cell_type": "code",
   "execution_count": 64,
   "metadata": {},
   "outputs": [
    {
     "data": {
      "text/plain": [
       "(Wrapper)>[PointerTensor | me:60210675459 -> bob:70925856845]"
      ]
     },
     "execution_count": 64,
     "metadata": {},
     "output_type": "execute_result"
    }
   ],
   "source": [
    "x"
   ]
  },
  {
   "cell_type": "code",
   "execution_count": 65,
   "metadata": {},
   "outputs": [
    {
     "data": {
      "text/plain": [
       "{}"
      ]
     },
     "execution_count": 65,
     "metadata": {},
     "output_type": "execute_result"
    }
   ],
   "source": [
    "bob._objects"
   ]
  },
  {
   "cell_type": "code",
   "execution_count": 66,
   "metadata": {},
   "outputs": [],
   "source": [
    "x = \"asdf\""
   ]
  },
  {
   "cell_type": "code",
   "execution_count": 67,
   "metadata": {},
   "outputs": [
    {
     "data": {
      "text/plain": [
       "{}"
      ]
     },
     "execution_count": 67,
     "metadata": {},
     "output_type": "execute_result"
    }
   ],
   "source": [
    "bob._objects"
   ]
  },
  {
   "cell_type": "code",
   "execution_count": 68,
   "metadata": {},
   "outputs": [],
   "source": [
    "del x"
   ]
  },
  {
   "cell_type": "code",
   "execution_count": 69,
   "metadata": {},
   "outputs": [
    {
     "data": {
      "text/plain": [
       "{}"
      ]
     },
     "execution_count": 69,
     "metadata": {},
     "output_type": "execute_result"
    }
   ],
   "source": [
    "bob._objects"
   ]
  },
  {
   "cell_type": "code",
   "execution_count": 70,
   "metadata": {},
   "outputs": [
    {
     "data": {
      "text/plain": [
       "{}"
      ]
     },
     "execution_count": 70,
     "metadata": {},
     "output_type": "execute_result"
    }
   ],
   "source": [
    "bob = bob.clear_objects()\n",
    "bob._objects"
   ]
  },
  {
   "cell_type": "code",
   "execution_count": 71,
   "metadata": {},
   "outputs": [],
   "source": [
    "for i in range(1000):\n",
    "    x = th.tensor([1,2,3,4,5]).send(bob)"
   ]
  },
  {
   "cell_type": "code",
   "execution_count": 72,
   "metadata": {},
   "outputs": [
    {
     "data": {
      "text/plain": [
       "{}"
      ]
     },
     "execution_count": 72,
     "metadata": {},
     "output_type": "execute_result"
    }
   ],
   "source": [
    "bob._objects"
   ]
  },
  {
   "cell_type": "code",
   "execution_count": 73,
   "metadata": {},
   "outputs": [],
   "source": [
    "x = th.tensor([1,2,3,4,5]).send(bob)\n",
    "y = th.tensor([1,1,1,1,1])"
   ]
  },
  {
   "cell_type": "code",
   "execution_count": 74,
   "metadata": {},
   "outputs": [
    {
     "ename": "TensorsNotCollocatedException",
     "evalue": "You tried to call a method involving two tensors where one tensor is actually locatedon another machine (is a PointerTensor). Call .get() on the PointerTensor or .send(bob) on the other tensor.\n\nTensor A: [PointerTensor | me:12044173080 -> bob:47129849739]\nTensor B: tensor([1, 1, 1, 1, 1])",
     "output_type": "error",
     "traceback": [
      "\u001b[0;31m---------------------------------------------------------------------------\u001b[0m",
      "\u001b[0;31mPureTorchTensorFoundError\u001b[0m                 Traceback (most recent call last)",
      "\u001b[0;32m~/anaconda3/envs/deep/lib/python3.7/site-packages/syft/frameworks/torch/hook/hook.py\u001b[0m in \u001b[0;36moverloaded_native_method\u001b[0;34m(self, *args, **kwargs)\u001b[0m\n\u001b[1;32m    658\u001b[0m                     new_self, new_args, new_kwargs = syft.frameworks.torch.hook_args.hook_method_args(\n\u001b[0;32m--> 659\u001b[0;31m                         \u001b[0mmethod_name\u001b[0m\u001b[0;34m,\u001b[0m \u001b[0mself\u001b[0m\u001b[0;34m,\u001b[0m \u001b[0margs\u001b[0m\u001b[0;34m,\u001b[0m \u001b[0mkwargs\u001b[0m\u001b[0;34m\u001b[0m\u001b[0;34m\u001b[0m\u001b[0m\n\u001b[0m\u001b[1;32m    660\u001b[0m                     )\n",
      "\u001b[0;32m~/anaconda3/envs/deep/lib/python3.7/site-packages/syft/frameworks/torch/hook/hook_args.py\u001b[0m in \u001b[0;36mhook_method_args\u001b[0;34m(attr, method_self, args, kwargs)\u001b[0m\n\u001b[1;32m    112\u001b[0m         \u001b[0;31m# Try running it\u001b[0m\u001b[0;34m\u001b[0m\u001b[0;34m\u001b[0m\u001b[0;34m\u001b[0m\u001b[0m\n\u001b[0;32m--> 113\u001b[0;31m         \u001b[0mnew_self\u001b[0m\u001b[0;34m,\u001b[0m \u001b[0mnew_args\u001b[0m \u001b[0;34m=\u001b[0m \u001b[0mhook_args\u001b[0m\u001b[0;34m(\u001b[0m\u001b[0;34m(\u001b[0m\u001b[0mmethod_self\u001b[0m\u001b[0;34m,\u001b[0m \u001b[0margs\u001b[0m\u001b[0;34m)\u001b[0m\u001b[0;34m)\u001b[0m\u001b[0;34m\u001b[0m\u001b[0;34m\u001b[0m\u001b[0m\n\u001b[0m\u001b[1;32m    114\u001b[0m \u001b[0;34m\u001b[0m\u001b[0m\n",
      "\u001b[0;32m~/anaconda3/envs/deep/lib/python3.7/site-packages/syft/frameworks/torch/hook/hook_args.py\u001b[0m in \u001b[0;36m<lambda>\u001b[0;34m(x)\u001b[0m\n\u001b[1;32m    341\u001b[0m \u001b[0;34m\u001b[0m\u001b[0m\n\u001b[0;32m--> 342\u001b[0;31m     \u001b[0;32mreturn\u001b[0m \u001b[0;32mlambda\u001b[0m \u001b[0mx\u001b[0m\u001b[0;34m:\u001b[0m \u001b[0mf\u001b[0m\u001b[0;34m(\u001b[0m\u001b[0mlambdas\u001b[0m\u001b[0;34m,\u001b[0m \u001b[0mx\u001b[0m\u001b[0;34m)\u001b[0m\u001b[0;34m\u001b[0m\u001b[0;34m\u001b[0m\u001b[0m\n\u001b[0m\u001b[1;32m    343\u001b[0m \u001b[0;34m\u001b[0m\u001b[0m\n",
      "\u001b[0;32m~/anaconda3/envs/deep/lib/python3.7/site-packages/syft/frameworks/torch/hook/hook_args.py\u001b[0m in \u001b[0;36mtwo_fold\u001b[0;34m(lambdas, args, **kwargs)\u001b[0m\n\u001b[1;32m    500\u001b[0m \u001b[0;32mdef\u001b[0m \u001b[0mtwo_fold\u001b[0m\u001b[0;34m(\u001b[0m\u001b[0mlambdas\u001b[0m\u001b[0;34m,\u001b[0m \u001b[0margs\u001b[0m\u001b[0;34m,\u001b[0m \u001b[0;34m**\u001b[0m\u001b[0mkwargs\u001b[0m\u001b[0;34m)\u001b[0m\u001b[0;34m:\u001b[0m\u001b[0;34m\u001b[0m\u001b[0;34m\u001b[0m\u001b[0m\n\u001b[0;32m--> 501\u001b[0;31m     \u001b[0;32mreturn\u001b[0m \u001b[0mlambdas\u001b[0m\u001b[0;34m[\u001b[0m\u001b[0;36m0\u001b[0m\u001b[0;34m]\u001b[0m\u001b[0;34m(\u001b[0m\u001b[0margs\u001b[0m\u001b[0;34m[\u001b[0m\u001b[0;36m0\u001b[0m\u001b[0;34m]\u001b[0m\u001b[0;34m,\u001b[0m \u001b[0;34m**\u001b[0m\u001b[0mkwargs\u001b[0m\u001b[0;34m)\u001b[0m\u001b[0;34m,\u001b[0m \u001b[0mlambdas\u001b[0m\u001b[0;34m[\u001b[0m\u001b[0;36m1\u001b[0m\u001b[0;34m]\u001b[0m\u001b[0;34m(\u001b[0m\u001b[0margs\u001b[0m\u001b[0;34m[\u001b[0m\u001b[0;36m1\u001b[0m\u001b[0;34m]\u001b[0m\u001b[0;34m,\u001b[0m \u001b[0;34m**\u001b[0m\u001b[0mkwargs\u001b[0m\u001b[0;34m)\u001b[0m\u001b[0;34m\u001b[0m\u001b[0;34m\u001b[0m\u001b[0m\n\u001b[0m\u001b[1;32m    502\u001b[0m \u001b[0;34m\u001b[0m\u001b[0m\n",
      "\u001b[0;32m~/anaconda3/envs/deep/lib/python3.7/site-packages/syft/frameworks/torch/hook/hook_args.py\u001b[0m in \u001b[0;36m<lambda>\u001b[0;34m(x)\u001b[0m\n\u001b[1;32m    341\u001b[0m \u001b[0;34m\u001b[0m\u001b[0m\n\u001b[0;32m--> 342\u001b[0;31m     \u001b[0;32mreturn\u001b[0m \u001b[0;32mlambda\u001b[0m \u001b[0mx\u001b[0m\u001b[0;34m:\u001b[0m \u001b[0mf\u001b[0m\u001b[0;34m(\u001b[0m\u001b[0mlambdas\u001b[0m\u001b[0;34m,\u001b[0m \u001b[0mx\u001b[0m\u001b[0;34m)\u001b[0m\u001b[0;34m\u001b[0m\u001b[0;34m\u001b[0m\u001b[0m\n\u001b[0m\u001b[1;32m    343\u001b[0m \u001b[0;34m\u001b[0m\u001b[0m\n",
      "\u001b[0;32m~/anaconda3/envs/deep/lib/python3.7/site-packages/syft/frameworks/torch/hook/hook_args.py\u001b[0m in \u001b[0;36mtuple_one_fold\u001b[0;34m(lambdas, args)\u001b[0m\n\u001b[1;32m    494\u001b[0m     \u001b[0;32mdef\u001b[0m \u001b[0mtuple_one_fold\u001b[0m\u001b[0;34m(\u001b[0m\u001b[0mlambdas\u001b[0m\u001b[0;34m,\u001b[0m \u001b[0margs\u001b[0m\u001b[0;34m)\u001b[0m\u001b[0;34m:\u001b[0m\u001b[0;34m\u001b[0m\u001b[0;34m\u001b[0m\u001b[0m\n\u001b[0;32m--> 495\u001b[0;31m         \u001b[0;32mreturn\u001b[0m \u001b[0;34m(\u001b[0m\u001b[0mlambdas\u001b[0m\u001b[0;34m[\u001b[0m\u001b[0;36m0\u001b[0m\u001b[0;34m]\u001b[0m\u001b[0;34m(\u001b[0m\u001b[0margs\u001b[0m\u001b[0;34m[\u001b[0m\u001b[0;36m0\u001b[0m\u001b[0;34m]\u001b[0m\u001b[0;34m,\u001b[0m \u001b[0;34m**\u001b[0m\u001b[0mkwargs\u001b[0m\u001b[0;34m)\u001b[0m\u001b[0;34m,\u001b[0m\u001b[0;34m)\u001b[0m\u001b[0;34m\u001b[0m\u001b[0;34m\u001b[0m\u001b[0m\n\u001b[0m\u001b[1;32m    496\u001b[0m \u001b[0;34m\u001b[0m\u001b[0m\n",
      "\u001b[0;32m~/anaconda3/envs/deep/lib/python3.7/site-packages/syft/frameworks/torch/hook/hook_args.py\u001b[0m in \u001b[0;36m<lambda>\u001b[0;34m(i)\u001b[0m\n\u001b[1;32m    319\u001b[0m         \u001b[0;31m# Last if not, rule is probably == 1 so use type to return the right transformation.\u001b[0m\u001b[0;34m\u001b[0m\u001b[0;34m\u001b[0m\u001b[0;34m\u001b[0m\u001b[0m\n\u001b[0;32m--> 320\u001b[0;31m         \u001b[0;32melse\u001b[0m \u001b[0;32mlambda\u001b[0m \u001b[0mi\u001b[0m\u001b[0;34m:\u001b[0m \u001b[0mforward_func\u001b[0m\u001b[0;34m[\u001b[0m\u001b[0mtype\u001b[0m\u001b[0;34m(\u001b[0m\u001b[0mi\u001b[0m\u001b[0;34m)\u001b[0m\u001b[0;34m]\u001b[0m\u001b[0;34m(\u001b[0m\u001b[0mi\u001b[0m\u001b[0;34m)\u001b[0m\u001b[0;34m\u001b[0m\u001b[0;34m\u001b[0m\u001b[0m\n\u001b[0m\u001b[1;32m    321\u001b[0m         \u001b[0;32mfor\u001b[0m \u001b[0ma\u001b[0m\u001b[0;34m,\u001b[0m \u001b[0mr\u001b[0m \u001b[0;32min\u001b[0m \u001b[0mzip\u001b[0m\u001b[0;34m(\u001b[0m\u001b[0margs\u001b[0m\u001b[0;34m,\u001b[0m \u001b[0mrules\u001b[0m\u001b[0;34m)\u001b[0m  \u001b[0;31m# And do this for all the args / rules provided\u001b[0m\u001b[0;34m\u001b[0m\u001b[0;34m\u001b[0m\u001b[0m\n",
      "\u001b[0;32m~/anaconda3/envs/deep/lib/python3.7/site-packages/syft/frameworks/torch/hook/hook_args.py\u001b[0m in \u001b[0;36m<lambda>\u001b[0;34m(i)\u001b[0m\n\u001b[1;32m     50\u001b[0m     \u001b[0;32mif\u001b[0m \u001b[0mhasattr\u001b[0m\u001b[0;34m(\u001b[0m\u001b[0mi\u001b[0m\u001b[0;34m,\u001b[0m \u001b[0;34m\"child\"\u001b[0m\u001b[0;34m)\u001b[0m\u001b[0;34m\u001b[0m\u001b[0;34m\u001b[0m\u001b[0m\n\u001b[0;32m---> 51\u001b[0;31m     \u001b[0;32melse\u001b[0m \u001b[0;34m(\u001b[0m\u001b[0m_\u001b[0m \u001b[0;32mfor\u001b[0m \u001b[0m_\u001b[0m \u001b[0;32min\u001b[0m \u001b[0;34m(\u001b[0m\u001b[0;34m)\u001b[0m\u001b[0;34m)\u001b[0m\u001b[0;34m.\u001b[0m\u001b[0mthrow\u001b[0m\u001b[0;34m(\u001b[0m\u001b[0mPureTorchTensorFoundError\u001b[0m\u001b[0;34m)\u001b[0m\u001b[0;34m,\u001b[0m\u001b[0;34m\u001b[0m\u001b[0;34m\u001b[0m\u001b[0m\n\u001b[0m\u001b[1;32m     52\u001b[0m     \u001b[0mtorch\u001b[0m\u001b[0;34m.\u001b[0m\u001b[0mnn\u001b[0m\u001b[0;34m.\u001b[0m\u001b[0mParameter\u001b[0m\u001b[0;34m:\u001b[0m \u001b[0;32mlambda\u001b[0m \u001b[0mi\u001b[0m\u001b[0;34m:\u001b[0m \u001b[0mi\u001b[0m\u001b[0;34m.\u001b[0m\u001b[0mchild\u001b[0m\u001b[0;34m\u001b[0m\u001b[0;34m\u001b[0m\u001b[0m\n",
      "\u001b[0;32m~/anaconda3/envs/deep/lib/python3.7/site-packages/syft/frameworks/torch/hook/hook_args.py\u001b[0m in \u001b[0;36m<genexpr>\u001b[0;34m(.0)\u001b[0m\n\u001b[1;32m     50\u001b[0m     \u001b[0;32mif\u001b[0m \u001b[0mhasattr\u001b[0m\u001b[0;34m(\u001b[0m\u001b[0mi\u001b[0m\u001b[0;34m,\u001b[0m \u001b[0;34m\"child\"\u001b[0m\u001b[0;34m)\u001b[0m\u001b[0;34m\u001b[0m\u001b[0;34m\u001b[0m\u001b[0m\n\u001b[0;32m---> 51\u001b[0;31m     \u001b[0;32melse\u001b[0m \u001b[0;34m(\u001b[0m\u001b[0m_\u001b[0m \u001b[0;32mfor\u001b[0m \u001b[0m_\u001b[0m \u001b[0;32min\u001b[0m \u001b[0;34m(\u001b[0m\u001b[0;34m)\u001b[0m\u001b[0;34m)\u001b[0m\u001b[0;34m.\u001b[0m\u001b[0mthrow\u001b[0m\u001b[0;34m(\u001b[0m\u001b[0mPureTorchTensorFoundError\u001b[0m\u001b[0;34m)\u001b[0m\u001b[0;34m,\u001b[0m\u001b[0;34m\u001b[0m\u001b[0;34m\u001b[0m\u001b[0m\n\u001b[0m\u001b[1;32m     52\u001b[0m     \u001b[0mtorch\u001b[0m\u001b[0;34m.\u001b[0m\u001b[0mnn\u001b[0m\u001b[0;34m.\u001b[0m\u001b[0mParameter\u001b[0m\u001b[0;34m:\u001b[0m \u001b[0;32mlambda\u001b[0m \u001b[0mi\u001b[0m\u001b[0;34m:\u001b[0m \u001b[0mi\u001b[0m\u001b[0;34m.\u001b[0m\u001b[0mchild\u001b[0m\u001b[0;34m\u001b[0m\u001b[0;34m\u001b[0m\u001b[0m\n",
      "\u001b[0;31mPureTorchTensorFoundError\u001b[0m: ",
      "\nDuring handling of the above exception, another exception occurred:\n",
      "\u001b[0;31mTensorsNotCollocatedException\u001b[0m             Traceback (most recent call last)",
      "\u001b[0;32m<ipython-input-74-8c8f78e0676d>\u001b[0m in \u001b[0;36m<module>\u001b[0;34m\u001b[0m\n\u001b[0;32m----> 1\u001b[0;31m \u001b[0mz\u001b[0m \u001b[0;34m=\u001b[0m \u001b[0mx\u001b[0m \u001b[0;34m+\u001b[0m \u001b[0my\u001b[0m\u001b[0;34m\u001b[0m\u001b[0;34m\u001b[0m\u001b[0m\n\u001b[0m",
      "\u001b[0;32m~/anaconda3/envs/deep/lib/python3.7/site-packages/syft/frameworks/torch/hook/hook.py\u001b[0m in \u001b[0;36moverloaded_native_method\u001b[0;34m(self, *args, **kwargs)\u001b[0m\n\u001b[1;32m    661\u001b[0m                 \u001b[0;32mexcept\u001b[0m \u001b[0mBaseException\u001b[0m \u001b[0;32mas\u001b[0m \u001b[0me\u001b[0m\u001b[0;34m:\u001b[0m\u001b[0;34m\u001b[0m\u001b[0;34m\u001b[0m\u001b[0m\n\u001b[1;32m    662\u001b[0m                     \u001b[0;31m# we can make some errors more descriptive with this method\u001b[0m\u001b[0;34m\u001b[0m\u001b[0;34m\u001b[0m\u001b[0;34m\u001b[0m\u001b[0m\n\u001b[0;32m--> 663\u001b[0;31m                     \u001b[0;32mraise\u001b[0m \u001b[0mroute_method_exception\u001b[0m\u001b[0;34m(\u001b[0m\u001b[0me\u001b[0m\u001b[0;34m,\u001b[0m \u001b[0mself\u001b[0m\u001b[0;34m,\u001b[0m \u001b[0margs\u001b[0m\u001b[0;34m,\u001b[0m \u001b[0mkwargs\u001b[0m\u001b[0;34m)\u001b[0m\u001b[0;34m\u001b[0m\u001b[0;34m\u001b[0m\u001b[0m\n\u001b[0m\u001b[1;32m    664\u001b[0m \u001b[0;34m\u001b[0m\u001b[0m\n\u001b[1;32m    665\u001b[0m                 \u001b[0;31m# Send the new command to the appropriate class and get the response\u001b[0m\u001b[0;34m\u001b[0m\u001b[0;34m\u001b[0m\u001b[0;34m\u001b[0m\u001b[0m\n",
      "\u001b[0;31mTensorsNotCollocatedException\u001b[0m: You tried to call a method involving two tensors where one tensor is actually locatedon another machine (is a PointerTensor). Call .get() on the PointerTensor or .send(bob) on the other tensor.\n\nTensor A: [PointerTensor | me:12044173080 -> bob:47129849739]\nTensor B: tensor([1, 1, 1, 1, 1])"
     ]
    }
   ],
   "source": [
    "z = x + y"
   ]
  },
  {
   "cell_type": "code",
   "execution_count": 75,
   "metadata": {},
   "outputs": [],
   "source": [
    "x = th.tensor([1,2,3,4,5]).send(bob)\n",
    "y = th.tensor([1,1,1,1,1]).send(alice)"
   ]
  },
  {
   "cell_type": "code",
   "execution_count": 76,
   "metadata": {},
   "outputs": [
    {
     "ename": "TensorsNotCollocatedException",
     "evalue": "You tried to call __add__ involving two tensors which are not on the same machine! One tensor is on <VirtualWorker id:bob #tensors:0> while the other is on <VirtualWorker id:alice #tensors:1>. Use a combination of .move(), .get(), and/or .send() to co-locate them to the same machine.",
     "output_type": "error",
     "traceback": [
      "\u001b[0;31m---------------------------------------------------------------------------\u001b[0m",
      "\u001b[0;31mTensorsNotCollocatedException\u001b[0m             Traceback (most recent call last)",
      "\u001b[0;32m<ipython-input-76-8c8f78e0676d>\u001b[0m in \u001b[0;36m<module>\u001b[0;34m\u001b[0m\n\u001b[0;32m----> 1\u001b[0;31m \u001b[0mz\u001b[0m \u001b[0;34m=\u001b[0m \u001b[0mx\u001b[0m \u001b[0;34m+\u001b[0m \u001b[0my\u001b[0m\u001b[0;34m\u001b[0m\u001b[0;34m\u001b[0m\u001b[0m\n\u001b[0m",
      "\u001b[0;32m~/anaconda3/envs/deep/lib/python3.7/site-packages/syft/frameworks/torch/hook/hook.py\u001b[0m in \u001b[0;36moverloaded_native_method\u001b[0;34m(self, *args, **kwargs)\u001b[0m\n\u001b[1;32m    665\u001b[0m                 \u001b[0;31m# Send the new command to the appropriate class and get the response\u001b[0m\u001b[0;34m\u001b[0m\u001b[0;34m\u001b[0m\u001b[0;34m\u001b[0m\u001b[0m\n\u001b[1;32m    666\u001b[0m                 \u001b[0mmethod\u001b[0m \u001b[0;34m=\u001b[0m \u001b[0mgetattr\u001b[0m\u001b[0;34m(\u001b[0m\u001b[0mnew_self\u001b[0m\u001b[0;34m,\u001b[0m \u001b[0mmethod_name\u001b[0m\u001b[0;34m)\u001b[0m\u001b[0;34m\u001b[0m\u001b[0;34m\u001b[0m\u001b[0m\n\u001b[0;32m--> 667\u001b[0;31m                 \u001b[0mresponse\u001b[0m \u001b[0;34m=\u001b[0m \u001b[0mmethod\u001b[0m\u001b[0;34m(\u001b[0m\u001b[0;34m*\u001b[0m\u001b[0mnew_args\u001b[0m\u001b[0;34m,\u001b[0m \u001b[0;34m**\u001b[0m\u001b[0mnew_kwargs\u001b[0m\u001b[0;34m)\u001b[0m\u001b[0;34m\u001b[0m\u001b[0;34m\u001b[0m\u001b[0m\n\u001b[0m\u001b[1;32m    668\u001b[0m \u001b[0;34m\u001b[0m\u001b[0m\n\u001b[1;32m    669\u001b[0m                 \u001b[0;31m# For inplace methods, just directly return self\u001b[0m\u001b[0;34m\u001b[0m\u001b[0;34m\u001b[0m\u001b[0;34m\u001b[0m\u001b[0m\n",
      "\u001b[0;32m~/anaconda3/envs/deep/lib/python3.7/site-packages/syft/frameworks/torch/hook/hook.py\u001b[0m in \u001b[0;36moverloaded_pointer_method\u001b[0;34m(self, *args, **kwargs)\u001b[0m\n\u001b[1;32m    496\u001b[0m                 \u001b[0;32mif\u001b[0m \u001b[0misinstance\u001b[0m\u001b[0;34m(\u001b[0m\u001b[0margs\u001b[0m\u001b[0;34m[\u001b[0m\u001b[0;36m0\u001b[0m\u001b[0;34m]\u001b[0m\u001b[0;34m,\u001b[0m \u001b[0mPointerTensor\u001b[0m\u001b[0;34m)\u001b[0m\u001b[0;34m:\u001b[0m\u001b[0;34m\u001b[0m\u001b[0;34m\u001b[0m\u001b[0m\n\u001b[1;32m    497\u001b[0m                     \u001b[0;32mif\u001b[0m \u001b[0margs\u001b[0m\u001b[0;34m[\u001b[0m\u001b[0;36m0\u001b[0m\u001b[0;34m]\u001b[0m\u001b[0;34m.\u001b[0m\u001b[0mlocation\u001b[0m\u001b[0;34m.\u001b[0m\u001b[0mid\u001b[0m \u001b[0;34m!=\u001b[0m \u001b[0mlocation\u001b[0m\u001b[0;34m.\u001b[0m\u001b[0mid\u001b[0m\u001b[0;34m:\u001b[0m\u001b[0;34m\u001b[0m\u001b[0;34m\u001b[0m\u001b[0m\n\u001b[0;32m--> 498\u001b[0;31m                         \u001b[0;32mraise\u001b[0m \u001b[0mTensorsNotCollocatedException\u001b[0m\u001b[0;34m(\u001b[0m\u001b[0mpointer\u001b[0m\u001b[0;34m,\u001b[0m \u001b[0margs\u001b[0m\u001b[0;34m[\u001b[0m\u001b[0;36m0\u001b[0m\u001b[0;34m]\u001b[0m\u001b[0;34m,\u001b[0m \u001b[0mattr\u001b[0m\u001b[0;34m)\u001b[0m\u001b[0;34m\u001b[0m\u001b[0;34m\u001b[0m\u001b[0m\n\u001b[0m\u001b[1;32m    499\u001b[0m \u001b[0;34m\u001b[0m\u001b[0m\n\u001b[1;32m    500\u001b[0m             \u001b[0;31m# Send the command\u001b[0m\u001b[0;34m\u001b[0m\u001b[0;34m\u001b[0m\u001b[0;34m\u001b[0m\u001b[0m\n",
      "\u001b[0;31mTensorsNotCollocatedException\u001b[0m: You tried to call __add__ involving two tensors which are not on the same machine! One tensor is on <VirtualWorker id:bob #tensors:0> while the other is on <VirtualWorker id:alice #tensors:1>. Use a combination of .move(), .get(), and/or .send() to co-locate them to the same machine."
     ]
    }
   ],
   "source": [
    "z = x + y"
   ]
  },
  {
   "cell_type": "code",
   "execution_count": null,
   "metadata": {},
   "outputs": [],
   "source": []
  },
  {
   "cell_type": "markdown",
   "metadata": {},
   "source": [
    "# Lesson: Toy Federated Learning\n",
    "\n",
    "Let's start by training a toy model the centralized way. This is about a simple as models get. We first need:\n",
    "\n",
    "- a toy dataset\n",
    "- a model\n",
    "- some basic training logic for training a model to fit the data."
   ]
  },
  {
   "cell_type": "code",
   "execution_count": 87,
   "metadata": {},
   "outputs": [],
   "source": [
    "from torch import nn, optim"
   ]
  },
  {
   "cell_type": "code",
   "execution_count": 88,
   "metadata": {},
   "outputs": [],
   "source": [
    "alice = sy.VirtualWorker(hook, id='alice')\n",
    "bob = sy.VirtualWorker(hook, id='bob')"
   ]
  },
  {
   "cell_type": "code",
   "execution_count": 89,
   "metadata": {},
   "outputs": [],
   "source": [
    "# A Toy Dataset\n",
    "data = th.tensor([[1.,1],[0,1],[1,0],[0,0]], requires_grad=True)\n",
    "target = th.tensor([[1.],[1], [0], [0]], requires_grad=True)"
   ]
  },
  {
   "cell_type": "code",
   "execution_count": 90,
   "metadata": {},
   "outputs": [],
   "source": [
    "# A Toy Model\n",
    "model = nn.Linear(2,1)"
   ]
  },
  {
   "cell_type": "code",
   "execution_count": 91,
   "metadata": {},
   "outputs": [],
   "source": [
    "opt = optim.SGD(params=model.parameters(), lr=0.1)"
   ]
  },
  {
   "cell_type": "code",
   "execution_count": 92,
   "metadata": {},
   "outputs": [
    {
     "name": "stdout",
     "output_type": "stream",
     "text": [
      "tensor(2.0408)\n",
      "tensor(0.7201)\n",
      "tensor(0.4764)\n",
      "tensor(0.3517)\n",
      "tensor(0.2635)\n",
      "tensor(0.1982)\n",
      "tensor(0.1495)\n",
      "tensor(0.1130)\n",
      "tensor(0.0855)\n",
      "tensor(0.0649)\n",
      "tensor(0.0492)\n",
      "tensor(0.0374)\n",
      "tensor(0.0285)\n",
      "tensor(0.0217)\n",
      "tensor(0.0165)\n",
      "tensor(0.0126)\n",
      "tensor(0.0096)\n",
      "tensor(0.0073)\n",
      "tensor(0.0056)\n",
      "tensor(0.0043)\n"
     ]
    }
   ],
   "source": [
    "def train(iterations=20):\n",
    "    for iter in range(iterations):\n",
    "        opt.zero_grad()\n",
    "\n",
    "        pred = model(data)\n",
    "\n",
    "        loss = ((pred - target)**2).sum()\n",
    "\n",
    "        loss.backward()\n",
    "\n",
    "        opt.step()\n",
    "\n",
    "        print(loss.data)\n",
    "        \n",
    "train()"
   ]
  },
  {
   "cell_type": "code",
   "execution_count": 93,
   "metadata": {},
   "outputs": [],
   "source": [
    "data_bob = data[0:2].send(bob)\n",
    "target_bob = target[0:2].send(bob)"
   ]
  },
  {
   "cell_type": "code",
   "execution_count": 94,
   "metadata": {},
   "outputs": [],
   "source": [
    "data_alice = data[2:4].send(alice)\n",
    "target_alice = target[2:4].send(alice)"
   ]
  },
  {
   "cell_type": "code",
   "execution_count": 95,
   "metadata": {},
   "outputs": [],
   "source": [
    "datasets = [(data_bob, target_bob), (data_alice, target_alice)]"
   ]
  },
  {
   "cell_type": "code",
   "execution_count": 96,
   "metadata": {},
   "outputs": [],
   "source": [
    "def train(iterations=20):\n",
    "\n",
    "    model = nn.Linear(2,1)\n",
    "    opt = optim.SGD(params=model.parameters(), lr=0.1)\n",
    "    \n",
    "    for iter in range(iterations):\n",
    "\n",
    "        for _data, _target in datasets:\n",
    "\n",
    "            # send model to the data\n",
    "            model = model.send(_data.location)\n",
    "\n",
    "            # do normal training\n",
    "            opt.zero_grad()\n",
    "            pred = model(_data)\n",
    "            loss = ((pred - _target)**2).sum()\n",
    "            loss.backward()\n",
    "            opt.step()\n",
    "\n",
    "            # get smarter model back\n",
    "            model = model.get()\n",
    "\n",
    "            print(loss.get())"
   ]
  },
  {
   "cell_type": "code",
   "execution_count": 97,
   "metadata": {},
   "outputs": [
    {
     "name": "stdout",
     "output_type": "stream",
     "text": [
      "tensor(1.4078, requires_grad=True)\n",
      "tensor(0.1353, requires_grad=True)\n",
      "tensor(0.1448, requires_grad=True)\n",
      "tensor(0.0992, requires_grad=True)\n",
      "tensor(0.0813, requires_grad=True)\n",
      "tensor(0.0625, requires_grad=True)\n",
      "tensor(0.0520, requires_grad=True)\n",
      "tensor(0.0398, requires_grad=True)\n",
      "tensor(0.0339, requires_grad=True)\n",
      "tensor(0.0259, requires_grad=True)\n",
      "tensor(0.0225, requires_grad=True)\n",
      "tensor(0.0173, requires_grad=True)\n",
      "tensor(0.0151, requires_grad=True)\n",
      "tensor(0.0118, requires_grad=True)\n",
      "tensor(0.0103, requires_grad=True)\n",
      "tensor(0.0083, requires_grad=True)\n",
      "tensor(0.0071, requires_grad=True)\n",
      "tensor(0.0059, requires_grad=True)\n",
      "tensor(0.0050, requires_grad=True)\n",
      "tensor(0.0043, requires_grad=True)\n",
      "tensor(0.0035, requires_grad=True)\n",
      "tensor(0.0031, requires_grad=True)\n",
      "tensor(0.0025, requires_grad=True)\n",
      "tensor(0.0023, requires_grad=True)\n",
      "tensor(0.0018, requires_grad=True)\n",
      "tensor(0.0017, requires_grad=True)\n",
      "tensor(0.0013, requires_grad=True)\n",
      "tensor(0.0013, requires_grad=True)\n",
      "tensor(0.0009, requires_grad=True)\n",
      "tensor(0.0010, requires_grad=True)\n",
      "tensor(0.0007, requires_grad=True)\n",
      "tensor(0.0007, requires_grad=True)\n",
      "tensor(0.0005, requires_grad=True)\n",
      "tensor(0.0005, requires_grad=True)\n",
      "tensor(0.0004, requires_grad=True)\n",
      "tensor(0.0004, requires_grad=True)\n",
      "tensor(0.0003, requires_grad=True)\n",
      "tensor(0.0003, requires_grad=True)\n",
      "tensor(0.0002, requires_grad=True)\n",
      "tensor(0.0002, requires_grad=True)\n"
     ]
    }
   ],
   "source": [
    "train()"
   ]
  },
  {
   "cell_type": "code",
   "execution_count": null,
   "metadata": {},
   "outputs": [],
   "source": []
  },
  {
   "cell_type": "markdown",
   "metadata": {},
   "source": [
    "# Lesson: Advanced Remote Execution Tools\n",
    "\n",
    "In the last section we trained a toy model using Federated Learning. We did this by calling .send() and .get() on our model, sending it to the location of training data, updating it, and then bringing it back. However, at the end of the example we realized that we needed to go a bit further to protect people privacy. Namely, we want to average the gradients BEFORE calling .get(). That way, we won't ever see anyone's exact gradient (thus better protecting their privacy!!!)\n",
    "\n",
    "But, in order to do this, we need a few more pieces:\n",
    "\n",
    "- use a pointer to send a Tensor directly to another worker\n",
    "\n",
    "And in addition, while we're here, we're going to learn about a few more advanced tensor operations as well which will help us both with this example and a few in the future!"
   ]
  },
  {
   "cell_type": "code",
   "execution_count": 98,
   "metadata": {},
   "outputs": [],
   "source": [
    "alice = sy.VirtualWorker(hook, id='alice2')\n",
    "bob = sy.VirtualWorker(hook, id='bob2')"
   ]
  },
  {
   "cell_type": "code",
   "execution_count": 99,
   "metadata": {},
   "outputs": [],
   "source": [
    "bob = bob.clear_objects()\n",
    "alice = alice.clear_objects()"
   ]
  },
  {
   "cell_type": "code",
   "execution_count": 100,
   "metadata": {},
   "outputs": [
    {
     "data": {
      "text/plain": [
       "{22325692068: tensor([1, 2, 3, 4, 5])}"
      ]
     },
     "execution_count": 100,
     "metadata": {},
     "output_type": "execute_result"
    }
   ],
   "source": [
    "x = th.tensor([1,2,3,4,5]).send(bob)\n",
    "bob._objects"
   ]
  },
  {
   "cell_type": "code",
   "execution_count": 101,
   "metadata": {},
   "outputs": [
    {
     "data": {
      "text/plain": [
       "(Wrapper)>[PointerTensor | me:70394377187 -> bob2:22325692068]"
      ]
     },
     "execution_count": 101,
     "metadata": {},
     "output_type": "execute_result"
    }
   ],
   "source": [
    "x"
   ]
  },
  {
   "cell_type": "code",
   "execution_count": 102,
   "metadata": {},
   "outputs": [],
   "source": [
    "x = x.send(alice)"
   ]
  },
  {
   "cell_type": "code",
   "execution_count": 103,
   "metadata": {},
   "outputs": [
    {
     "data": {
      "text/plain": [
       "{22325692068: tensor([1, 2, 3, 4, 5])}"
      ]
     },
     "execution_count": 103,
     "metadata": {},
     "output_type": "execute_result"
    }
   ],
   "source": [
    "bob._objects"
   ]
  },
  {
   "cell_type": "code",
   "execution_count": 104,
   "metadata": {},
   "outputs": [
    {
     "data": {
      "text/plain": [
       "{70394377187: (Wrapper)>[PointerTensor | alice2:70394377187 -> bob2:22325692068]}"
      ]
     },
     "execution_count": 104,
     "metadata": {},
     "output_type": "execute_result"
    }
   ],
   "source": [
    "alice._objects"
   ]
  },
  {
   "cell_type": "code",
   "execution_count": 105,
   "metadata": {},
   "outputs": [],
   "source": [
    "y = x + x"
   ]
  },
  {
   "cell_type": "code",
   "execution_count": 106,
   "metadata": {},
   "outputs": [
    {
     "data": {
      "text/plain": [
       "(Wrapper)>[PointerTensor | me:82273169445 -> alice2:22986808621]"
      ]
     },
     "execution_count": 106,
     "metadata": {},
     "output_type": "execute_result"
    }
   ],
   "source": [
    "y"
   ]
  },
  {
   "cell_type": "code",
   "execution_count": 107,
   "metadata": {},
   "outputs": [
    {
     "data": {
      "text/plain": [
       "{22325692068: tensor([1, 2, 3, 4, 5]),\n",
       " 67222879139: tensor([ 2,  4,  6,  8, 10])}"
      ]
     },
     "execution_count": 107,
     "metadata": {},
     "output_type": "execute_result"
    }
   ],
   "source": [
    "bob._objects"
   ]
  },
  {
   "cell_type": "code",
   "execution_count": 108,
   "metadata": {},
   "outputs": [
    {
     "data": {
      "text/plain": [
       "{70394377187: (Wrapper)>[PointerTensor | alice2:70394377187 -> bob2:22325692068],\n",
       " 22986808621: (Wrapper)>[PointerTensor | alice2:22986808621 -> bob2:67222879139]}"
      ]
     },
     "execution_count": 108,
     "metadata": {},
     "output_type": "execute_result"
    }
   ],
   "source": [
    "alice._objects"
   ]
  },
  {
   "cell_type": "code",
   "execution_count": 109,
   "metadata": {},
   "outputs": [],
   "source": [
    "jon = sy.VirtualWorker(hook, id=\"jon\")"
   ]
  },
  {
   "cell_type": "code",
   "execution_count": 110,
   "metadata": {},
   "outputs": [],
   "source": [
    "bob.clear_objects()\n",
    "alice.clear_objects()\n",
    "\n",
    "x = th.tensor([1,2,3,4,5]).send(bob).send(alice)"
   ]
  },
  {
   "cell_type": "code",
   "execution_count": 111,
   "metadata": {},
   "outputs": [
    {
     "data": {
      "text/plain": [
       "{97262740045: tensor([1, 2, 3, 4, 5])}"
      ]
     },
     "execution_count": 111,
     "metadata": {},
     "output_type": "execute_result"
    }
   ],
   "source": [
    "bob._objects"
   ]
  },
  {
   "cell_type": "code",
   "execution_count": 112,
   "metadata": {},
   "outputs": [
    {
     "data": {
      "text/plain": [
       "{22194866915: (Wrapper)>[PointerTensor | alice2:22194866915 -> bob2:97262740045]}"
      ]
     },
     "execution_count": 112,
     "metadata": {},
     "output_type": "execute_result"
    }
   ],
   "source": [
    "alice._objects"
   ]
  },
  {
   "cell_type": "code",
   "execution_count": 113,
   "metadata": {},
   "outputs": [
    {
     "data": {
      "text/plain": [
       "(Wrapper)>[PointerTensor | me:22194866915 -> bob2:97262740045]"
      ]
     },
     "execution_count": 113,
     "metadata": {},
     "output_type": "execute_result"
    }
   ],
   "source": [
    "x = x.get()\n",
    "x"
   ]
  },
  {
   "cell_type": "code",
   "execution_count": 114,
   "metadata": {},
   "outputs": [
    {
     "data": {
      "text/plain": [
       "{97262740045: tensor([1, 2, 3, 4, 5])}"
      ]
     },
     "execution_count": 114,
     "metadata": {},
     "output_type": "execute_result"
    }
   ],
   "source": [
    "bob._objects"
   ]
  },
  {
   "cell_type": "code",
   "execution_count": 115,
   "metadata": {},
   "outputs": [
    {
     "data": {
      "text/plain": [
       "{}"
      ]
     },
     "execution_count": 115,
     "metadata": {},
     "output_type": "execute_result"
    }
   ],
   "source": [
    "alice._objects"
   ]
  },
  {
   "cell_type": "code",
   "execution_count": 116,
   "metadata": {},
   "outputs": [
    {
     "data": {
      "text/plain": [
       "tensor([1, 2, 3, 4, 5])"
      ]
     },
     "execution_count": 116,
     "metadata": {},
     "output_type": "execute_result"
    }
   ],
   "source": [
    "x = x.get()\n",
    "x"
   ]
  },
  {
   "cell_type": "code",
   "execution_count": 117,
   "metadata": {},
   "outputs": [
    {
     "data": {
      "text/plain": [
       "{}"
      ]
     },
     "execution_count": 117,
     "metadata": {},
     "output_type": "execute_result"
    }
   ],
   "source": [
    "bob._objects"
   ]
  },
  {
   "cell_type": "code",
   "execution_count": 118,
   "metadata": {},
   "outputs": [],
   "source": [
    "bob.clear_objects()\n",
    "alice.clear_objects()\n",
    "\n",
    "x = th.tensor([1,2,3,4,5]).send(bob).send(alice)"
   ]
  },
  {
   "cell_type": "code",
   "execution_count": 119,
   "metadata": {},
   "outputs": [
    {
     "data": {
      "text/plain": [
       "{95721822893: tensor([1, 2, 3, 4, 5])}"
      ]
     },
     "execution_count": 119,
     "metadata": {},
     "output_type": "execute_result"
    }
   ],
   "source": [
    "bob._objects"
   ]
  },
  {
   "cell_type": "code",
   "execution_count": 120,
   "metadata": {},
   "outputs": [
    {
     "data": {
      "text/plain": [
       "{38432879378: (Wrapper)>[PointerTensor | alice2:38432879378 -> bob2:95721822893]}"
      ]
     },
     "execution_count": 120,
     "metadata": {},
     "output_type": "execute_result"
    }
   ],
   "source": [
    "alice._objects"
   ]
  },
  {
   "cell_type": "code",
   "execution_count": 121,
   "metadata": {},
   "outputs": [],
   "source": [
    "del x"
   ]
  },
  {
   "cell_type": "code",
   "execution_count": 122,
   "metadata": {},
   "outputs": [
    {
     "data": {
      "text/plain": [
       "{}"
      ]
     },
     "execution_count": 122,
     "metadata": {},
     "output_type": "execute_result"
    }
   ],
   "source": [
    "bob._objects"
   ]
  },
  {
   "cell_type": "code",
   "execution_count": 123,
   "metadata": {},
   "outputs": [
    {
     "data": {
      "text/plain": [
       "{}"
      ]
     },
     "execution_count": 123,
     "metadata": {},
     "output_type": "execute_result"
    }
   ],
   "source": [
    "alice._objects"
   ]
  },
  {
   "cell_type": "code",
   "execution_count": null,
   "metadata": {},
   "outputs": [],
   "source": []
  },
  {
   "cell_type": "code",
   "execution_count": null,
   "metadata": {},
   "outputs": [],
   "source": []
  },
  {
   "cell_type": "markdown",
   "metadata": {},
   "source": [
    "# Lesson: Pointer Chain Operations"
   ]
  },
  {
   "cell_type": "code",
   "execution_count": 124,
   "metadata": {},
   "outputs": [
    {
     "data": {
      "text/plain": [
       "<VirtualWorker id:alice2 #tensors:0>"
      ]
     },
     "execution_count": 124,
     "metadata": {},
     "output_type": "execute_result"
    }
   ],
   "source": [
    "bob.clear_objects()\n",
    "alice.clear_objects()"
   ]
  },
  {
   "cell_type": "code",
   "execution_count": 125,
   "metadata": {},
   "outputs": [],
   "source": [
    "x = th.tensor([1,2,3,4,5]).send(bob)"
   ]
  },
  {
   "cell_type": "code",
   "execution_count": 126,
   "metadata": {},
   "outputs": [
    {
     "data": {
      "text/plain": [
       "{19955136117: tensor([1, 2, 3, 4, 5])}"
      ]
     },
     "execution_count": 126,
     "metadata": {},
     "output_type": "execute_result"
    }
   ],
   "source": [
    "bob._objects"
   ]
  },
  {
   "cell_type": "code",
   "execution_count": 127,
   "metadata": {},
   "outputs": [
    {
     "data": {
      "text/plain": [
       "{}"
      ]
     },
     "execution_count": 127,
     "metadata": {},
     "output_type": "execute_result"
    }
   ],
   "source": [
    "alice._objects"
   ]
  },
  {
   "cell_type": "code",
   "execution_count": 128,
   "metadata": {},
   "outputs": [
    {
     "data": {
      "text/plain": [
       "(Wrapper)>[PointerTensor | me:47280914399 -> alice2:47280914399]"
      ]
     },
     "execution_count": 128,
     "metadata": {},
     "output_type": "execute_result"
    }
   ],
   "source": [
    "x.move(alice)"
   ]
  },
  {
   "cell_type": "code",
   "execution_count": 129,
   "metadata": {},
   "outputs": [
    {
     "data": {
      "text/plain": [
       "{}"
      ]
     },
     "execution_count": 129,
     "metadata": {},
     "output_type": "execute_result"
    }
   ],
   "source": [
    "bob._objects"
   ]
  },
  {
   "cell_type": "code",
   "execution_count": 130,
   "metadata": {},
   "outputs": [
    {
     "data": {
      "text/plain": [
       "{47280914399: tensor([1, 2, 3, 4, 5])}"
      ]
     },
     "execution_count": 130,
     "metadata": {},
     "output_type": "execute_result"
    }
   ],
   "source": [
    "alice._objects"
   ]
  },
  {
   "cell_type": "code",
   "execution_count": null,
   "metadata": {},
   "outputs": [],
   "source": []
  },
  {
   "cell_type": "code",
   "execution_count": 131,
   "metadata": {},
   "outputs": [],
   "source": [
    "x = th.tensor([1,2,3,4,5]).send(bob).send(alice)"
   ]
  },
  {
   "cell_type": "code",
   "execution_count": 132,
   "metadata": {},
   "outputs": [
    {
     "data": {
      "text/plain": [
       "{37764226807: tensor([1, 2, 3, 4, 5])}"
      ]
     },
     "execution_count": 132,
     "metadata": {},
     "output_type": "execute_result"
    }
   ],
   "source": [
    "bob._objects"
   ]
  },
  {
   "cell_type": "code",
   "execution_count": 133,
   "metadata": {},
   "outputs": [
    {
     "data": {
      "text/plain": [
       "{47280914399: tensor([1, 2, 3, 4, 5]),\n",
       " 65928353849: (Wrapper)>[PointerTensor | alice2:65928353849 -> bob2:37764226807]}"
      ]
     },
     "execution_count": 133,
     "metadata": {},
     "output_type": "execute_result"
    }
   ],
   "source": [
    "alice._objects"
   ]
  },
  {
   "cell_type": "code",
   "execution_count": 134,
   "metadata": {},
   "outputs": [
    {
     "data": {
      "text/plain": [
       "(Wrapper)>[PointerTensor | me:17705984569 -> alice2:65928353849]"
      ]
     },
     "execution_count": 134,
     "metadata": {},
     "output_type": "execute_result"
    }
   ],
   "source": [
    "x.remote_get()"
   ]
  },
  {
   "cell_type": "code",
   "execution_count": 135,
   "metadata": {},
   "outputs": [
    {
     "data": {
      "text/plain": [
       "{}"
      ]
     },
     "execution_count": 135,
     "metadata": {},
     "output_type": "execute_result"
    }
   ],
   "source": [
    "bob._objects"
   ]
  },
  {
   "cell_type": "code",
   "execution_count": 136,
   "metadata": {},
   "outputs": [
    {
     "data": {
      "text/plain": [
       "{47280914399: tensor([1, 2, 3, 4, 5]), 65928353849: tensor([1, 2, 3, 4, 5])}"
      ]
     },
     "execution_count": 136,
     "metadata": {},
     "output_type": "execute_result"
    }
   ],
   "source": [
    "alice._objects"
   ]
  },
  {
   "cell_type": "code",
   "execution_count": 137,
   "metadata": {},
   "outputs": [
    {
     "data": {
      "text/plain": [
       "(Wrapper)>[PointerTensor | me:17705984569 -> bob2:17705984569]"
      ]
     },
     "execution_count": 137,
     "metadata": {},
     "output_type": "execute_result"
    }
   ],
   "source": [
    "x.move(bob)"
   ]
  },
  {
   "cell_type": "code",
   "execution_count": 138,
   "metadata": {},
   "outputs": [
    {
     "data": {
      "text/plain": [
       "(Wrapper)>[PointerTensor | me:17705984569 -> bob2:17705984569]"
      ]
     },
     "execution_count": 138,
     "metadata": {},
     "output_type": "execute_result"
    }
   ],
   "source": [
    "x"
   ]
  },
  {
   "cell_type": "code",
   "execution_count": 139,
   "metadata": {},
   "outputs": [
    {
     "data": {
      "text/plain": [
       "{17705984569: tensor([1, 2, 3, 4, 5])}"
      ]
     },
     "execution_count": 139,
     "metadata": {},
     "output_type": "execute_result"
    }
   ],
   "source": [
    "bob._objects"
   ]
  },
  {
   "cell_type": "code",
   "execution_count": 140,
   "metadata": {},
   "outputs": [
    {
     "data": {
      "text/plain": [
       "{47280914399: tensor([1, 2, 3, 4, 5])}"
      ]
     },
     "execution_count": 140,
     "metadata": {},
     "output_type": "execute_result"
    }
   ],
   "source": [
    "alice._objects"
   ]
  },
  {
   "cell_type": "code",
   "execution_count": null,
   "metadata": {},
   "outputs": [],
   "source": []
  }
 ],
 "metadata": {
  "kernelspec": {
   "display_name": "deep",
   "language": "python",
   "name": "deep"
  }
 },
 "nbformat": 4,
 "nbformat_minor": 2
}
