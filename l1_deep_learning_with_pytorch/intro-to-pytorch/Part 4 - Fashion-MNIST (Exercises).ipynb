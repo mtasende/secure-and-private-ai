{
 "cells": [
  {
   "cell_type": "markdown",
   "metadata": {},
   "source": [
    "# Classifying Fashion-MNIST\n",
    "\n",
    "Now it's your turn to build and train a neural network. You'll be using the [Fashion-MNIST dataset](https://github.com/zalandoresearch/fashion-mnist), a drop-in replacement for the MNIST dataset. MNIST is actually quite trivial with neural networks where you can easily achieve better than 97% accuracy. Fashion-MNIST is a set of 28x28 greyscale images of clothes. It's more complex than MNIST, so it's a better representation of the actual performance of your network, and a better representation of datasets you'll use in the real world.\n",
    "\n",
    "<img src='assets/fashion-mnist-sprite.png' width=500px>\n",
    "\n",
    "In this notebook, you'll build your own neural network. For the most part, you could just copy and paste the code from Part 3, but you wouldn't be learning. It's important for you to write the code yourself and get it to work. Feel free to consult the previous notebooks though as you work through this.\n",
    "\n",
    "First off, let's load the dataset through torchvision."
   ]
  },
  {
   "cell_type": "code",
   "execution_count": 1,
   "metadata": {},
   "outputs": [
    {
     "name": "stderr",
     "output_type": "stream",
     "text": [
      "\r",
      "0it [00:00, ?it/s]"
     ]
    },
    {
     "name": "stdout",
     "output_type": "stream",
     "text": [
      "Downloading http://fashion-mnist.s3-website.eu-central-1.amazonaws.com/train-images-idx3-ubyte.gz to /Users/antelinvestigacionydesarrollo/.pytorch/F_MNIST_data/FashionMNIST/raw/train-images-idx3-ubyte.gz\n"
     ]
    },
    {
     "name": "stderr",
     "output_type": "stream",
     "text": [
      " 99%|█████████▉| 26279936/26421880 [00:37<00:00, 1532523.05it/s]"
     ]
    },
    {
     "name": "stdout",
     "output_type": "stream",
     "text": [
      "Extracting /Users/antelinvestigacionydesarrollo/.pytorch/F_MNIST_data/FashionMNIST/raw/train-images-idx3-ubyte.gz\n"
     ]
    },
    {
     "name": "stderr",
     "output_type": "stream",
     "text": [
      "\n",
      "0it [00:00, ?it/s]\u001b[A"
     ]
    },
    {
     "name": "stdout",
     "output_type": "stream",
     "text": [
      "Downloading http://fashion-mnist.s3-website.eu-central-1.amazonaws.com/train-labels-idx1-ubyte.gz to /Users/antelinvestigacionydesarrollo/.pytorch/F_MNIST_data/FashionMNIST/raw/train-labels-idx1-ubyte.gz\n"
     ]
    },
    {
     "name": "stderr",
     "output_type": "stream",
     "text": [
      "\n",
      "  0%|          | 0/29515 [00:00<?, ?it/s]\u001b[A\n",
      " 56%|█████▌    | 16384/29515 [00:00<00:00, 69578.56it/s]\u001b[A\n",
      "32768it [00:00, 38085.20it/s]                           \u001b[A\n",
      "0it [00:00, ?it/s]\u001b[A"
     ]
    },
    {
     "name": "stdout",
     "output_type": "stream",
     "text": [
      "Extracting /Users/antelinvestigacionydesarrollo/.pytorch/F_MNIST_data/FashionMNIST/raw/train-labels-idx1-ubyte.gz\n",
      "Downloading http://fashion-mnist.s3-website.eu-central-1.amazonaws.com/t10k-images-idx3-ubyte.gz to /Users/antelinvestigacionydesarrollo/.pytorch/F_MNIST_data/FashionMNIST/raw/t10k-images-idx3-ubyte.gz\n"
     ]
    },
    {
     "name": "stderr",
     "output_type": "stream",
     "text": [
      "\n",
      "  0%|          | 0/4422102 [00:00<?, ?it/s]\u001b[A\n",
      "  0%|          | 16384/4422102 [00:00<01:06, 66624.34it/s]\u001b[A\n",
      "  1%|          | 40960/4422102 [00:00<00:53, 82596.11it/s]\u001b[A\n",
      "  1%|          | 49152/4422102 [00:01<00:56, 77928.36it/s]\u001b[A\n",
      "  2%|▏         | 98304/4422102 [00:01<00:42, 102318.80it/s]\u001b[A\n",
      "  3%|▎         | 114688/4422102 [00:01<00:38, 110769.98it/s]\u001b[A\n",
      "  5%|▍         | 212992/4422102 [00:01<00:28, 148935.39it/s]\u001b[A\n",
      "  6%|▌         | 253952/4422102 [00:01<00:23, 179203.94it/s]\u001b[A\n",
      " 10%|▉         | 434176/4422102 [00:01<00:16, 242671.70it/s]\u001b[A\n",
      " 11%|█▏        | 507904/4422102 [00:01<00:13, 295874.91it/s]\u001b[A\n",
      " 16%|█▌        | 688128/4422102 [00:01<00:09, 388299.86it/s]\u001b[A\n",
      " 18%|█▊        | 802816/4422102 [00:02<00:09, 400025.23it/s]\u001b[A\n",
      " 20%|██        | 884736/4422102 [00:02<00:07, 466728.93it/s]\u001b[A\n",
      " 31%|███       | 1351680/4422102 [00:02<00:04, 632881.78it/s]\u001b[A\n",
      " 42%|████▏     | 1859584/4422102 [00:02<00:03, 850995.22it/s]\u001b[A\n",
      " 48%|████▊     | 2113536/4422102 [00:02<00:02, 861928.42it/s]\u001b[A\n",
      " 52%|█████▏    | 2318336/4422102 [00:02<00:02, 1040952.45it/s]\u001b[A\n",
      " 63%|██████▎   | 2793472/4422102 [00:03<00:01, 1334643.56it/s]\u001b[A\n",
      " 69%|██████▉   | 3055616/4422102 [00:03<00:01, 1167307.41it/s]\u001b[A\n",
      " 76%|███████▌  | 3350528/4422102 [00:03<00:00, 1422649.50it/s]\u001b[A\n",
      " 81%|████████  | 3588096/4422102 [00:03<00:00, 1267305.41it/s]\u001b[A\n",
      " 86%|████████▌ | 3784704/4422102 [00:03<00:00, 1294855.32it/s]\u001b[A\n",
      " 90%|████████▉ | 3964928/4422102 [00:03<00:00, 1332646.33it/s]\u001b[A\n",
      " 94%|█████████▎| 4136960/4422102 [00:04<00:00, 1310929.79it/s]\u001b[A\n",
      " 97%|█████████▋| 4292608/4422102 [00:04<00:00, 1315003.10it/s]\u001b[A\n",
      "\n",
      "0it [00:00, ?it/s]\u001b[A\u001b[A"
     ]
    },
    {
     "name": "stdout",
     "output_type": "stream",
     "text": [
      "Extracting /Users/antelinvestigacionydesarrollo/.pytorch/F_MNIST_data/FashionMNIST/raw/t10k-images-idx3-ubyte.gz\n",
      "Downloading http://fashion-mnist.s3-website.eu-central-1.amazonaws.com/t10k-labels-idx1-ubyte.gz to /Users/antelinvestigacionydesarrollo/.pytorch/F_MNIST_data/FashionMNIST/raw/t10k-labels-idx1-ubyte.gz\n"
     ]
    },
    {
     "name": "stderr",
     "output_type": "stream",
     "text": [
      "\n",
      "\n",
      "  0%|          | 0/5148 [00:00<?, ?it/s]\u001b[A\u001b[A\n",
      "\n",
      "8192it [00:00, 15582.32it/s]            \u001b[A\u001b[A"
     ]
    },
    {
     "name": "stdout",
     "output_type": "stream",
     "text": [
      "Extracting /Users/antelinvestigacionydesarrollo/.pytorch/F_MNIST_data/FashionMNIST/raw/t10k-labels-idx1-ubyte.gz\n",
      "Processing...\n",
      "Done!\n"
     ]
    }
   ],
   "source": [
    "import torch\n",
    "from torchvision import datasets, transforms\n",
    "import helper\n",
    "\n",
    "# Define a transform to normalize the data\n",
    "transform = transforms.Compose([transforms.ToTensor(),\n",
    "                                transforms.Normalize((0.5,), (0.5,))])\n",
    "# Download and load the training data\n",
    "trainset = datasets.FashionMNIST('~/.pytorch/F_MNIST_data/', download=True, train=True, transform=transform)\n",
    "trainloader = torch.utils.data.DataLoader(trainset, batch_size=64, shuffle=True)\n",
    "\n",
    "# Download and load the test data\n",
    "testset = datasets.FashionMNIST('~/.pytorch/F_MNIST_data/', download=True, train=False, transform=transform)\n",
    "testloader = torch.utils.data.DataLoader(testset, batch_size=64, shuffle=True)"
   ]
  },
  {
   "cell_type": "markdown",
   "metadata": {},
   "source": [
    "Here we can see one of the images."
   ]
  },
  {
   "cell_type": "code",
   "execution_count": 2,
   "metadata": {},
   "outputs": [
    {
     "data": {
      "image/png": "[encoded data removed]",
      "text/plain": [
       "<Figure size 432x288 with 1 Axes>"
      ]
     },
     "metadata": {
      "needs_background": "light"
     },
     "output_type": "display_data"
    },
    {
     "name": "stderr",
     "output_type": "stream",
     "text": [
      "26427392it [00:50, 1532523.05it/s]                              \n",
      "4423680it [00:20, 1315003.10it/s]                             \u001b[A"
     ]
    }
   ],
   "source": [
    "image, label = next(iter(trainloader))\n",
    "helper.imshow(image[0,:]);"
   ]
  },
  {
   "cell_type": "markdown",
   "metadata": {},
   "source": [
    "## Building the network\n",
    "\n",
    "Here you should define your network. As with MNIST, each image is 28x28 which is a total of 784 pixels, and there are 10 classes. You should include at least one hidden layer. We suggest you use ReLU activations for the layers and to return the logits or log-softmax from the forward pass. It's up to you how many layers you add and the size of those layers."
   ]
  },
  {
   "cell_type": "code",
   "execution_count": 14,
   "metadata": {},
   "outputs": [
    {
     "data": {
      "text/plain": [
       "Sequential(\n",
       "  (fc0): Linear(in_features=784, out_features=256, bias=True)\n",
       "  (a0): ReLU()\n",
       "  (fc1): Linear(in_features=256, out_features=128, bias=True)\n",
       "  (a1): ReLU()\n",
       "  (fc2): Linear(in_features=128, out_features=64, bias=True)\n",
       "  (a2): ReLU()\n",
       "  (fc3): Linear(in_features=64, out_features=10, bias=True)\n",
       "  (output): LogSoftmax()\n",
       ")"
      ]
     },
     "execution_count": 14,
     "metadata": {},
     "output_type": "execute_result"
    }
   ],
   "source": [
    "# Define your network architecture here\n",
    "from torch import nn\n",
    "from collections import OrderedDict\n",
    "\n",
    "sizes = [784, 256, 128, 64, 10]\n",
    "model_l = list()\n",
    "for i, size in enumerate(sizes[:-1]):\n",
    "    model_l.append(('fc{}'.format(i), nn.Linear(sizes[i], sizes[i+1])))\n",
    "    if i < len(sizes) - 2:\n",
    "        model_l.append(('a{}'.format(i), nn.ReLU()))\n",
    "    else:\n",
    "        model_l.append(('output', nn.LogSoftmax(dim=1)))\n",
    "    \n",
    "model = nn.Sequential(OrderedDict(model_l))\n",
    "model"
   ]
  },
  {
   "cell_type": "markdown",
   "metadata": {},
   "source": [
    "# Train the network\n",
    "\n",
    "Now you should create your network and train it. First you'll want to define [the criterion](http://pytorch.org/docs/master/nn.html#loss-functions) ( something like `nn.CrossEntropyLoss`) and [the optimizer](http://pytorch.org/docs/master/optim.html) (typically `optim.SGD` or `optim.Adam`).\n",
    "\n",
    "Then write the training code. Remember the training pass is a fairly straightforward process:\n",
    "\n",
    "* Make a forward pass through the network to get the logits \n",
    "* Use the logits to calculate the loss\n",
    "* Perform a backward pass through the network with `loss.backward()` to calculate the gradients\n",
    "* Take a step with the optimizer to update the weights\n",
    "\n",
    "By adjusting the hyperparameters (hidden units, learning rate, etc), you should be able to get the training loss below 0.4."
   ]
  },
  {
   "cell_type": "code",
   "execution_count": 16,
   "metadata": {},
   "outputs": [],
   "source": [
    "#?torch.optim.Adam"
   ]
  },
  {
   "cell_type": "code",
   "execution_count": 17,
   "metadata": {},
   "outputs": [],
   "source": [
    "# Create the network, define the criterion and optimizer\n",
    "# The network is already created\n",
    "\n",
    "criterion = nn.NLLLoss()\n",
    "optimizer = torch.optim.Adam(model.parameters(), lr=0.001)"
   ]
  },
  {
   "cell_type": "code",
   "execution_count": 18,
   "metadata": {},
   "outputs": [
    {
     "name": "stdout",
     "output_type": "stream",
     "text": [
      "Training epoch: 0\n",
      "Epoch 0 loss: 487.12376214563847. Elapsed time: 22.691822052001953 seconds\n",
      "Training epoch: 1\n",
      "Epoch 1 loss: 352.850837379694. Elapsed time: 31.788485050201416 seconds\n",
      "Training epoch: 2\n",
      "Epoch 2 loss: 317.4050965681672. Elapsed time: 25.474083185195923 seconds\n",
      "Training epoch: 3\n",
      "Epoch 3 loss: 293.82992678135633. Elapsed time: 25.096102952957153 seconds\n",
      "Training epoch: 4\n",
      "Epoch 4 loss: 274.7985078766942. Elapsed time: 23.523957014083862 seconds\n",
      "Training epoch: 5\n",
      "Epoch 5 loss: 262.2206542044878. Elapsed time: 20.538766145706177 seconds\n",
      "Training epoch: 6\n",
      "Epoch 6 loss: 247.83076345175505. Elapsed time: 21.04370903968811 seconds\n",
      "Training epoch: 7\n",
      "Epoch 7 loss: 235.11701937764883. Elapsed time: 20.26299285888672 seconds\n",
      "Training epoch: 8\n",
      "Epoch 8 loss: 225.041059050709. Elapsed time: 20.530213117599487 seconds\n",
      "Training epoch: 9\n",
      "Epoch 9 loss: 215.2530320957303. Elapsed time: 20.693499088287354 seconds\n"
     ]
    }
   ],
   "source": [
    "# Train the network here\n",
    "from time import time\n",
    "n_epochs = 10\n",
    "\n",
    "for e in range(n_epochs):\n",
    "    print('Training epoch: {}'.format(e))\n",
    "    epoch_loss = 0\n",
    "    tic = time()\n",
    "    for images, labels in trainloader:\n",
    "        # Flatten the images batch\n",
    "        images = images.view(images.shape[0], -1)\n",
    "        \n",
    "        # Remember to reinitialize the gradient\n",
    "        optimizer.zero_grad()\n",
    "        \n",
    "        # Train\n",
    "        output = model(images)\n",
    "        loss = criterion(output, labels)\n",
    "        loss.backward()\n",
    "        optimizer.step()\n",
    "        epoch_loss += loss.item()\n",
    "    toc = time()\n",
    "    print('Epoch {} loss: {}. Elapsed time: {} seconds'.format(e, epoch_loss, (toc-tic)))"
   ]
  },
  {
   "cell_type": "code",
   "execution_count": 23,
   "metadata": {},
   "outputs": [
    {
     "data": {
      "image/png": "[encoded data removed]",
      "text/plain": [
       "<Figure size 432x648 with 2 Axes>"
      ]
     },
     "metadata": {
      "image/png": {
       "height": 206,
       "width": 423
      },
      "needs_background": "light"
     },
     "output_type": "display_data"
    }
   ],
   "source": [
    "%matplotlib inline\n",
    "%config InlineBackend.figure_format = 'retina'\n",
    "\n",
    "import helper\n",
    "\n",
    "# Test out your network!\n",
    "\n",
    "dataiter = iter(testloader)\n",
    "images, labels = dataiter.next()\n",
    "img = images[0]\n",
    "# Convert 2D image to 1D vector\n",
    "img = img.resize_(1, 784)\n",
    "\n",
    "# TODO: Calculate the class probabilities (softmax) for img\n",
    "ps = torch.exp(model(img))\n",
    "\n",
    "# Plot the image and probabilities\n",
    "helper.view_classify(img.resize_(1, 28, 28), ps, version='Fashion')"
   ]
  },
  {
   "cell_type": "code",
   "execution_count": null,
   "metadata": {},
   "outputs": [],
   "source": []
  }
 ],
 "metadata": {
  "kernelspec": {
   "display_name": "deep",
   "language": "python",
   "name": "deep"
  },
  "language_info": {
   "codemirror_mode": {
    "name": "ipython",
    "version": 3
   },
   "file_extension": ".py",
   "mimetype": "text/x-python",
   "name": "python",
   "nbconvert_exporter": "python",
   "pygments_lexer": "ipython3",
   "version": "3.7.3"
  }
 },
 "nbformat": 4,
 "nbformat_minor": 2
}
