{
 "cells": [
  {
   "cell_type": "code",
   "execution_count": 1,
   "metadata": {},
   "outputs": [],
   "source": [
    "import os\n",
    "import shutil\n",
    "import re"
   ]
  },
  {
   "cell_type": "code",
   "execution_count": 2,
   "metadata": {},
   "outputs": [],
   "source": [
    "SRC = './data/dogs-vs-cats/train'\n",
    "DST_CATS = './data/Cat_Dog_data/train/cat'\n",
    "DST_DOGS = './data/Cat_Dog_data/train/dog'"
   ]
  },
  {
   "cell_type": "code",
   "execution_count": 3,
   "metadata": {},
   "outputs": [],
   "source": [
    "def move_cats_and_dogs(src, dst_cats, dst_dogs):\n",
    "    cats = [re.match('cat.*\\.jpg', name).group(0) \n",
    "            for name in os.listdir(src)\n",
    "            if re.match('cat.*\\.jpg', name) is not None]\n",
    "    dogs = [re.match('dog.*\\.jpg', name).group(0) \n",
    "            for name in os.listdir(src)\n",
    "            if re.match('dog.*\\.jpg', name) is not None]\n",
    "    print(f'We have {len(cats)} cats and {len(dogs)} dogs.')\n",
    "    if not os.path.exists(DST_CATS):\n",
    "        os.makedirs(DST_CATS)\n",
    "    if not os.path.exists(DST_DOGS):\n",
    "        os.makedirs(DST_DOGS)\n",
    "        \n",
    "    for cat in cats:\n",
    "        shutil.move(os.path.join(SRC, cat), DST_CATS)\n",
    "    for dog in dogs:\n",
    "        shutil.move(os.path.join(SRC, dog), DST_DOGS)\n",
    "    \n",
    "    cats = [re.match('cat.*\\.jpg', name).group(0) \n",
    "            for name in os.listdir(SRC)\n",
    "            if re.match('cat.*\\.jpg', name) is not None]\n",
    "    dogs = [re.match('dog.*\\.jpg', name).group(0) \n",
    "            for name in os.listdir(SRC)\n",
    "            if re.match('dog.*\\.jpg', name) is not None]\n",
    "    print(f'Now we have {len(cats)} cats and {len(dogs)} dogs in the source.')\n",
    "    \n",
    "    cats = [re.match('cat.*\\.jpg', name).group(0) \n",
    "            for name in os.listdir(DST_CATS)\n",
    "            if re.match('cat.*\\.jpg', name) is not None]\n",
    "    dogs = [re.match('dog.*\\.jpg', name).group(0) \n",
    "            for name in os.listdir(DST_DOGS)\n",
    "            if re.match('dog.*\\.jpg', name) is not None]\n",
    "    print(f'But we have {len(cats)} cats and {len(dogs)} dogs in the right destinations.')"
   ]
  },
  {
   "cell_type": "code",
   "execution_count": 5,
   "metadata": {},
   "outputs": [
    {
     "name": "stdout",
     "output_type": "stream",
     "text": [
      "We have 12500 cats and 12500 dogs.\n",
      "Now we have 0 cats and 0 dogs in the source.\n",
      "But we have 12500 cats and 12500 dogs in the right destinations.\n"
     ]
    }
   ],
   "source": [
    "move_cats_and_dogs(SRC, DST_CATS, DST_DOGS)"
   ]
  },
  {
   "cell_type": "markdown",
   "metadata": {
    "collapsed": true
   },
   "source": [
    "## Now, the test set"
   ]
  },
  {
   "cell_type": "code",
   "execution_count": 6,
   "metadata": {},
   "outputs": [],
   "source": [
    "SRC_TEST = './data/dogs-vs-cats/test1'\n",
    "DST_TEST = './data/Cat_Dog_data/test/all'"
   ]
  },
  {
   "cell_type": "code",
   "execution_count": 7,
   "metadata": {},
   "outputs": [],
   "source": [
    "if not os.path.exists(DST_TEST):\n",
    "    os.makedirs(DST_TEST)\n",
    "for file in os.listdir(SRC_TEST):\n",
    "    shutil.move(os.path.join(SRC_TEST, file), DST_TEST)"
   ]
  },
  {
   "cell_type": "code",
   "execution_count": null,
   "metadata": {
    "collapsed": true
   },
   "outputs": [],
   "source": []
  }
 ],
 "metadata": {
  "kernelspec": {
   "display_name": "Python 3",
   "language": "python",
   "name": "python3"
  },
  "language_info": {
   "codemirror_mode": {
    "name": "ipython",
    "version": 3
   },
   "file_extension": ".py",
   "mimetype": "text/x-python",
   "name": "python",
   "nbconvert_exporter": "python",
   "pygments_lexer": "ipython3",
   "version": "3.7.1"
  }
 },
 "nbformat": 4,
 "nbformat_minor": 2
}
